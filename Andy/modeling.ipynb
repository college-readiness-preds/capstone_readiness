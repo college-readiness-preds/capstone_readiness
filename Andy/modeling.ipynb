{
 "cells": [
  {
   "cell_type": "code",
   "execution_count": 1,
   "id": "f58fa0e3",
   "metadata": {},
   "outputs": [],
   "source": [
    "import numpy as np\n",
    "import pandas as pd\n",
    "import prepare as pr\n",
    "import matplotlib.pyplot as plt\n",
    "import seaborn as sns\n",
    "import explore as ex\n",
    "\n",
    "from sklearn.feature_selection import SelectKBest, f_regression\n",
    "import sklearn.preprocessing\n",
    "from sklearn.metrics import mean_squared_error\n",
    "from sklearn.linear_model import LinearRegression, LassoLars, TweedieRegressor\n",
    "from sklearn.preprocessing import PolynomialFeatures\n",
    "\n",
    "import warnings"
   ]
  },
  {
   "cell_type": "code",
   "execution_count": 2,
   "id": "a80035a2",
   "metadata": {},
   "outputs": [],
   "source": [
    "df=pr.clean_df()"
   ]
  },
  {
   "cell_type": "code",
   "execution_count": 3,
   "id": "c6643bb1",
   "metadata": {},
   "outputs": [
    {
     "data": {
      "text/plain": [
       "(1391, 16)"
      ]
     },
     "execution_count": 3,
     "metadata": {},
     "output_type": "execute_result"
    }
   ],
   "source": [
    "df.shape"
   ]
  },
  {
   "cell_type": "code",
   "execution_count": 4,
   "id": "e04df21e",
   "metadata": {},
   "outputs": [],
   "source": [
    "train, val, test=ex.tts(df)"
   ]
  },
  {
   "cell_type": "code",
   "execution_count": 59,
   "id": "4b3c0ca6",
   "metadata": {},
   "outputs": [
    {
     "data": {
      "text/html": [
       "<div>\n",
       "<style scoped>\n",
       "    .dataframe tbody tr th:only-of-type {\n",
       "        vertical-align: middle;\n",
       "    }\n",
       "\n",
       "    .dataframe tbody tr th {\n",
       "        vertical-align: top;\n",
       "    }\n",
       "\n",
       "    .dataframe thead th {\n",
       "        text-align: right;\n",
       "    }\n",
       "</style>\n",
       "<table border=\"1\" class=\"dataframe\">\n",
       "  <thead>\n",
       "    <tr style=\"text-align: right;\">\n",
       "      <th></th>\n",
       "      <th>school_id</th>\n",
       "      <th>english_1</th>\n",
       "      <th>english_2</th>\n",
       "      <th>algebra</th>\n",
       "      <th>biology</th>\n",
       "      <th>history</th>\n",
       "      <th>bilingual_or_english_learner</th>\n",
       "      <th>econdis</th>\n",
       "      <th>salary</th>\n",
       "      <th>teacher_exp_6to10</th>\n",
       "      <th>extracurricular_expend</th>\n",
       "      <th>total_expend</th>\n",
       "      <th>student_teacher_ratio</th>\n",
       "      <th>teacher_exp_0to5</th>\n",
       "      <th>teacher_exp_11_plus</th>\n",
       "      <th>high_edu</th>\n",
       "    </tr>\n",
       "  </thead>\n",
       "  <tbody>\n",
       "    <tr>\n",
       "      <th>404</th>\n",
       "      <td>57905088</td>\n",
       "      <td>98.0</td>\n",
       "      <td>100.0</td>\n",
       "      <td>100.0</td>\n",
       "      <td>100.0</td>\n",
       "      <td>100.0</td>\n",
       "      <td>30.5</td>\n",
       "      <td>87.9</td>\n",
       "      <td>69483.0</td>\n",
       "      <td>26.9</td>\n",
       "      <td>38.0</td>\n",
       "      <td>7558.0</td>\n",
       "      <td>19.2</td>\n",
       "      <td>22.4</td>\n",
       "      <td>50.7</td>\n",
       "      <td>44.8</td>\n",
       "    </tr>\n",
       "    <tr>\n",
       "      <th>429</th>\n",
       "      <td>57912005</td>\n",
       "      <td>45.0</td>\n",
       "      <td>47.0</td>\n",
       "      <td>79.0</td>\n",
       "      <td>94.0</td>\n",
       "      <td>75.0</td>\n",
       "      <td>47.5</td>\n",
       "      <td>85.4</td>\n",
       "      <td>63990.0</td>\n",
       "      <td>20.2</td>\n",
       "      <td>13.0</td>\n",
       "      <td>24531.0</td>\n",
       "      <td>5.9</td>\n",
       "      <td>51.9</td>\n",
       "      <td>27.9</td>\n",
       "      <td>31.1</td>\n",
       "    </tr>\n",
       "    <tr>\n",
       "      <th>621</th>\n",
       "      <td>81902002</td>\n",
       "      <td>69.0</td>\n",
       "      <td>79.0</td>\n",
       "      <td>74.0</td>\n",
       "      <td>86.0</td>\n",
       "      <td>93.0</td>\n",
       "      <td>4.5</td>\n",
       "      <td>53.5</td>\n",
       "      <td>56116.0</td>\n",
       "      <td>5.2</td>\n",
       "      <td>1071.0</td>\n",
       "      <td>9636.0</td>\n",
       "      <td>11.3</td>\n",
       "      <td>29.7</td>\n",
       "      <td>65.2</td>\n",
       "      <td>22.8</td>\n",
       "    </tr>\n",
       "    <tr>\n",
       "      <th>1090</th>\n",
       "      <td>161918001</td>\n",
       "      <td>81.0</td>\n",
       "      <td>71.0</td>\n",
       "      <td>63.0</td>\n",
       "      <td>82.0</td>\n",
       "      <td>89.0</td>\n",
       "      <td>0.0</td>\n",
       "      <td>34.1</td>\n",
       "      <td>54056.0</td>\n",
       "      <td>13.0</td>\n",
       "      <td>2818.0</td>\n",
       "      <td>21893.0</td>\n",
       "      <td>8.3</td>\n",
       "      <td>28.2</td>\n",
       "      <td>58.8</td>\n",
       "      <td>23.7</td>\n",
       "    </tr>\n",
       "    <tr>\n",
       "      <th>598</th>\n",
       "      <td>75908001</td>\n",
       "      <td>90.0</td>\n",
       "      <td>90.0</td>\n",
       "      <td>96.0</td>\n",
       "      <td>100.0</td>\n",
       "      <td>96.0</td>\n",
       "      <td>2.8</td>\n",
       "      <td>29.2</td>\n",
       "      <td>46058.0</td>\n",
       "      <td>20.5</td>\n",
       "      <td>532.0</td>\n",
       "      <td>10824.0</td>\n",
       "      <td>7.3</td>\n",
       "      <td>45.2</td>\n",
       "      <td>34.2</td>\n",
       "      <td>20.5</td>\n",
       "    </tr>\n",
       "  </tbody>\n",
       "</table>\n",
       "</div>"
      ],
      "text/plain": [
       "      school_id  english_1  english_2  algebra  biology  history  \\\n",
       "404    57905088       98.0      100.0    100.0    100.0    100.0   \n",
       "429    57912005       45.0       47.0     79.0     94.0     75.0   \n",
       "621    81902002       69.0       79.0     74.0     86.0     93.0   \n",
       "1090  161918001       81.0       71.0     63.0     82.0     89.0   \n",
       "598    75908001       90.0       90.0     96.0    100.0     96.0   \n",
       "\n",
       "      bilingual_or_english_learner  econdis   salary  teacher_exp_6to10  \\\n",
       "404                           30.5     87.9  69483.0               26.9   \n",
       "429                           47.5     85.4  63990.0               20.2   \n",
       "621                            4.5     53.5  56116.0                5.2   \n",
       "1090                           0.0     34.1  54056.0               13.0   \n",
       "598                            2.8     29.2  46058.0               20.5   \n",
       "\n",
       "      extracurricular_expend  total_expend  student_teacher_ratio  \\\n",
       "404                     38.0        7558.0                   19.2   \n",
       "429                     13.0       24531.0                    5.9   \n",
       "621                   1071.0        9636.0                   11.3   \n",
       "1090                  2818.0       21893.0                    8.3   \n",
       "598                    532.0       10824.0                    7.3   \n",
       "\n",
       "      teacher_exp_0to5  teacher_exp_11_plus  high_edu  \n",
       "404               22.4                 50.7      44.8  \n",
       "429               51.9                 27.9      31.1  \n",
       "621               29.7                 65.2      22.8  \n",
       "1090              28.2                 58.8      23.7  \n",
       "598               45.2                 34.2      20.5  "
      ]
     },
     "execution_count": 59,
     "metadata": {},
     "output_type": "execute_result"
    }
   ],
   "source": [
    "train.head()"
   ]
  },
  {
   "cell_type": "markdown",
   "id": "5927f985",
   "metadata": {},
   "source": [
    "### Run for biology"
   ]
  },
  {
   "cell_type": "code",
   "execution_count": 60,
   "id": "2c9c8fe2",
   "metadata": {},
   "outputs": [],
   "source": [
    "X_train=train.drop(columns=['biology', 'english_1', 'english_2', 'algebra', 'history', 'school_id'])\n",
    "y_train=pd.DataFrame(train['biology'])\n",
    "\n",
    "X_val=val.drop(columns=['biology', 'english_1', 'english_2', 'algebra', 'history', 'school_id'])\n",
    "y_val=pd.DataFrame(val['biology'])\n",
    "\n",
    "X_test=test.drop(columns=['biology', 'english_1', 'english_2', 'algebra', 'history', 'school_id'])\n",
    "y_test=pd.DataFrame(test['biology'])"
   ]
  },
  {
   "cell_type": "code",
   "execution_count": 61,
   "id": "7b989766",
   "metadata": {},
   "outputs": [],
   "source": [
    "scaler=sklearn.preprocessing.MinMaxScaler()"
   ]
  },
  {
   "cell_type": "code",
   "execution_count": 62,
   "id": "7bc74ea8",
   "metadata": {},
   "outputs": [],
   "source": [
    "num_cols = ['bilingual_or_english_learner',\n",
    "            'econdis',\n",
    "            'salary',\n",
    "            'teacher_exp_6to10',\n",
    "            'extracurricular_expend',\n",
    "            'total_expend',\n",
    "            'student_teacher_ratio',\n",
    "            'teacher_exp_0to5',\n",
    "            'teacher_exp_11_plus',\n",
    "            'high_edu']\n",
    "scaler.fit(X_train)\n",
    "\n",
    "X_train[num_cols] = scaler.transform(X_train[num_cols])\n",
    "X_val[num_cols] = scaler.transform(X_val[num_cols])\n",
    "X_test[num_cols] = scaler.transform(X_test[num_cols])"
   ]
  },
  {
   "cell_type": "code",
   "execution_count": 63,
   "id": "7b7ccc94",
   "metadata": {},
   "outputs": [
    {
     "data": {
      "text/html": [
       "<div>\n",
       "<style scoped>\n",
       "    .dataframe tbody tr th:only-of-type {\n",
       "        vertical-align: middle;\n",
       "    }\n",
       "\n",
       "    .dataframe tbody tr th {\n",
       "        vertical-align: top;\n",
       "    }\n",
       "\n",
       "    .dataframe thead th {\n",
       "        text-align: right;\n",
       "    }\n",
       "</style>\n",
       "<table border=\"1\" class=\"dataframe\">\n",
       "  <thead>\n",
       "    <tr style=\"text-align: right;\">\n",
       "      <th></th>\n",
       "      <th>bilingual_or_english_learner</th>\n",
       "      <th>econdis</th>\n",
       "      <th>salary</th>\n",
       "      <th>teacher_exp_6to10</th>\n",
       "      <th>extracurricular_expend</th>\n",
       "      <th>total_expend</th>\n",
       "      <th>student_teacher_ratio</th>\n",
       "      <th>teacher_exp_0to5</th>\n",
       "      <th>teacher_exp_11_plus</th>\n",
       "      <th>high_edu</th>\n",
       "    </tr>\n",
       "  </thead>\n",
       "  <tbody>\n",
       "    <tr>\n",
       "      <th>404</th>\n",
       "      <td>0.306225</td>\n",
       "      <td>0.878758</td>\n",
       "      <td>0.840700</td>\n",
       "      <td>0.471103</td>\n",
       "      <td>0.010898</td>\n",
       "      <td>0.054828</td>\n",
       "      <td>0.543046</td>\n",
       "      <td>0.224</td>\n",
       "      <td>0.507</td>\n",
       "      <td>0.557908</td>\n",
       "    </tr>\n",
       "    <tr>\n",
       "      <th>429</th>\n",
       "      <td>0.476908</td>\n",
       "      <td>0.853707</td>\n",
       "      <td>0.723245</td>\n",
       "      <td>0.353765</td>\n",
       "      <td>0.003728</td>\n",
       "      <td>0.313039</td>\n",
       "      <td>0.102649</td>\n",
       "      <td>0.519</td>\n",
       "      <td>0.279</td>\n",
       "      <td>0.387298</td>\n",
       "    </tr>\n",
       "    <tr>\n",
       "      <th>621</th>\n",
       "      <td>0.045181</td>\n",
       "      <td>0.534068</td>\n",
       "      <td>0.554878</td>\n",
       "      <td>0.091068</td>\n",
       "      <td>0.307141</td>\n",
       "      <td>0.086441</td>\n",
       "      <td>0.281457</td>\n",
       "      <td>0.297</td>\n",
       "      <td>0.652</td>\n",
       "      <td>0.283935</td>\n",
       "    </tr>\n",
       "    <tr>\n",
       "      <th>1090</th>\n",
       "      <td>0.000000</td>\n",
       "      <td>0.339679</td>\n",
       "      <td>0.510830</td>\n",
       "      <td>0.227671</td>\n",
       "      <td>0.808145</td>\n",
       "      <td>0.272907</td>\n",
       "      <td>0.182119</td>\n",
       "      <td>0.282</td>\n",
       "      <td>0.588</td>\n",
       "      <td>0.295143</td>\n",
       "    </tr>\n",
       "    <tr>\n",
       "      <th>598</th>\n",
       "      <td>0.028112</td>\n",
       "      <td>0.290581</td>\n",
       "      <td>0.339812</td>\n",
       "      <td>0.359019</td>\n",
       "      <td>0.152567</td>\n",
       "      <td>0.104514</td>\n",
       "      <td>0.149007</td>\n",
       "      <td>0.452</td>\n",
       "      <td>0.342</td>\n",
       "      <td>0.255293</td>\n",
       "    </tr>\n",
       "  </tbody>\n",
       "</table>\n",
       "</div>"
      ],
      "text/plain": [
       "      bilingual_or_english_learner   econdis    salary  teacher_exp_6to10  \\\n",
       "404                       0.306225  0.878758  0.840700           0.471103   \n",
       "429                       0.476908  0.853707  0.723245           0.353765   \n",
       "621                       0.045181  0.534068  0.554878           0.091068   \n",
       "1090                      0.000000  0.339679  0.510830           0.227671   \n",
       "598                       0.028112  0.290581  0.339812           0.359019   \n",
       "\n",
       "      extracurricular_expend  total_expend  student_teacher_ratio  \\\n",
       "404                 0.010898      0.054828               0.543046   \n",
       "429                 0.003728      0.313039               0.102649   \n",
       "621                 0.307141      0.086441               0.281457   \n",
       "1090                0.808145      0.272907               0.182119   \n",
       "598                 0.152567      0.104514               0.149007   \n",
       "\n",
       "      teacher_exp_0to5  teacher_exp_11_plus  high_edu  \n",
       "404              0.224                0.507  0.557908  \n",
       "429              0.519                0.279  0.387298  \n",
       "621              0.297                0.652  0.283935  \n",
       "1090             0.282                0.588  0.295143  \n",
       "598              0.452                0.342  0.255293  "
      ]
     },
     "execution_count": 63,
     "metadata": {},
     "output_type": "execute_result"
    }
   ],
   "source": [
    "X_train.head()"
   ]
  },
  {
   "cell_type": "code",
   "execution_count": 41,
   "id": "14c53962",
   "metadata": {},
   "outputs": [],
   "source": [
    "def get_baseline_biology(t, v):\n",
    "    '''\n",
    "    setting a mean and median baseline value for train and validate sets\n",
    "    '''\n",
    "    t['base_med']=t['biology'].median()\n",
    "    t['Baseline Mean']=t['biology'].mean()\n",
    "\n",
    "    v['base_med']=v['biology'].median()\n",
    "    v['Baseline Mean']=v['biology'].mean()\n",
    "    '''\n",
    "    calculating RMSE for train and validate baselines\n",
    "    '''\n",
    "    med=mean_squared_error(t['biology'], t['base_med'], squared=False)\n",
    "    mea=mean_squared_error(t['biology'], t['Baseline Mean'], squared=False)\n",
    "\n",
    "    med_v=mean_squared_error(v['biology'], v['base_med'], squared=False)\n",
    "    mea_v=mean_squared_error(v['biology'], v['Baseline Mean'], squared=False)\n",
    "    '''\n",
    "    Printing results\n",
    "    '''\n",
    "    print(f'Train RMSE for the median baseline is {med}')\n",
    "    print(f'Train RMSE for the mean baseline is {mea}')\n",
    "    print('\\n')\n",
    "    print(f'Validate RMSE for the median baseline is {med_v}')\n",
    "    print(f'Validate RMSE for the mean baseline is {mea_v}')\n",
    "    '''\n",
    "    dropping the higher RMSE\n",
    "    '''\n",
    "    t=t.drop(columns=['base_med'])\n",
    "    v=v.drop(columns=['base_med'])\n",
    "    return t, v"
   ]
  },
  {
   "cell_type": "code",
   "execution_count": 42,
   "id": "ba44f3ba",
   "metadata": {
    "scrolled": false
   },
   "outputs": [
    {
     "name": "stdout",
     "output_type": "stream",
     "text": [
      "Train RMSE for the median baseline is 14.138863285740246\n",
      "Train RMSE for the mean baseline is 13.76826771391201\n",
      "\n",
      "\n",
      "Validate RMSE for the median baseline is 13.858459013452574\n",
      "Validate RMSE for the mean baseline is 13.354410750492981\n"
     ]
    }
   ],
   "source": [
    "train, val=get_baseline_biology(train, val)"
   ]
  },
  {
   "cell_type": "code",
   "execution_count": 43,
   "id": "cd5ff897",
   "metadata": {},
   "outputs": [],
   "source": [
    "def get_baseline_english_1(t, v):\n",
    "    '''\n",
    "    setting a mean and median baseline value for train and validate sets\n",
    "    '''\n",
    "    t['base_med']=t['english_1'].median()\n",
    "    t['Baseline Mean']=t['english_1'].mean()\n",
    "\n",
    "    v['base_med']=v['english_1'].median()\n",
    "    v['Baseline Mean']=v['english_1'].mean()\n",
    "    '''\n",
    "    calculating RMSE for train and validate baselines\n",
    "    '''\n",
    "    med=mean_squared_error(t['english_1'], t['base_med'], squared=False)\n",
    "    mea=mean_squared_error(t['english_1'], t['Baseline Mean'], squared=False)\n",
    "\n",
    "    med_v=mean_squared_error(v['english_1'], v['base_med'], squared=False)\n",
    "    mea_v=mean_squared_error(v['english_1'], v['Baseline Mean'], squared=False)\n",
    "    '''\n",
    "    Printing results\n",
    "    '''\n",
    "    print(f'Train RMSE for the median baseline is {med}')\n",
    "    print(f'Train RMSE for the mean baseline is {mea}')\n",
    "    print('\\n')\n",
    "    print(f'Validate RMSE for the median baseline is {med_v}')\n",
    "    print(f'Validate RMSE for the mean baseline is {mea_v}')\n",
    "    '''\n",
    "    dropping the higher RMSE\n",
    "    '''\n",
    "    t=t.drop(columns=['base_med'])\n",
    "    v=v.drop(columns=['base_med'])\n",
    "    return t, v"
   ]
  },
  {
   "cell_type": "code",
   "execution_count": 45,
   "id": "e21eaf46",
   "metadata": {},
   "outputs": [
    {
     "name": "stdout",
     "output_type": "stream",
     "text": [
      "Train RMSE for the median baseline is 17.643280506858744\n",
      "Train RMSE for the mean baseline is 17.621104601122024\n",
      "\n",
      "\n",
      "Validate RMSE for the median baseline is 17.664792956036614\n",
      "Validate RMSE for the mean baseline is 17.625561344465574\n"
     ]
    }
   ],
   "source": [
    "train, val=get_baseline_english_1(train, val)"
   ]
  },
  {
   "cell_type": "code",
   "execution_count": 46,
   "id": "50dded4f",
   "metadata": {},
   "outputs": [
    {
     "data": {
      "text/html": [
       "<div>\n",
       "<style scoped>\n",
       "    .dataframe tbody tr th:only-of-type {\n",
       "        vertical-align: middle;\n",
       "    }\n",
       "\n",
       "    .dataframe tbody tr th {\n",
       "        vertical-align: top;\n",
       "    }\n",
       "\n",
       "    .dataframe thead th {\n",
       "        text-align: right;\n",
       "    }\n",
       "</style>\n",
       "<table border=\"1\" class=\"dataframe\">\n",
       "  <thead>\n",
       "    <tr style=\"text-align: right;\">\n",
       "      <th></th>\n",
       "      <th>school_id</th>\n",
       "      <th>english_1</th>\n",
       "      <th>english_2</th>\n",
       "      <th>algebra</th>\n",
       "      <th>biology</th>\n",
       "      <th>history</th>\n",
       "      <th>bilingual_or_english_learner</th>\n",
       "      <th>econdis</th>\n",
       "      <th>salary</th>\n",
       "      <th>teacher_exp_6to10</th>\n",
       "      <th>extracurricular_expend</th>\n",
       "      <th>total_expend</th>\n",
       "      <th>student_teacher_ratio</th>\n",
       "      <th>teacher_exp_0to5</th>\n",
       "      <th>teacher_exp_11_plus</th>\n",
       "      <th>high_edu</th>\n",
       "      <th>Baseline Mean</th>\n",
       "    </tr>\n",
       "  </thead>\n",
       "  <tbody>\n",
       "    <tr>\n",
       "      <th>404</th>\n",
       "      <td>57905088</td>\n",
       "      <td>98.0</td>\n",
       "      <td>100.0</td>\n",
       "      <td>100.0</td>\n",
       "      <td>100.0</td>\n",
       "      <td>100.0</td>\n",
       "      <td>30.5</td>\n",
       "      <td>87.9</td>\n",
       "      <td>69483.0</td>\n",
       "      <td>26.9</td>\n",
       "      <td>38.0</td>\n",
       "      <td>7558.0</td>\n",
       "      <td>19.2</td>\n",
       "      <td>22.4</td>\n",
       "      <td>50.7</td>\n",
       "      <td>44.8</td>\n",
       "      <td>67.115681</td>\n",
       "    </tr>\n",
       "    <tr>\n",
       "      <th>429</th>\n",
       "      <td>57912005</td>\n",
       "      <td>45.0</td>\n",
       "      <td>47.0</td>\n",
       "      <td>79.0</td>\n",
       "      <td>94.0</td>\n",
       "      <td>75.0</td>\n",
       "      <td>47.5</td>\n",
       "      <td>85.4</td>\n",
       "      <td>63990.0</td>\n",
       "      <td>20.2</td>\n",
       "      <td>13.0</td>\n",
       "      <td>24531.0</td>\n",
       "      <td>5.9</td>\n",
       "      <td>51.9</td>\n",
       "      <td>27.9</td>\n",
       "      <td>31.1</td>\n",
       "      <td>67.115681</td>\n",
       "    </tr>\n",
       "    <tr>\n",
       "      <th>621</th>\n",
       "      <td>81902002</td>\n",
       "      <td>69.0</td>\n",
       "      <td>79.0</td>\n",
       "      <td>74.0</td>\n",
       "      <td>86.0</td>\n",
       "      <td>93.0</td>\n",
       "      <td>4.5</td>\n",
       "      <td>53.5</td>\n",
       "      <td>56116.0</td>\n",
       "      <td>5.2</td>\n",
       "      <td>1071.0</td>\n",
       "      <td>9636.0</td>\n",
       "      <td>11.3</td>\n",
       "      <td>29.7</td>\n",
       "      <td>65.2</td>\n",
       "      <td>22.8</td>\n",
       "      <td>67.115681</td>\n",
       "    </tr>\n",
       "    <tr>\n",
       "      <th>1090</th>\n",
       "      <td>161918001</td>\n",
       "      <td>81.0</td>\n",
       "      <td>71.0</td>\n",
       "      <td>63.0</td>\n",
       "      <td>82.0</td>\n",
       "      <td>89.0</td>\n",
       "      <td>0.0</td>\n",
       "      <td>34.1</td>\n",
       "      <td>54056.0</td>\n",
       "      <td>13.0</td>\n",
       "      <td>2818.0</td>\n",
       "      <td>21893.0</td>\n",
       "      <td>8.3</td>\n",
       "      <td>28.2</td>\n",
       "      <td>58.8</td>\n",
       "      <td>23.7</td>\n",
       "      <td>67.115681</td>\n",
       "    </tr>\n",
       "    <tr>\n",
       "      <th>598</th>\n",
       "      <td>75908001</td>\n",
       "      <td>90.0</td>\n",
       "      <td>90.0</td>\n",
       "      <td>96.0</td>\n",
       "      <td>100.0</td>\n",
       "      <td>96.0</td>\n",
       "      <td>2.8</td>\n",
       "      <td>29.2</td>\n",
       "      <td>46058.0</td>\n",
       "      <td>20.5</td>\n",
       "      <td>532.0</td>\n",
       "      <td>10824.0</td>\n",
       "      <td>7.3</td>\n",
       "      <td>45.2</td>\n",
       "      <td>34.2</td>\n",
       "      <td>20.5</td>\n",
       "      <td>67.115681</td>\n",
       "    </tr>\n",
       "  </tbody>\n",
       "</table>\n",
       "</div>"
      ],
      "text/plain": [
       "      school_id  english_1  english_2  algebra  biology  history  \\\n",
       "404    57905088       98.0      100.0    100.0    100.0    100.0   \n",
       "429    57912005       45.0       47.0     79.0     94.0     75.0   \n",
       "621    81902002       69.0       79.0     74.0     86.0     93.0   \n",
       "1090  161918001       81.0       71.0     63.0     82.0     89.0   \n",
       "598    75908001       90.0       90.0     96.0    100.0     96.0   \n",
       "\n",
       "      bilingual_or_english_learner  econdis   salary  teacher_exp_6to10  \\\n",
       "404                           30.5     87.9  69483.0               26.9   \n",
       "429                           47.5     85.4  63990.0               20.2   \n",
       "621                            4.5     53.5  56116.0                5.2   \n",
       "1090                           0.0     34.1  54056.0               13.0   \n",
       "598                            2.8     29.2  46058.0               20.5   \n",
       "\n",
       "      extracurricular_expend  total_expend  student_teacher_ratio  \\\n",
       "404                     38.0        7558.0                   19.2   \n",
       "429                     13.0       24531.0                    5.9   \n",
       "621                   1071.0        9636.0                   11.3   \n",
       "1090                  2818.0       21893.0                    8.3   \n",
       "598                    532.0       10824.0                    7.3   \n",
       "\n",
       "      teacher_exp_0to5  teacher_exp_11_plus  high_edu  Baseline Mean  \n",
       "404               22.4                 50.7      44.8      67.115681  \n",
       "429               51.9                 27.9      31.1      67.115681  \n",
       "621               29.7                 65.2      22.8      67.115681  \n",
       "1090              28.2                 58.8      23.7      67.115681  \n",
       "598               45.2                 34.2      20.5      67.115681  "
      ]
     },
     "execution_count": 46,
     "metadata": {},
     "output_type": "execute_result"
    }
   ],
   "source": [
    "train.head()"
   ]
  },
  {
   "cell_type": "markdown",
   "id": "74ac7cf8",
   "metadata": {},
   "source": [
    "# Select K Best"
   ]
  },
  {
   "cell_type": "code",
   "execution_count": 12,
   "id": "73274559",
   "metadata": {},
   "outputs": [],
   "source": [
    "f_selector = SelectKBest(f_regression, k=4)"
   ]
  },
  {
   "cell_type": "code",
   "execution_count": 13,
   "id": "8ea4bf59",
   "metadata": {
    "scrolled": true
   },
   "outputs": [
    {
     "name": "stderr",
     "output_type": "stream",
     "text": [
      "/opt/homebrew/anaconda3/lib/python3.9/site-packages/sklearn/utils/validation.py:1111: DataConversionWarning: A column-vector y was passed when a 1d array was expected. Please change the shape of y to (n_samples, ), for example using ravel().\n",
      "  y = column_or_1d(y, warn=True)\n"
     ]
    },
    {
     "data": {
      "text/html": [
       "<style>#sk-container-id-1 {color: black;background-color: white;}#sk-container-id-1 pre{padding: 0;}#sk-container-id-1 div.sk-toggleable {background-color: white;}#sk-container-id-1 label.sk-toggleable__label {cursor: pointer;display: block;width: 100%;margin-bottom: 0;padding: 0.3em;box-sizing: border-box;text-align: center;}#sk-container-id-1 label.sk-toggleable__label-arrow:before {content: \"▸\";float: left;margin-right: 0.25em;color: #696969;}#sk-container-id-1 label.sk-toggleable__label-arrow:hover:before {color: black;}#sk-container-id-1 div.sk-estimator:hover label.sk-toggleable__label-arrow:before {color: black;}#sk-container-id-1 div.sk-toggleable__content {max-height: 0;max-width: 0;overflow: hidden;text-align: left;background-color: #f0f8ff;}#sk-container-id-1 div.sk-toggleable__content pre {margin: 0.2em;color: black;border-radius: 0.25em;background-color: #f0f8ff;}#sk-container-id-1 input.sk-toggleable__control:checked~div.sk-toggleable__content {max-height: 200px;max-width: 100%;overflow: auto;}#sk-container-id-1 input.sk-toggleable__control:checked~label.sk-toggleable__label-arrow:before {content: \"▾\";}#sk-container-id-1 div.sk-estimator input.sk-toggleable__control:checked~label.sk-toggleable__label {background-color: #d4ebff;}#sk-container-id-1 div.sk-label input.sk-toggleable__control:checked~label.sk-toggleable__label {background-color: #d4ebff;}#sk-container-id-1 input.sk-hidden--visually {border: 0;clip: rect(1px 1px 1px 1px);clip: rect(1px, 1px, 1px, 1px);height: 1px;margin: -1px;overflow: hidden;padding: 0;position: absolute;width: 1px;}#sk-container-id-1 div.sk-estimator {font-family: monospace;background-color: #f0f8ff;border: 1px dotted black;border-radius: 0.25em;box-sizing: border-box;margin-bottom: 0.5em;}#sk-container-id-1 div.sk-estimator:hover {background-color: #d4ebff;}#sk-container-id-1 div.sk-parallel-item::after {content: \"\";width: 100%;border-bottom: 1px solid gray;flex-grow: 1;}#sk-container-id-1 div.sk-label:hover label.sk-toggleable__label {background-color: #d4ebff;}#sk-container-id-1 div.sk-serial::before {content: \"\";position: absolute;border-left: 1px solid gray;box-sizing: border-box;top: 0;bottom: 0;left: 50%;z-index: 0;}#sk-container-id-1 div.sk-serial {display: flex;flex-direction: column;align-items: center;background-color: white;padding-right: 0.2em;padding-left: 0.2em;position: relative;}#sk-container-id-1 div.sk-item {position: relative;z-index: 1;}#sk-container-id-1 div.sk-parallel {display: flex;align-items: stretch;justify-content: center;background-color: white;position: relative;}#sk-container-id-1 div.sk-item::before, #sk-container-id-1 div.sk-parallel-item::before {content: \"\";position: absolute;border-left: 1px solid gray;box-sizing: border-box;top: 0;bottom: 0;left: 50%;z-index: -1;}#sk-container-id-1 div.sk-parallel-item {display: flex;flex-direction: column;z-index: 1;position: relative;background-color: white;}#sk-container-id-1 div.sk-parallel-item:first-child::after {align-self: flex-end;width: 50%;}#sk-container-id-1 div.sk-parallel-item:last-child::after {align-self: flex-start;width: 50%;}#sk-container-id-1 div.sk-parallel-item:only-child::after {width: 0;}#sk-container-id-1 div.sk-dashed-wrapped {border: 1px dashed gray;margin: 0 0.4em 0.5em 0.4em;box-sizing: border-box;padding-bottom: 0.4em;background-color: white;}#sk-container-id-1 div.sk-label label {font-family: monospace;font-weight: bold;display: inline-block;line-height: 1.2em;}#sk-container-id-1 div.sk-label-container {text-align: center;}#sk-container-id-1 div.sk-container {/* jupyter's `normalize.less` sets `[hidden] { display: none; }` but bootstrap.min.css set `[hidden] { display: none !important; }` so we also need the `!important` here to be able to override the default hidden behavior on the sphinx rendered scikit-learn.org. See: https://github.com/scikit-learn/scikit-learn/issues/21755 */display: inline-block !important;position: relative;}#sk-container-id-1 div.sk-text-repr-fallback {display: none;}</style><div id=\"sk-container-id-1\" class=\"sk-top-container\"><div class=\"sk-text-repr-fallback\"><pre>SelectKBest(k=4, score_func=&lt;function f_regression at 0x159e38b80&gt;)</pre><b>In a Jupyter environment, please rerun this cell to show the HTML representation or trust the notebook. <br />On GitHub, the HTML representation is unable to render, please try loading this page with nbviewer.org.</b></div><div class=\"sk-container\" hidden><div class=\"sk-item\"><div class=\"sk-estimator sk-toggleable\"><input class=\"sk-toggleable__control sk-hidden--visually\" id=\"sk-estimator-id-1\" type=\"checkbox\" checked><label for=\"sk-estimator-id-1\" class=\"sk-toggleable__label sk-toggleable__label-arrow\">SelectKBest</label><div class=\"sk-toggleable__content\"><pre>SelectKBest(k=4, score_func=&lt;function f_regression at 0x159e38b80&gt;)</pre></div></div></div></div></div>"
      ],
      "text/plain": [
       "SelectKBest(k=4, score_func=<function f_regression at 0x159e38b80>)"
      ]
     },
     "execution_count": 13,
     "metadata": {},
     "output_type": "execute_result"
    }
   ],
   "source": [
    "f_selector.fit(X_train, y_train)"
   ]
  },
  {
   "cell_type": "code",
   "execution_count": 14,
   "id": "9f088e9d",
   "metadata": {},
   "outputs": [
    {
     "name": "stdout",
     "output_type": "stream",
     "text": [
      "(778, 10)\n",
      "(778, 4)\n"
     ]
    }
   ],
   "source": [
    "X_reduced = f_selector.transform(X_train)\n",
    "\n",
    "print(X_train.shape)\n",
    "print(X_reduced.shape)"
   ]
  },
  {
   "cell_type": "code",
   "execution_count": 15,
   "id": "108c01ef",
   "metadata": {},
   "outputs": [
    {
     "name": "stdout",
     "output_type": "stream",
     "text": [
      "[ True  True False False False False False  True  True False]\n"
     ]
    }
   ],
   "source": [
    "f_support = f_selector.get_support()\n",
    "\n",
    "print(f_support) "
   ]
  },
  {
   "cell_type": "code",
   "execution_count": 16,
   "id": "0d3b8b9d",
   "metadata": {
    "scrolled": true
   },
   "outputs": [
    {
     "name": "stdout",
     "output_type": "stream",
     "text": [
      "4 selected features\n",
      "['bilingual_or_english_learner', 'econdis', 'teacher_exp_0to5', 'teacher_exp_11_plus']\n"
     ]
    }
   ],
   "source": [
    "f_feature = X_train.loc[:,f_support].columns.tolist()\n",
    "\n",
    "print(str(len(f_feature)), 'selected features')\n",
    "print(f_feature)\n"
   ]
  },
  {
   "cell_type": "markdown",
   "id": "e666014e",
   "metadata": {},
   "source": [
    "# Recursive Feature Elimination"
   ]
  },
  {
   "cell_type": "code",
   "execution_count": 17,
   "id": "3ca828eb",
   "metadata": {},
   "outputs": [],
   "source": [
    "from sklearn.linear_model import LinearRegression\n",
    "from sklearn.feature_selection import RFE"
   ]
  },
  {
   "cell_type": "code",
   "execution_count": 18,
   "id": "977c3046",
   "metadata": {},
   "outputs": [],
   "source": [
    "lm = LinearRegression()"
   ]
  },
  {
   "cell_type": "code",
   "execution_count": 19,
   "id": "f3ba3763",
   "metadata": {},
   "outputs": [],
   "source": [
    "rfe = RFE(lm, n_features_to_select=2)"
   ]
  },
  {
   "cell_type": "code",
   "execution_count": 20,
   "id": "a95a9605",
   "metadata": {},
   "outputs": [],
   "source": [
    "X_rfe = rfe.fit_transform(X_train,y_train)  "
   ]
  },
  {
   "cell_type": "code",
   "execution_count": 21,
   "id": "b7f88557",
   "metadata": {},
   "outputs": [
    {
     "data": {
      "text/html": [
       "<style>#sk-container-id-2 {color: black;background-color: white;}#sk-container-id-2 pre{padding: 0;}#sk-container-id-2 div.sk-toggleable {background-color: white;}#sk-container-id-2 label.sk-toggleable__label {cursor: pointer;display: block;width: 100%;margin-bottom: 0;padding: 0.3em;box-sizing: border-box;text-align: center;}#sk-container-id-2 label.sk-toggleable__label-arrow:before {content: \"▸\";float: left;margin-right: 0.25em;color: #696969;}#sk-container-id-2 label.sk-toggleable__label-arrow:hover:before {color: black;}#sk-container-id-2 div.sk-estimator:hover label.sk-toggleable__label-arrow:before {color: black;}#sk-container-id-2 div.sk-toggleable__content {max-height: 0;max-width: 0;overflow: hidden;text-align: left;background-color: #f0f8ff;}#sk-container-id-2 div.sk-toggleable__content pre {margin: 0.2em;color: black;border-radius: 0.25em;background-color: #f0f8ff;}#sk-container-id-2 input.sk-toggleable__control:checked~div.sk-toggleable__content {max-height: 200px;max-width: 100%;overflow: auto;}#sk-container-id-2 input.sk-toggleable__control:checked~label.sk-toggleable__label-arrow:before {content: \"▾\";}#sk-container-id-2 div.sk-estimator input.sk-toggleable__control:checked~label.sk-toggleable__label {background-color: #d4ebff;}#sk-container-id-2 div.sk-label input.sk-toggleable__control:checked~label.sk-toggleable__label {background-color: #d4ebff;}#sk-container-id-2 input.sk-hidden--visually {border: 0;clip: rect(1px 1px 1px 1px);clip: rect(1px, 1px, 1px, 1px);height: 1px;margin: -1px;overflow: hidden;padding: 0;position: absolute;width: 1px;}#sk-container-id-2 div.sk-estimator {font-family: monospace;background-color: #f0f8ff;border: 1px dotted black;border-radius: 0.25em;box-sizing: border-box;margin-bottom: 0.5em;}#sk-container-id-2 div.sk-estimator:hover {background-color: #d4ebff;}#sk-container-id-2 div.sk-parallel-item::after {content: \"\";width: 100%;border-bottom: 1px solid gray;flex-grow: 1;}#sk-container-id-2 div.sk-label:hover label.sk-toggleable__label {background-color: #d4ebff;}#sk-container-id-2 div.sk-serial::before {content: \"\";position: absolute;border-left: 1px solid gray;box-sizing: border-box;top: 0;bottom: 0;left: 50%;z-index: 0;}#sk-container-id-2 div.sk-serial {display: flex;flex-direction: column;align-items: center;background-color: white;padding-right: 0.2em;padding-left: 0.2em;position: relative;}#sk-container-id-2 div.sk-item {position: relative;z-index: 1;}#sk-container-id-2 div.sk-parallel {display: flex;align-items: stretch;justify-content: center;background-color: white;position: relative;}#sk-container-id-2 div.sk-item::before, #sk-container-id-2 div.sk-parallel-item::before {content: \"\";position: absolute;border-left: 1px solid gray;box-sizing: border-box;top: 0;bottom: 0;left: 50%;z-index: -1;}#sk-container-id-2 div.sk-parallel-item {display: flex;flex-direction: column;z-index: 1;position: relative;background-color: white;}#sk-container-id-2 div.sk-parallel-item:first-child::after {align-self: flex-end;width: 50%;}#sk-container-id-2 div.sk-parallel-item:last-child::after {align-self: flex-start;width: 50%;}#sk-container-id-2 div.sk-parallel-item:only-child::after {width: 0;}#sk-container-id-2 div.sk-dashed-wrapped {border: 1px dashed gray;margin: 0 0.4em 0.5em 0.4em;box-sizing: border-box;padding-bottom: 0.4em;background-color: white;}#sk-container-id-2 div.sk-label label {font-family: monospace;font-weight: bold;display: inline-block;line-height: 1.2em;}#sk-container-id-2 div.sk-label-container {text-align: center;}#sk-container-id-2 div.sk-container {/* jupyter's `normalize.less` sets `[hidden] { display: none; }` but bootstrap.min.css set `[hidden] { display: none !important; }` so we also need the `!important` here to be able to override the default hidden behavior on the sphinx rendered scikit-learn.org. See: https://github.com/scikit-learn/scikit-learn/issues/21755 */display: inline-block !important;position: relative;}#sk-container-id-2 div.sk-text-repr-fallback {display: none;}</style><div id=\"sk-container-id-2\" class=\"sk-top-container\"><div class=\"sk-text-repr-fallback\"><pre>LinearRegression()</pre><b>In a Jupyter environment, please rerun this cell to show the HTML representation or trust the notebook. <br />On GitHub, the HTML representation is unable to render, please try loading this page with nbviewer.org.</b></div><div class=\"sk-container\" hidden><div class=\"sk-item\"><div class=\"sk-estimator sk-toggleable\"><input class=\"sk-toggleable__control sk-hidden--visually\" id=\"sk-estimator-id-2\" type=\"checkbox\" checked><label for=\"sk-estimator-id-2\" class=\"sk-toggleable__label sk-toggleable__label-arrow\">LinearRegression</label><div class=\"sk-toggleable__content\"><pre>LinearRegression()</pre></div></div></div></div></div>"
      ],
      "text/plain": [
       "LinearRegression()"
      ]
     },
     "execution_count": 21,
     "metadata": {},
     "output_type": "execute_result"
    }
   ],
   "source": [
    "lm.fit(X_rfe,y_train)"
   ]
  },
  {
   "cell_type": "code",
   "execution_count": 35,
   "id": "b8e727ae",
   "metadata": {},
   "outputs": [
    {
     "data": {
      "text/plain": [
       "array([[0.224, 0.507],\n",
       "       [0.519, 0.279],\n",
       "       [0.297, 0.652],\n",
       "       ...,\n",
       "       [0.281, 0.461],\n",
       "       [0.284, 0.677],\n",
       "       [0.382, 0.487]])"
      ]
     },
     "execution_count": 35,
     "metadata": {},
     "output_type": "execute_result"
    }
   ],
   "source": [
    "X_rfe"
   ]
  },
  {
   "cell_type": "code",
   "execution_count": 22,
   "id": "4b2c610a",
   "metadata": {},
   "outputs": [],
   "source": [
    "mask = rfe.support_"
   ]
  },
  {
   "cell_type": "code",
   "execution_count": 23,
   "id": "5234667f",
   "metadata": {},
   "outputs": [],
   "source": [
    "rfe_features = X_train.loc[:,mask].columns.tolist()"
   ]
  },
  {
   "cell_type": "code",
   "execution_count": 24,
   "id": "c12459c8",
   "metadata": {},
   "outputs": [
    {
     "name": "stdout",
     "output_type": "stream",
     "text": [
      "2 selected features\n",
      "['teacher_exp_0to5', 'teacher_exp_11_plus']\n"
     ]
    }
   ],
   "source": [
    "print(str(len(rfe_features)), 'selected features')\n",
    "print(rfe_features)"
   ]
  },
  {
   "cell_type": "code",
   "execution_count": 25,
   "id": "041fb0f2",
   "metadata": {},
   "outputs": [
    {
     "data": {
      "text/html": [
       "<div>\n",
       "<style scoped>\n",
       "    .dataframe tbody tr th:only-of-type {\n",
       "        vertical-align: middle;\n",
       "    }\n",
       "\n",
       "    .dataframe tbody tr th {\n",
       "        vertical-align: top;\n",
       "    }\n",
       "\n",
       "    .dataframe thead th {\n",
       "        text-align: right;\n",
       "    }\n",
       "</style>\n",
       "<table border=\"1\" class=\"dataframe\">\n",
       "  <thead>\n",
       "    <tr style=\"text-align: right;\">\n",
       "      <th></th>\n",
       "      <th>Var</th>\n",
       "      <th>Rank</th>\n",
       "    </tr>\n",
       "  </thead>\n",
       "  <tbody>\n",
       "    <tr>\n",
       "      <th>7</th>\n",
       "      <td>teacher_exp_0to5</td>\n",
       "      <td>1</td>\n",
       "    </tr>\n",
       "    <tr>\n",
       "      <th>8</th>\n",
       "      <td>teacher_exp_11_plus</td>\n",
       "      <td>1</td>\n",
       "    </tr>\n",
       "    <tr>\n",
       "      <th>3</th>\n",
       "      <td>teacher_exp_6to10</td>\n",
       "      <td>2</td>\n",
       "    </tr>\n",
       "    <tr>\n",
       "      <th>5</th>\n",
       "      <td>total_expend</td>\n",
       "      <td>3</td>\n",
       "    </tr>\n",
       "    <tr>\n",
       "      <th>1</th>\n",
       "      <td>econdis</td>\n",
       "      <td>4</td>\n",
       "    </tr>\n",
       "    <tr>\n",
       "      <th>0</th>\n",
       "      <td>bilingual_or_english_learner</td>\n",
       "      <td>5</td>\n",
       "    </tr>\n",
       "    <tr>\n",
       "      <th>6</th>\n",
       "      <td>student_teacher_ratio</td>\n",
       "      <td>6</td>\n",
       "    </tr>\n",
       "    <tr>\n",
       "      <th>2</th>\n",
       "      <td>salary</td>\n",
       "      <td>7</td>\n",
       "    </tr>\n",
       "    <tr>\n",
       "      <th>4</th>\n",
       "      <td>extracurricular_expend</td>\n",
       "      <td>8</td>\n",
       "    </tr>\n",
       "    <tr>\n",
       "      <th>9</th>\n",
       "      <td>high_edu</td>\n",
       "      <td>9</td>\n",
       "    </tr>\n",
       "  </tbody>\n",
       "</table>\n",
       "</div>"
      ],
      "text/plain": [
       "                            Var  Rank\n",
       "7              teacher_exp_0to5     1\n",
       "8           teacher_exp_11_plus     1\n",
       "3             teacher_exp_6to10     2\n",
       "5                  total_expend     3\n",
       "1                       econdis     4\n",
       "0  bilingual_or_english_learner     5\n",
       "6         student_teacher_ratio     6\n",
       "2                        salary     7\n",
       "4        extracurricular_expend     8\n",
       "9                      high_edu     9"
      ]
     },
     "execution_count": 25,
     "metadata": {},
     "output_type": "execute_result"
    }
   ],
   "source": [
    "var_ranks = rfe.ranking_\n",
    "var_names = X_train.columns.tolist()\n",
    "\n",
    "pd.DataFrame({'Var': var_names, 'Rank': var_ranks}).sort_values('Rank')"
   ]
  },
  {
   "cell_type": "code",
   "execution_count": 26,
   "id": "d8e7cb48",
   "metadata": {},
   "outputs": [
    {
     "data": {
      "text/plain": [
       "(array([  4.,   6.,   6.,   7.,  19.,  59.,  90., 140., 213., 234.]),\n",
       " array([ 19. ,  27.1,  35.2,  43.3,  51.4,  59.5,  67.6,  75.7,  83.8,\n",
       "         91.9, 100. ]),\n",
       " <BarContainer object of 10 artists>)"
      ]
     },
     "execution_count": 26,
     "metadata": {},
     "output_type": "execute_result"
    },
    {
     "data": {
      "image/png": "[encoded data removed]",
      "text/plain": [
       "<Figure size 640x480 with 1 Axes>"
      ]
     },
     "metadata": {},
     "output_type": "display_data"
    }
   ],
   "source": [
    "plt.hist(y_train)"
   ]
  },
  {
   "cell_type": "code",
   "execution_count": 49,
   "id": "a835c1e5",
   "metadata": {},
   "outputs": [
    {
     "name": "stdout",
     "output_type": "stream",
     "text": [
      "RMSE for OLS using LinearRegression\n",
      "Training/In-Sample:  11.461461589229287 \n",
      "Validation/Out-of-Sample:  11.22074182810478\n"
     ]
    }
   ],
   "source": [
    "# create the model object\n",
    "lm = LinearRegression()\n",
    "\n",
    "# fit the model to our training data. We must specify the column in y_train, \n",
    "# since we have converted it to a dataframe from a series! \n",
    "lm.fit(X_train, y_train.biology)\n",
    "\n",
    "# predict train\n",
    "y_train['biology_pred_lm'] = lm.predict(X_train)\n",
    "\n",
    "# evaluate: rmse\n",
    "rmse_train = mean_squared_error(y_train.biology, y_train.biology_pred_lm, squared=False)\n",
    "\n",
    "# predict validate\n",
    "y_val['biology_pred_lm'] = lm.predict(X_val)\n",
    "\n",
    "# evaluate: rmse\n",
    "rmse_validate = mean_squared_error(y_val.biology, y_val.biology_pred_lm, squared=False)\n",
    "\n",
    "print(\"RMSE for OLS using LinearRegression\\nTraining/In-Sample: \", rmse_train, \n",
    "      \"\\nValidation/Out-of-Sample: \", rmse_validate)\n"
   ]
  },
  {
   "cell_type": "code",
   "execution_count": 38,
   "id": "34007b73",
   "metadata": {},
   "outputs": [
    {
     "name": "stdout",
     "output_type": "stream",
     "text": [
      "RMSE for Lasso + Lars\n",
      "Training/In-Sample:  13.76826771391201 \n",
      "Validation/Out-of-Sample:  13.363311468906566\n"
     ]
    },
    {
     "name": "stderr",
     "output_type": "stream",
     "text": [
      "/opt/homebrew/anaconda3/lib/python3.9/site-packages/sklearn/linear_model/_base.py:133: FutureWarning: The default of 'normalize' will be set to False in version 1.2 and deprecated in version 1.4.\n",
      "If you wish to scale the data, use Pipeline with a StandardScaler in a preprocessing stage. To reproduce the previous behavior:\n",
      "\n",
      "from sklearn.pipeline import make_pipeline\n",
      "\n",
      "model = make_pipeline(StandardScaler(with_mean=False), LassoLars())\n",
      "\n",
      "If you wish to pass a sample_weight parameter, you need to pass it as a fit parameter to each step of the pipeline as follows:\n",
      "\n",
      "kwargs = {s[0] + '__sample_weight': sample_weight for s in model.steps}\n",
      "model.fit(X, y, **kwargs)\n",
      "\n",
      "Set parameter alpha to: original_alpha * np.sqrt(n_samples). \n",
      "  warnings.warn(\n"
     ]
    }
   ],
   "source": [
    "# create the model object\n",
    "lars = LassoLars(alpha=1.0)\n",
    "\n",
    "# fit the model to our training data. We must specify the column in y_train, \n",
    "# since we have converted it to a dataframe from a series! \n",
    "lars.fit(X_train, y_train.biology)\n",
    "\n",
    "# predict train\n",
    "y_train['biology_pred_lars'] = lars.predict(X_train)\n",
    "\n",
    "# evaluate: rmse\n",
    "rmse_train = mean_squared_error(y_train.biology, y_train.biology_pred_lars, squared=False)\n",
    "# predict validate\n",
    "y_val['biology_pred_lars'] = lars.predict(X_val)\n",
    "\n",
    "# evaluate: rmse\n",
    "rmse_validate = mean_squared_error(y_val.biology, y_val.biology_pred_lars, squared=False)\n",
    "\n",
    "print(\"RMSE for Lasso + Lars\\nTraining/In-Sample: \", rmse_train, \n",
    "      \"\\nValidation/Out-of-Sample: \", rmse_validate)\n"
   ]
  },
  {
   "cell_type": "code",
   "execution_count": 39,
   "id": "e442e54d",
   "metadata": {},
   "outputs": [
    {
     "name": "stdout",
     "output_type": "stream",
     "text": [
      "RMSE for GLM using Tweedie, power=1 & alpha=0\n",
      "Training/In-Sample:  11.482888083468334 \n",
      "Validation/Out-of-Sample:  11.205120862735335\n"
     ]
    }
   ],
   "source": [
    "# create the model object\n",
    "glm = TweedieRegressor(power=1, alpha=0)\n",
    "\n",
    "# fit the model to our training data. We must specify the column in y_train, \n",
    "# since we have converted it to a dataframe from a series! \n",
    "glm.fit(X_train, y_train.biology)\n",
    "\n",
    "# predict train\n",
    "y_train['biology_pred_glm'] = glm.predict(X_train)\n",
    "\n",
    "# evaluate: rmse\n",
    "rmse_train = mean_squared_error(y_train.biology, y_train.biology_pred_glm, squared=False)\n",
    "\n",
    "# predict validate\n",
    "y_val['biology_pred_glm'] = glm.predict(X_val)\n",
    "\n",
    "# evaluate: rmse\n",
    "rmse_validate = mean_squared_error(y_val.biology, y_val.biology_pred_glm, squared=False)\n",
    "\n",
    "print(\"RMSE for GLM using Tweedie, power=1 & alpha=0\\nTraining/In-Sample: \", rmse_train, \n",
    "      \"\\nValidation/Out-of-Sample: \", rmse_validate)\n"
   ]
  },
  {
   "cell_type": "code",
   "execution_count": 30,
   "id": "df8c1738",
   "metadata": {},
   "outputs": [],
   "source": [
    "# make the polynomial features to get a new set of features\n",
    "pf = PolynomialFeatures(degree=2)\n",
    "\n",
    "# fit and transform X_train_scaled\n",
    "X_train_degree2 = pf.fit_transform(X_train)\n",
    "\n",
    "# transform X_validate_scaled & X_test_scaled\n",
    "X_validate_degree2 = pf.transform(X_val)\n",
    "X_test_degree2 = pf.transform(X_test)\n"
   ]
  },
  {
   "cell_type": "code",
   "execution_count": 31,
   "id": "31f8754e",
   "metadata": {},
   "outputs": [
    {
     "name": "stderr",
     "output_type": "stream",
     "text": [
      "/opt/homebrew/anaconda3/lib/python3.9/site-packages/sklearn/linear_model/_base.py:141: FutureWarning: 'normalize' was deprecated in version 1.0 and will be removed in 1.2.\n",
      "If you wish to scale the data, use Pipeline with a StandardScaler in a preprocessing stage. To reproduce the previous behavior:\n",
      "\n",
      "from sklearn.pipeline import make_pipeline\n",
      "\n",
      "model = make_pipeline(StandardScaler(with_mean=False), LinearRegression())\n",
      "\n",
      "If you wish to pass a sample_weight parameter, you need to pass it as a fit parameter to each step of the pipeline as follows:\n",
      "\n",
      "kwargs = {s[0] + '__sample_weight': sample_weight for s in model.steps}\n",
      "model.fit(X, y, **kwargs)\n",
      "\n",
      "\n",
      "  warnings.warn(\n"
     ]
    },
    {
     "name": "stdout",
     "output_type": "stream",
     "text": [
      "RMSE for Polynomial Model, degrees=2\n",
      "Training/In-Sample:  10.35117215495004 \n",
      "Validation/Out-of-Sample:  11.42438095347774\n"
     ]
    }
   ],
   "source": [
    "# create the model object\n",
    "lm2 = LinearRegression(normalize=True)\n",
    "\n",
    "# fit the model to our training data. We must specify the column in y_train, \n",
    "# since we have converted it to a dataframe from a series! \n",
    "lm2.fit(X_train_degree2, y_train.biology)\n",
    "\n",
    "# predict train\n",
    "y_train['biology_pred_lm2'] = lm2.predict(X_train_degree2)\n",
    "\n",
    "# evaluate: rmse\n",
    "rmse_train = mean_squared_error(y_train.biology, y_train.biology_pred_lm2, squared=False)\n",
    "\n",
    "# predict validate\n",
    "y_val['biology_pred_lm2'] = lm2.predict(X_validate_degree2)\n",
    "\n",
    "# evaluate: rmse\n",
    "rmse_validate = mean_squared_error(y_val.biology, y_val.biology_pred_lm2, squared=False)\n",
    "\n",
    "print(\"RMSE for Polynomial Model, degrees=2\\nTraining/In-Sample: \", rmse_train, \n",
    "      \"\\nValidation/Out-of-Sample: \", rmse_validate)\n"
   ]
  },
  {
   "cell_type": "code",
   "execution_count": 32,
   "id": "b0645987",
   "metadata": {},
   "outputs": [
    {
     "data": {
      "text/html": [
       "<div>\n",
       "<style scoped>\n",
       "    .dataframe tbody tr th:only-of-type {\n",
       "        vertical-align: middle;\n",
       "    }\n",
       "\n",
       "    .dataframe tbody tr th {\n",
       "        vertical-align: top;\n",
       "    }\n",
       "\n",
       "    .dataframe thead th {\n",
       "        text-align: right;\n",
       "    }\n",
       "</style>\n",
       "<table border=\"1\" class=\"dataframe\">\n",
       "  <thead>\n",
       "    <tr style=\"text-align: right;\">\n",
       "      <th></th>\n",
       "      <th>biology</th>\n",
       "      <th>biology_pred_lm</th>\n",
       "      <th>biology_pred_lars</th>\n",
       "      <th>biology_pred_glm</th>\n",
       "      <th>biology_pred_lm2</th>\n",
       "    </tr>\n",
       "  </thead>\n",
       "  <tbody>\n",
       "    <tr>\n",
       "      <th>404</th>\n",
       "      <td>100.0</td>\n",
       "      <td>77.549504</td>\n",
       "      <td>82.784062</td>\n",
       "      <td>77.440014</td>\n",
       "      <td>81.045276</td>\n",
       "    </tr>\n",
       "    <tr>\n",
       "      <th>429</th>\n",
       "      <td>94.0</td>\n",
       "      <td>63.851688</td>\n",
       "      <td>82.784062</td>\n",
       "      <td>63.846127</td>\n",
       "      <td>76.767240</td>\n",
       "    </tr>\n",
       "    <tr>\n",
       "      <th>621</th>\n",
       "      <td>86.0</td>\n",
       "      <td>84.175612</td>\n",
       "      <td>82.784062</td>\n",
       "      <td>84.364556</td>\n",
       "      <td>83.870758</td>\n",
       "    </tr>\n",
       "    <tr>\n",
       "      <th>1090</th>\n",
       "      <td>82.0</td>\n",
       "      <td>84.830152</td>\n",
       "      <td>82.784062</td>\n",
       "      <td>83.349718</td>\n",
       "      <td>102.900658</td>\n",
       "    </tr>\n",
       "    <tr>\n",
       "      <th>598</th>\n",
       "      <td>100.0</td>\n",
       "      <td>88.116204</td>\n",
       "      <td>82.784062</td>\n",
       "      <td>87.609267</td>\n",
       "      <td>83.679607</td>\n",
       "    </tr>\n",
       "    <tr>\n",
       "      <th>...</th>\n",
       "      <td>...</td>\n",
       "      <td>...</td>\n",
       "      <td>...</td>\n",
       "      <td>...</td>\n",
       "      <td>...</td>\n",
       "    </tr>\n",
       "    <tr>\n",
       "      <th>1184</th>\n",
       "      <td>94.0</td>\n",
       "      <td>69.076060</td>\n",
       "      <td>82.784062</td>\n",
       "      <td>68.819092</td>\n",
       "      <td>66.473650</td>\n",
       "    </tr>\n",
       "    <tr>\n",
       "      <th>1194</th>\n",
       "      <td>50.0</td>\n",
       "      <td>89.223746</td>\n",
       "      <td>82.784062</td>\n",
       "      <td>89.253209</td>\n",
       "      <td>72.232922</td>\n",
       "    </tr>\n",
       "    <tr>\n",
       "      <th>1401</th>\n",
       "      <td>48.0</td>\n",
       "      <td>71.318101</td>\n",
       "      <td>82.784062</td>\n",
       "      <td>71.303313</td>\n",
       "      <td>72.302406</td>\n",
       "    </tr>\n",
       "    <tr>\n",
       "      <th>985</th>\n",
       "      <td>87.0</td>\n",
       "      <td>87.208690</td>\n",
       "      <td>82.784062</td>\n",
       "      <td>87.001350</td>\n",
       "      <td>89.901618</td>\n",
       "    </tr>\n",
       "    <tr>\n",
       "      <th>1056</th>\n",
       "      <td>94.0</td>\n",
       "      <td>78.151191</td>\n",
       "      <td>82.784062</td>\n",
       "      <td>78.354052</td>\n",
       "      <td>77.407860</td>\n",
       "    </tr>\n",
       "  </tbody>\n",
       "</table>\n",
       "<p>778 rows × 5 columns</p>\n",
       "</div>"
      ],
      "text/plain": [
       "      biology  biology_pred_lm  biology_pred_lars  biology_pred_glm  \\\n",
       "404     100.0        77.549504          82.784062         77.440014   \n",
       "429      94.0        63.851688          82.784062         63.846127   \n",
       "621      86.0        84.175612          82.784062         84.364556   \n",
       "1090     82.0        84.830152          82.784062         83.349718   \n",
       "598     100.0        88.116204          82.784062         87.609267   \n",
       "...       ...              ...                ...               ...   \n",
       "1184     94.0        69.076060          82.784062         68.819092   \n",
       "1194     50.0        89.223746          82.784062         89.253209   \n",
       "1401     48.0        71.318101          82.784062         71.303313   \n",
       "985      87.0        87.208690          82.784062         87.001350   \n",
       "1056     94.0        78.151191          82.784062         78.354052   \n",
       "\n",
       "      biology_pred_lm2  \n",
       "404          81.045276  \n",
       "429          76.767240  \n",
       "621          83.870758  \n",
       "1090        102.900658  \n",
       "598          83.679607  \n",
       "...                ...  \n",
       "1184         66.473650  \n",
       "1194         72.232922  \n",
       "1401         72.302406  \n",
       "985          89.901618  \n",
       "1056         77.407860  \n",
       "\n",
       "[778 rows x 5 columns]"
      ]
     },
     "execution_count": 32,
     "metadata": {},
     "output_type": "execute_result"
    }
   ],
   "source": [
    "y_train"
   ]
  },
  {
   "cell_type": "code",
   "execution_count": 33,
   "id": "f41db267",
   "metadata": {},
   "outputs": [],
   "source": [
    "y_val['biology_pred_mean']= y_val['biology'].mean()"
   ]
  },
  {
   "cell_type": "code",
   "execution_count": 34,
   "id": "1f6a317c",
   "metadata": {},
   "outputs": [
    {
     "data": {
      "image/png": "[encoded data removed]",
      "text/plain": [
       "<Figure size 1600x800 with 1 Axes>"
      ]
     },
     "metadata": {},
     "output_type": "display_data"
    }
   ],
   "source": [
    "plt.figure(figsize=(16,8))\n",
    "plt.plot(y_val.biology, y_val.biology_pred_mean, alpha=.75, color=\"gray\", label='_nolegend_')\n",
    "plt.annotate(\"Baseline: Predict Using Mean\", (16, 9.5))\n",
    "plt.plot(y_val.biology, y_val.biology, alpha=.5, color=\"blue\", label='_nolegend_')\n",
    "plt.annotate(\"The Ideal Line: Predicted = Actual\", (.5, 3.5), rotation=15.5)\n",
    "\n",
    "plt.scatter(y_val.biology, y_val.biology_pred_lm, \n",
    "            alpha=.5, color=\"red\", s=100, label=\"Model: LinearRegression\")\n",
    "plt.scatter(y_val.biology, y_val.biology_pred_glm, \n",
    "            alpha=.5, color=\"yellow\", s=100, label=\"Model: TweedieRegressor\")\n",
    "plt.scatter(y_val.biology, y_val.biology_pred_lm2, \n",
    "            alpha=.5, color=\"green\", s=100, label=\"Model 2nd degree Polynomial\")\n",
    "plt.legend()\n",
    "plt.xlabel(\"Actual Percent Passing Biology\")\n",
    "plt.ylabel(\"Predicted Percent Passing Biology\")\n",
    "plt.title(\"Predictions for Percent of Students With a Passing Biology STAAR Score\")\n",
    "plt.show()\n"
   ]
  },
  {
   "cell_type": "markdown",
   "id": "ba37ac1f",
   "metadata": {},
   "source": [
    "# English 1"
   ]
  },
  {
   "cell_type": "markdown",
   "id": "af00e4af",
   "metadata": {},
   "source": [
    "### Run for english 1"
   ]
  },
  {
   "cell_type": "code",
   "execution_count": 64,
   "id": "1e95fad8",
   "metadata": {},
   "outputs": [],
   "source": [
    "y_train=pd.DataFrame(train['english_1'])\n",
    "y_val=pd.DataFrame(val['english_1'])\n",
    "y_test=pd.DataFrame(test['english_1'])"
   ]
  },
  {
   "cell_type": "code",
   "execution_count": 65,
   "id": "4155742d",
   "metadata": {},
   "outputs": [
    {
     "name": "stdout",
     "output_type": "stream",
     "text": [
      "RMSE for OLS using LinearRegression\n",
      "Training/In-Sample:  13.836784380571657 \n",
      "Validation/Out-of-Sample:  13.755213417701222\n"
     ]
    }
   ],
   "source": [
    "# create the model object\n",
    "lm = LinearRegression()\n",
    "\n",
    "# fit the model to our training data. We must specify the column in y_train, \n",
    "# since we have converted it to a dataframe from a series! \n",
    "lm.fit(X_train, y_train.english_1)\n",
    "\n",
    "# predict train\n",
    "y_train['english_1_pred_lm'] = lm.predict(X_train)\n",
    "\n",
    "# evaluate: rmse\n",
    "rmse_train = mean_squared_error(y_train.english_1, y_train.english_1_pred_lm, squared=False)\n",
    "\n",
    "# predict validate\n",
    "y_val['english_1_pred_lm'] = lm.predict(X_val)\n",
    "\n",
    "# evaluate: rmse\n",
    "rmse_validate = mean_squared_error(y_val.english_1, y_val.english_1_pred_lm, squared=False)\n",
    "\n",
    "print(\"RMSE for OLS using LinearRegression\\nTraining/In-Sample: \", rmse_train, \n",
    "      \"\\nValidation/Out-of-Sample: \", rmse_validate)"
   ]
  },
  {
   "cell_type": "code",
   "execution_count": 66,
   "id": "5ad2e747",
   "metadata": {},
   "outputs": [
    {
     "name": "stdout",
     "output_type": "stream",
     "text": [
      "RMSE for Lasso + Lars\n",
      "Training/In-Sample:  17.621104601122024 \n",
      "Validation/Out-of-Sample:  17.672875380462788\n"
     ]
    },
    {
     "name": "stderr",
     "output_type": "stream",
     "text": [
      "/opt/homebrew/anaconda3/lib/python3.9/site-packages/sklearn/linear_model/_base.py:133: FutureWarning: The default of 'normalize' will be set to False in version 1.2 and deprecated in version 1.4.\n",
      "If you wish to scale the data, use Pipeline with a StandardScaler in a preprocessing stage. To reproduce the previous behavior:\n",
      "\n",
      "from sklearn.pipeline import make_pipeline\n",
      "\n",
      "model = make_pipeline(StandardScaler(with_mean=False), LassoLars())\n",
      "\n",
      "If you wish to pass a sample_weight parameter, you need to pass it as a fit parameter to each step of the pipeline as follows:\n",
      "\n",
      "kwargs = {s[0] + '__sample_weight': sample_weight for s in model.steps}\n",
      "model.fit(X, y, **kwargs)\n",
      "\n",
      "Set parameter alpha to: original_alpha * np.sqrt(n_samples). \n",
      "  warnings.warn(\n"
     ]
    }
   ],
   "source": [
    "# create the model object\n",
    "lars = LassoLars(alpha=1.0)\n",
    "\n",
    "# fit the model to our training data. We must specify the column in y_train, \n",
    "# since we have converted it to a dataframe from a series! \n",
    "lars.fit(X_train, y_train.english_1)\n",
    "\n",
    "# predict train\n",
    "y_train['english_1_pred_lars'] = lars.predict(X_train)\n",
    "\n",
    "# evaluate: rmse\n",
    "rmse_train = mean_squared_error(y_train.english_1, y_train.english_1_pred_lars, squared=False)\n",
    "# predict validate\n",
    "y_val['english_1_pred_lars'] = lars.predict(X_val)\n",
    "\n",
    "# evaluate: rmse\n",
    "rmse_validate = mean_squared_error(y_val.english_1, y_val.english_1_pred_lars, squared=False)\n",
    "\n",
    "print(\"RMSE for Lasso + Lars\\nTraining/In-Sample: \", rmse_train, \n",
    "      \"\\nValidation/Out-of-Sample: \", rmse_validate)"
   ]
  },
  {
   "cell_type": "code",
   "execution_count": 67,
   "id": "972ecf97",
   "metadata": {},
   "outputs": [
    {
     "name": "stdout",
     "output_type": "stream",
     "text": [
      "RMSE for GLM using Tweedie, power=1 & alpha=0\n",
      "Training/In-Sample:  13.839046433545262 \n",
      "Validation/Out-of-Sample:  13.769725563213623\n"
     ]
    }
   ],
   "source": [
    "# create the model object\n",
    "glm = TweedieRegressor(power=1, alpha=0)\n",
    "\n",
    "# fit the model to our training data. We must specify the column in y_train, \n",
    "# since we have converted it to a dataframe from a series! \n",
    "glm.fit(X_train, y_train.english_1)\n",
    "\n",
    "# predict train\n",
    "y_train['english_1_pred_glm'] = glm.predict(X_train)\n",
    "\n",
    "# evaluate: rmse\n",
    "rmse_train = mean_squared_error(y_train.english_1, y_train.english_1_pred_glm, squared=False)\n",
    "\n",
    "# predict validate\n",
    "y_val['english_1_pred_glm'] = glm.predict(X_val)\n",
    "\n",
    "# evaluate: rmse\n",
    "rmse_validate = mean_squared_error(y_val.english_1, y_val.english_1_pred_glm, squared=False)\n",
    "\n",
    "print(\"RMSE for GLM using Tweedie, power=1 & alpha=0\\nTraining/In-Sample: \", rmse_train, \n",
    "      \"\\nValidation/Out-of-Sample: \", rmse_validate)"
   ]
  },
  {
   "cell_type": "code",
   "execution_count": 74,
   "id": "92d5672e",
   "metadata": {},
   "outputs": [],
   "source": [
    "# make the polynomial features to get a new set of features\n",
    "pf = PolynomialFeatures(degree=2)\n",
    "\n",
    "# fit and transform X_train_scaled\n",
    "X_train_degree2 = pf.fit_transform(X_train)\n",
    "\n",
    "# transform X_validate_scaled & X_test_scaled\n",
    "X_validate_degree2 = pf.transform(X_val)\n",
    "X_test_degree2 = pf.transform(X_test)"
   ]
  },
  {
   "cell_type": "code",
   "execution_count": 75,
   "id": "52f5adf2",
   "metadata": {},
   "outputs": [
    {
     "name": "stderr",
     "output_type": "stream",
     "text": [
      "/opt/homebrew/anaconda3/lib/python3.9/site-packages/sklearn/linear_model/_base.py:141: FutureWarning: 'normalize' was deprecated in version 1.0 and will be removed in 1.2.\n",
      "If you wish to scale the data, use Pipeline with a StandardScaler in a preprocessing stage. To reproduce the previous behavior:\n",
      "\n",
      "from sklearn.pipeline import make_pipeline\n",
      "\n",
      "model = make_pipeline(StandardScaler(with_mean=False), LinearRegression())\n",
      "\n",
      "If you wish to pass a sample_weight parameter, you need to pass it as a fit parameter to each step of the pipeline as follows:\n",
      "\n",
      "kwargs = {s[0] + '__sample_weight': sample_weight for s in model.steps}\n",
      "model.fit(X, y, **kwargs)\n",
      "\n",
      "\n",
      "  warnings.warn(\n"
     ]
    },
    {
     "name": "stdout",
     "output_type": "stream",
     "text": [
      "RMSE for Polynomial Model, degrees=2\n",
      "Training/In-Sample:  12.20801769693785 \n",
      "Validation/Out-of-Sample:  14.527012461493946\n"
     ]
    }
   ],
   "source": [
    "# create the model object\n",
    "lm2 = LinearRegression(normalize=True)\n",
    "\n",
    "# fit the model to our training data. We must specify the column in y_train, \n",
    "# since we have converted it to a dataframe from a series! \n",
    "lm2.fit(X_train_degree2, y_train.english_1)\n",
    "\n",
    "# predict train\n",
    "y_train['english_1_pred_lm2'] = lm2.predict(X_train_degree2)\n",
    "\n",
    "# evaluate: rmse\n",
    "rmse_train = mean_squared_error(y_train.english_1, y_train.english_1_pred_lm2, squared=False)\n",
    "\n",
    "# predict validate\n",
    "y_val['english_1_pred_lm2'] = lm2.predict(X_validate_degree2)\n",
    "\n",
    "# evaluate: rmse\n",
    "rmse_validate = mean_squared_error(y_val.english_1, y_val.english_1_pred_lm2, squared=False)\n",
    "\n",
    "print(\"RMSE for Polynomial Model, degrees=2\\nTraining/In-Sample: \", rmse_train, \n",
    "      \"\\nValidation/Out-of-Sample: \", rmse_validate)\n"
   ]
  },
  {
   "cell_type": "code",
   "execution_count": 18,
   "id": "e000dd52",
   "metadata": {},
   "outputs": [],
   "source": [
    "def english_1_model(df, target, degree=2):\n",
    "    '''\n",
    "    this function will split, scale, and model english 1\n",
    "    '''\n",
    "    train, val, test=ex.tts(df)\n",
    "    \n",
    "    X_train=train.drop(columns=['biology', 'english_1', 'english_2', 'algebra', 'history', 'school_id'])\n",
    "    y_train=pd.DataFrame(train[target])\n",
    "\n",
    "    X_val=val.drop(columns=['biology', 'english_1', 'english_2', 'algebra', 'history', 'school_id'])\n",
    "    y_val=pd.DataFrame(val[target])\n",
    "\n",
    "    X_test=test.drop(columns=['biology', 'english_1', 'english_2', 'algebra', 'history', 'school_id'])\n",
    "    y_test=pd.DataFrame(test[target])\n",
    "    \n",
    "    scaler=sklearn.preprocessing.MinMaxScaler()\n",
    "    \n",
    "    num_cols = ['bilingual_or_english_learner',\n",
    "            'econdis',\n",
    "            'salary',\n",
    "            'teacher_exp_6to10',\n",
    "            'extracurricular_expend',\n",
    "            'total_expend',\n",
    "            'student_teacher_ratio',\n",
    "            'teacher_exp_0to5',\n",
    "            'teacher_exp_11_plus',\n",
    "            'high_edu']\n",
    "    scaler.fit(X_train)\n",
    "\n",
    "    X_train[num_cols] = scaler.transform(X_train[num_cols])\n",
    "    X_val[num_cols] = scaler.transform(X_val[num_cols])\n",
    "    X_test[num_cols] = scaler.transform(X_test[num_cols])\n",
    "    \n",
    "    '''\n",
    "    this model will create the object and run the polynomyal regression model for english 1\n",
    "    '''\n",
    "    pf = PolynomialFeatures(degree=degree)\n",
    "    \n",
    "    X_train_degree2 = pf.fit_transform(X_train)\n",
    "    X_validate_degree2 = pf.transform(X_val)\n",
    "    X_test_degree2 = pf.transform(X_test)\n",
    "    \n",
    "    lm2 = LinearRegression()\n",
    "    lm2.fit(X_train_degree2, y_train[target])\n",
    "\n",
    "    y_train[f'{target}_pred_lm2'] = lm2.predict(X_train_degree2)\n",
    "    rmse_train = mean_squared_error(y_train[target], y_train[f'{target}_pred_lm2'], squared=False)\n",
    "\n",
    "    y_val[f'{target}_pred_lm2'] = lm2.predict(X_validate_degree2)\n",
    "    rmse_validate = mean_squared_error(y_val[target], y_val[f'{target}_pred_lm2'], squared=False)\n",
    "\n",
    "    print(f\"RMSE for Polynomial Model, degrees={degree}\\nTraining/In-Sample: \", rmse_train, \n",
    "          \"\\nValidation/Out-of-Sample: \", rmse_validate)"
   ]
  },
  {
   "cell_type": "code",
   "execution_count": 19,
   "id": "9819d518",
   "metadata": {},
   "outputs": [
    {
     "name": "stdout",
     "output_type": "stream",
     "text": [
      "RMSE for Polynomial Model, degrees=1\n",
      "Training/In-Sample:  13.836784380571657 \n",
      "Validation/Out-of-Sample:  13.755213417701228\n"
     ]
    }
   ],
   "source": [
    "english_1_model(df, 'english_1', 1)"
   ]
  },
  {
   "cell_type": "code",
   "execution_count": 24,
   "id": "1a4302d7",
   "metadata": {},
   "outputs": [],
   "source": [
    "def model_results(df):\n",
    "    train, val, test= ex.tts(df)\n",
    "    target=['english_1', 'english_2', 'algebra','biology', 'history']\n",
    "    subject=['English 1', 'English 2', 'Algebra', 'Biology', 'U.S. History']\n",
    "    rmse_base_t=[]\n",
    "    rmse_base_v=[]\n",
    "    rmse_train=[]\n",
    "    rmse_val=[]\n",
    "    \n",
    "    X_train=train.drop(columns=['biology', 'english_1', 'english_2', 'algebra', 'history', 'school_id'])\n",
    "    X_val=val.drop(columns=['biology', 'english_1', 'english_2', 'algebra', 'history', 'school_id'])\n",
    "    X_test=test.drop(columns=['biology', 'english_1', 'english_2', 'algebra', 'history', 'school_id'])\n",
    "    \n",
    "    lm=LinearRegression()\n",
    "    for t in target:\n",
    "        y_train=pd.DataFrame(train[t])\n",
    "        y_val=pd.DataFrame(val[t])\n",
    "        y_test=pd.DataFrame(test[t])\n",
    "        \n",
    "        lm.fit(X_train, y_train[t])\n",
    "        pred_t= lm.predict(X_train)\n",
    "        pred_v= lm.predict(X_val)\n",
    "        \n",
    "        train['Baseline Mean'] = train[t].mean()\n",
    "        rmse_base_t.append(mean_squared_error(train[t], train['Baseline Mean'], squared=False))\n",
    "        val['Baseline Mean'] = val[t].mean()\n",
    "        rmse_base_v.append(mean_squared_error(val[t], val['Baseline Mean'], squared=False))\n",
    "        \n",
    "        rmse_train.append(mean_squared_error(y_train[t], pred_t, squared=False))\n",
    "        rmse_val.append(mean_squared_error(y_val[t], pred_v, squared=False))\n",
    "        \n",
    "    results=pd.DataFrame(index=subject, data= {\n",
    "        'Train Baseline RMSE': rmse_base_t,\n",
    "        'Validate Baseline RMSE': rmse_base_v,\n",
    "        'Train Model RMSE': rmse_train,\n",
    "        'Validate Model RMSE': rmse_val,\n",
    "    })\n",
    "    results['Model Difference']=results['Train Model RMSE']- results['Validate Model RMSE']\n",
    "    return results\n",
    "        \n",
    "        \n",
    "        "
   ]
  },
  {
   "cell_type": "code",
   "execution_count": 25,
   "id": "eb66347f",
   "metadata": {},
   "outputs": [
    {
     "data": {
      "text/html": [
       "<div>\n",
       "<style scoped>\n",
       "    .dataframe tbody tr th:only-of-type {\n",
       "        vertical-align: middle;\n",
       "    }\n",
       "\n",
       "    .dataframe tbody tr th {\n",
       "        vertical-align: top;\n",
       "    }\n",
       "\n",
       "    .dataframe thead th {\n",
       "        text-align: right;\n",
       "    }\n",
       "</style>\n",
       "<table border=\"1\" class=\"dataframe\">\n",
       "  <thead>\n",
       "    <tr style=\"text-align: right;\">\n",
       "      <th></th>\n",
       "      <th>Train Baseline RMSE</th>\n",
       "      <th>Validate Baseline RMSE</th>\n",
       "      <th>Train Model RMSE</th>\n",
       "      <th>Validate Model RMSE</th>\n",
       "      <th>Model Difference</th>\n",
       "    </tr>\n",
       "  </thead>\n",
       "  <tbody>\n",
       "    <tr>\n",
       "      <th>English 1</th>\n",
       "      <td>17.621105</td>\n",
       "      <td>17.625561</td>\n",
       "      <td>13.836784</td>\n",
       "      <td>13.755213</td>\n",
       "      <td>0.081571</td>\n",
       "    </tr>\n",
       "    <tr>\n",
       "      <th>English 2</th>\n",
       "      <td>16.370091</td>\n",
       "      <td>16.180676</td>\n",
       "      <td>12.825528</td>\n",
       "      <td>12.618093</td>\n",
       "      <td>0.207434</td>\n",
       "    </tr>\n",
       "    <tr>\n",
       "      <th>Algebra</th>\n",
       "      <td>17.829199</td>\n",
       "      <td>16.901255</td>\n",
       "      <td>16.140168</td>\n",
       "      <td>15.835747</td>\n",
       "      <td>0.304421</td>\n",
       "    </tr>\n",
       "    <tr>\n",
       "      <th>Biology</th>\n",
       "      <td>13.768268</td>\n",
       "      <td>13.354411</td>\n",
       "      <td>11.461462</td>\n",
       "      <td>11.220742</td>\n",
       "      <td>0.240720</td>\n",
       "    </tr>\n",
       "    <tr>\n",
       "      <th>U.S. History</th>\n",
       "      <td>11.018929</td>\n",
       "      <td>10.230069</td>\n",
       "      <td>9.387695</td>\n",
       "      <td>8.717284</td>\n",
       "      <td>0.670411</td>\n",
       "    </tr>\n",
       "  </tbody>\n",
       "</table>\n",
       "</div>"
      ],
      "text/plain": [
       "              Train Baseline RMSE  Validate Baseline RMSE  Train Model RMSE  \\\n",
       "English 1               17.621105               17.625561         13.836784   \n",
       "English 2               16.370091               16.180676         12.825528   \n",
       "Algebra                 17.829199               16.901255         16.140168   \n",
       "Biology                 13.768268               13.354411         11.461462   \n",
       "U.S. History            11.018929               10.230069          9.387695   \n",
       "\n",
       "              Validate Model RMSE  Model Difference  \n",
       "English 1               13.755213          0.081571  \n",
       "English 2               12.618093          0.207434  \n",
       "Algebra                 15.835747          0.304421  \n",
       "Biology                 11.220742          0.240720  \n",
       "U.S. History             8.717284          0.670411  "
      ]
     },
     "execution_count": 25,
     "metadata": {},
     "output_type": "execute_result"
    }
   ],
   "source": [
    "model_results(df)"
   ]
  },
  {
   "cell_type": "code",
   "execution_count": null,
   "id": "77d917de",
   "metadata": {},
   "outputs": [],
   "source": [
    "def modeling_visual(df):\n",
    "    ma=modeling_results(df)\n",
    "\n",
    "    plt.figure(figsize=(10,5))\n",
    "    X = ['English 1', 'English 2', 'Algebra', 'Biology', 'U.S. History']\n",
    "\n",
    "    X_axis = np.arange(len(X))\n",
    "\n",
    "    plt.bar(X_axis[0] - 0.2, ma['Train Baseline RMSE'][0], 0.2, \n",
    "            label = 'Baseline', color=['blue'], ec='black')\n",
    "    plt.bar(X_axis[0] + 0.0, ma['Train Model RMSE'][0], 0.2, \n",
    "            label = 'Below Average', color=['orange'], ec='black')\n",
    "    plt.bar(X_axis[0] + 0.2, ma['Validate Model RMSE'][0], 0.2, \n",
    "            label = 'Below Average', color=['orange'], ec='black')\n",
    "\n",
    "    plt.bar(X_axis[1] - 0.1, ma['Above Average'][1], 0.2, color=['blue'], ec='black')\n",
    "    plt.bar(X_axis[1] + 0.1, ma['Below Average'][1], 0.2, color=['orange'], ec='black')\n",
    "\n",
    "    plt.bar(X_axis[2] - 0.1, ma['Above Average'][2], 0.2, color=['blue'], ec='black')\n",
    "    plt.bar(X_axis[2] + 0.1, ma['Below Average'][2], 0.2, color=['orange'], ec='black')\n",
    "\n",
    "    plt.bar(X_axis[3] - 0.1, ma['Above Average'][3], 0.2, color=['blue'], ec='black')\n",
    "    plt.bar(X_axis[3] + 0.1, ma['Below Average'][3], 0.2, color=['orange'], ec='black')\n",
    "\n",
    "    plt.bar(X_axis[4] - 0.1, ma['Above Average'][4], 0.2, color=['blue'], ec='black')\n",
    "    plt.bar(X_axis[4] + 0.1, ma['Below Average'][4], 0.2, color=['orange'], ec='black')\n",
    "\n",
    "\n",
    "    plt.xticks(X_axis, X)\n",
    "    plt.xlabel(\"Subject\")\n",
    "    plt.ylabel(\"Percent Passing\")\n",
    "    plt.title(\"Percent of Students Passing STAAR Subjects Based on Teacher Experience\")\n",
    "    plt.ylim(60, 95)\n",
    "    plt.grid(True, alpha=0.3, linestyle='--')\n",
    "    leg = plt.legend(title=\"Teachers With 11+ Years of Experience\")\n",
    "    leg._legend_box.align = \"left\"\n",
    "    plt.show()"
   ]
  },
  {
   "cell_type": "code",
   "execution_count": null,
   "id": "4c3bdb49",
   "metadata": {},
   "outputs": [],
   "source": [
    "plt.bar(X_axis[0] - 0.2, trainacc, 0.2, label = 'Train Accuracy', color=['blue'], ec='black')\n",
    "    plt.bar(X_axis[0] + 0, valacc, 0.2, label = 'Validate Accuracy', color=['green'], ec='black')\n",
    "    plt.bar(X_axis[0] + 0.2, testacc, 0.2, label = 'Test Accuracy', color=['rebeccapurple'], ec='black')"
   ]
  }
 ],
 "metadata": {
  "kernelspec": {
   "display_name": "Python 3 (ipykernel)",
   "language": "python",
   "name": "python3"
  },
  "language_info": {
   "codemirror_mode": {
    "name": "ipython",
    "version": 3
   },
   "file_extension": ".py",
   "mimetype": "text/x-python",
   "name": "python",
   "nbconvert_exporter": "python",
   "pygments_lexer": "ipython3",
   "version": "3.9.13"
  }
 },
 "nbformat": 4,
 "nbformat_minor": 5
}
