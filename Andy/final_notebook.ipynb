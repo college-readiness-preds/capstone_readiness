{
 "cells": [
  {
   "cell_type": "markdown",
   "id": "0cfb1871-09e3-4d2e-af84-7d6139a470a0",
   "metadata": {},
   "source": [
    "# Predicting school STAAR scores"
   ]
  },
  {
   "cell_type": "code",
   "execution_count": 1,
   "id": "8d31defc-11d6-447b-a197-b82bcb9f5ff0",
   "metadata": {},
   "outputs": [],
   "source": [
    "import pandas as pd\n",
    "import numpy as np\n",
    "import prepare as pr\n",
    "import explore as ex\n",
    "import modeling as mo"
   ]
  },
  {
   "cell_type": "markdown",
   "id": "4b926625",
   "metadata": {},
   "source": [
    "## Project Description\n",
    "Our youth matters. In Texas, the State of Texas Assessment of Academic Readiness (STAAR) exam is used to measure student learning at the end of the school year. Scores on these exams are used to calculate school accountability ratings which ensures that only high performing schools stay open. We want to use the publically available data to identify key features of schools that have the largest impact on the STAAR exams. After exploration, we use a machine learning algorithm to predict the most likely STAAR exam outcome based on the features we identified as having the largest impact. The scope of this project is limited to Texas High Schools, but may be applied to other types of schools as well."
   ]
  },
  {
   "cell_type": "markdown",
   "id": "7145cc44-02ee-4719-b6ee-6263c7b8aa9c",
   "metadata": {},
   "source": [
    "## Project Goals:\n",
    "* Identify drivers of high schools' percent of students passing each STAAR subject\n",
    "* Build a regression model to predict passing percentage of STAAR scores \n",
    "* Deliver results in a final notebook\n",
    "* Deliver presentation to stakeholders"
   ]
  },
  {
   "cell_type": "markdown",
   "id": "ce71a704-4b41-4eb9-9347-6f2e5ecddfd7",
   "metadata": {},
   "source": [
    "## Acquisition and Data Preperation\n",
    "* Functions to use webscraping were engineered to extract data from the Texas Education Agency's website\n",
    "* Schools that had special characters were removed from analysis\n",
    "    * special characters (*, -, ?, n/a)\n",
    "* Nulls were removed:\n",
    "    * Nulls or reserved information was incoded into the special characters above and removed\n",
    "    * All the percent signs, dollar signs, and commas were removed from values\n",
    "* Columns were combined into desired features\n",
    "    * high_edu was generated from combining percent of teachers that have a masters or doctorate\n",
    "    * Features for teacher_exp_0to5, teacher_exp_6to10, and teacher_exp_11_plus were generated from combining:\n",
    "        * Beginning teachers and teachers with 1-5 years of experience into teacher_exp_0to5\n",
    "        * Teachers with 11+ years of experience were combined into teacher_exp_11_plus\n",
    "        * teacher_exp_6to10 stayed the same. Teachers of 6-10 years of experience\n",
    "* There were an initial 1571 rows\n",
    "    * The total number of rows after preperation and cleaning is 1391\n",
    "* Separate into train, validate, and test datasets"
   ]
  },
  {
   "cell_type": "markdown",
   "id": "a51d5542",
   "metadata": {},
   "source": [
    "## Data Dictionary  \n",
    "\n",
    "| Feature | Definition |\n",
    "|:--------|:-----------|\n",
    "|school_id| The id number of the school from TEA|\n",
    "|english_1| English I, percent of students at approaches grade level or above for English I|\n",
    "|english_2| English II, percent of students at approaches grade level or above for English II|\n",
    "|algebra| Algebra, percent of students at approaches grade level or above for Algebra|\n",
    "|biology| Biology, percent of students at approaches grade level or above for Biology|\n",
    "|history| U.S. History, percent of students at approaches grade level or above for U.S. History|\n",
    "|bilingual_or_english_learner| EB/EL Current and Monitored, percent of students in the dual-language program that enables emergent bilingual (EB) students/English learners (ELs) to become proficient in listening, speaking, reading, and writing in the English language through the development of literacy and academic skills in the primary language and English.|\n",
    "|teacher_exp_0to5| Integer, number of teachers with 0-5 years of experience|\n",
    "|teacher_exp_6to10| Integer, number of teachers with 6-10 numbers of experience|\n",
    "|teacher_exp_11_plus| Integer, number of teachers with 11 or more years of experience|\n",
    "|extracurricular_expend| The amount of funds (in dollars) spent on extracurriculuars per student|\n",
    "|total_expend| The average total amount of funds (in dollars) spent per student|\n",
    "|econdis| students that are from homes that are below the poverty line\n",
    "|salary| Average Actual Salary, Average amount teachers are being paid in dollars|\n",
    "|high_edu| Percent of teachers with a masters or doctorate degree|\n",
    "|ratio| Count of the number of students per one teacher|"
   ]
  },
  {
   "cell_type": "code",
   "execution_count": 2,
   "id": "85b156f2-8bf9-450d-b396-85e2ee99f204",
   "metadata": {},
   "outputs": [
    {
     "data": {
      "text/html": [
       "<div>\n",
       "<style scoped>\n",
       "    .dataframe tbody tr th:only-of-type {\n",
       "        vertical-align: middle;\n",
       "    }\n",
       "\n",
       "    .dataframe tbody tr th {\n",
       "        vertical-align: top;\n",
       "    }\n",
       "\n",
       "    .dataframe thead th {\n",
       "        text-align: right;\n",
       "    }\n",
       "</style>\n",
       "<table border=\"1\" class=\"dataframe\">\n",
       "  <thead>\n",
       "    <tr style=\"text-align: right;\">\n",
       "      <th></th>\n",
       "      <th>school_id</th>\n",
       "      <th>english_1</th>\n",
       "      <th>english_2</th>\n",
       "      <th>algebra</th>\n",
       "      <th>biology</th>\n",
       "      <th>history</th>\n",
       "      <th>bilingual_or_english_learner</th>\n",
       "      <th>econdis</th>\n",
       "      <th>salary</th>\n",
       "      <th>teacher_exp_6to10</th>\n",
       "      <th>extracurricular_expend</th>\n",
       "      <th>total_expend</th>\n",
       "      <th>student_teacher_ratio</th>\n",
       "      <th>teacher_exp_0to5</th>\n",
       "      <th>teacher_exp_11_plus</th>\n",
       "      <th>high_edu</th>\n",
       "    </tr>\n",
       "  </thead>\n",
       "  <tbody>\n",
       "    <tr>\n",
       "      <th>0</th>\n",
       "      <td>1902001</td>\n",
       "      <td>67.0</td>\n",
       "      <td>82.0</td>\n",
       "      <td>95.0</td>\n",
       "      <td>88.0</td>\n",
       "      <td>93.0</td>\n",
       "      <td>1.2</td>\n",
       "      <td>34.3</td>\n",
       "      <td>55259.0</td>\n",
       "      <td>16.4</td>\n",
       "      <td>1852.0</td>\n",
       "      <td>10656.0</td>\n",
       "      <td>10.1</td>\n",
       "      <td>18.0</td>\n",
       "      <td>65.6</td>\n",
       "      <td>22.0</td>\n",
       "    </tr>\n",
       "    <tr>\n",
       "      <th>1</th>\n",
       "      <td>1903001</td>\n",
       "      <td>75.0</td>\n",
       "      <td>87.0</td>\n",
       "      <td>76.0</td>\n",
       "      <td>92.0</td>\n",
       "      <td>93.0</td>\n",
       "      <td>1.3</td>\n",
       "      <td>34.5</td>\n",
       "      <td>48689.0</td>\n",
       "      <td>21.6</td>\n",
       "      <td>2056.0</td>\n",
       "      <td>11177.0</td>\n",
       "      <td>8.3</td>\n",
       "      <td>27.2</td>\n",
       "      <td>51.2</td>\n",
       "      <td>29.4</td>\n",
       "    </tr>\n",
       "    <tr>\n",
       "      <th>2</th>\n",
       "      <td>1904001</td>\n",
       "      <td>78.0</td>\n",
       "      <td>80.0</td>\n",
       "      <td>90.0</td>\n",
       "      <td>87.0</td>\n",
       "      <td>88.0</td>\n",
       "      <td>4.7</td>\n",
       "      <td>42.2</td>\n",
       "      <td>51538.0</td>\n",
       "      <td>15.2</td>\n",
       "      <td>2151.0</td>\n",
       "      <td>10885.0</td>\n",
       "      <td>8.8</td>\n",
       "      <td>42.2</td>\n",
       "      <td>42.6</td>\n",
       "      <td>37.0</td>\n",
       "    </tr>\n",
       "  </tbody>\n",
       "</table>\n",
       "</div>"
      ],
      "text/plain": [
       "   school_id  english_1  english_2  algebra  biology  history  \\\n",
       "0    1902001       67.0       82.0     95.0     88.0     93.0   \n",
       "1    1903001       75.0       87.0     76.0     92.0     93.0   \n",
       "2    1904001       78.0       80.0     90.0     87.0     88.0   \n",
       "\n",
       "   bilingual_or_english_learner  econdis   salary  teacher_exp_6to10  \\\n",
       "0                           1.2     34.3  55259.0               16.4   \n",
       "1                           1.3     34.5  48689.0               21.6   \n",
       "2                           4.7     42.2  51538.0               15.2   \n",
       "\n",
       "   extracurricular_expend  total_expend  student_teacher_ratio  \\\n",
       "0                  1852.0       10656.0                   10.1   \n",
       "1                  2056.0       11177.0                    8.3   \n",
       "2                  2151.0       10885.0                    8.8   \n",
       "\n",
       "   teacher_exp_0to5  teacher_exp_11_plus  high_edu  \n",
       "0              18.0                 65.6      22.0  \n",
       "1              27.2                 51.2      29.4  \n",
       "2              42.2                 42.6      37.0  "
      ]
     },
     "execution_count": 2,
     "metadata": {},
     "output_type": "execute_result"
    }
   ],
   "source": [
    "#loading in cleaned data\n",
    "df=pr.clean_df()\n",
    "df.head(3)"
   ]
  },
  {
   "cell_type": "code",
   "execution_count": 3,
   "id": "88ca93e8",
   "metadata": {},
   "outputs": [],
   "source": [
    "train,val,test=ex.tts(df)"
   ]
  },
  {
   "cell_type": "markdown",
   "id": "006f1ce6",
   "metadata": {},
   "source": [
    "## Exploration\n",
    "For exploration, we have 5 target variables. Each STAAR exam subject was explored using a variety of questions and the resulting insights were found. "
   ]
  },
  {
   "cell_type": "markdown",
   "id": "54f9a4bb",
   "metadata": {},
   "source": [
    "<div class=\"alert alert-info\">\n",
    "    <header>\n",
    "    <h2>Exploration Question 1:</h2>\n",
    "    </header>\n",
    "    <dl>\n",
    "        <dt>Do schools with more economically disadvantaged students have a lower average STAAR score for biology than all schools?</dt>\n",
    "        <dd>- $H_0$: There is no difference in the average STAAR score for biology in schools with 50% or more  economically disadvantaged students and all schools</dd>\n",
    "        <dd>- $H_a$: The difference in the average STAAR score for biology is <strong>significantly lower</strong> in schools with 50% or more economically disadvantaged students compared to all schools</dd>\n",
    "    </dl>\n",
    "</div>"
   ]
  },
  {
   "cell_type": "code",
   "execution_count": 4,
   "id": "fe4e6412",
   "metadata": {},
   "outputs": [
    {
     "data": {
      "text/html": [
       "<div>\n",
       "<style scoped>\n",
       "    .dataframe tbody tr th:only-of-type {\n",
       "        vertical-align: middle;\n",
       "    }\n",
       "\n",
       "    .dataframe tbody tr th {\n",
       "        vertical-align: top;\n",
       "    }\n",
       "\n",
       "    .dataframe thead th {\n",
       "        text-align: right;\n",
       "    }\n",
       "</style>\n",
       "<table border=\"1\" class=\"dataframe\">\n",
       "  <thead>\n",
       "    <tr style=\"text-align: right;\">\n",
       "      <th></th>\n",
       "      <th>Above Average</th>\n",
       "      <th>Below Average</th>\n",
       "      <th>p-value</th>\n",
       "    </tr>\n",
       "  </thead>\n",
       "  <tbody>\n",
       "    <tr>\n",
       "      <th>English 1</th>\n",
       "      <td>59.33</td>\n",
       "      <td>75.19</td>\n",
       "      <td>4.790567e-40</td>\n",
       "    </tr>\n",
       "    <tr>\n",
       "      <th>English 2</th>\n",
       "      <td>65.54</td>\n",
       "      <td>79.29</td>\n",
       "      <td>1.439728e-34</td>\n",
       "    </tr>\n",
       "    <tr>\n",
       "      <th>Algebra</th>\n",
       "      <td>68.30</td>\n",
       "      <td>78.35</td>\n",
       "      <td>1.183526e-15</td>\n",
       "    </tr>\n",
       "    <tr>\n",
       "      <th>Biology</th>\n",
       "      <td>77.66</td>\n",
       "      <td>88.10</td>\n",
       "      <td>5.583533e-28</td>\n",
       "    </tr>\n",
       "    <tr>\n",
       "      <th>U.S. History</th>\n",
       "      <td>84.18</td>\n",
       "      <td>91.61</td>\n",
       "      <td>3.802130e-22</td>\n",
       "    </tr>\n",
       "  </tbody>\n",
       "</table>\n",
       "</div>"
      ],
      "text/plain": [
       "              Above Average  Below Average       p-value\n",
       "English 1             59.33          75.19  4.790567e-40\n",
       "English 2             65.54          79.29  1.439728e-34\n",
       "Algebra               68.30          78.35  1.183526e-15\n",
       "Biology               77.66          88.10  5.583533e-28\n",
       "U.S. History          84.18          91.61  3.802130e-22"
      ]
     },
     "execution_count": 4,
     "metadata": {},
     "output_type": "execute_result"
    }
   ],
   "source": [
    "ex.abv_avg_staar_df(train)"
   ]
  },
  {
   "cell_type": "code",
   "execution_count": null,
   "id": "a4dcadec",
   "metadata": {},
   "outputs": [],
   "source": []
  },
  {
   "cell_type": "markdown",
   "id": "7761fbab",
   "metadata": {},
   "source": [
    "<div class=\"alert alert-info\">\n",
    "    <header>\n",
    "    <h2>Exploration Question 2:</h2>\n",
    "    </header>\n",
    "    <dl>\n",
    "        <dt>Do schools with teachers that have more years of experience have a better average STAAR score passing rates?</dt>\n",
    "        <dd>- $H_0$: There is no difference in the average STAAR score passing rates in schools with 48.5% (all schools average) or fewer teachers with 11 years of experience or more and schools with more than 48.5% of their teachers with 11 years of experience or more</dd>\n",
    "        <dd>- $H_a$: The difference in the average STAAR score passing rates is <strong>significantly lower</strong> in schools with 48.5% or fewer teachers with 11 years of experience or more compared to schools with 48.5% or more teachers with 11 years of experience or more </dd>\n",
    "    </dl>\n",
    "</div>"
   ]
  },
  {
   "cell_type": "code",
   "execution_count": 5,
   "id": "921abb22",
   "metadata": {},
   "outputs": [
    {
     "data": {
      "text/html": [
       "<div>\n",
       "<style scoped>\n",
       "    .dataframe tbody tr th:only-of-type {\n",
       "        vertical-align: middle;\n",
       "    }\n",
       "\n",
       "    .dataframe tbody tr th {\n",
       "        vertical-align: top;\n",
       "    }\n",
       "\n",
       "    .dataframe thead th {\n",
       "        text-align: right;\n",
       "    }\n",
       "</style>\n",
       "<table border=\"1\" class=\"dataframe\">\n",
       "  <thead>\n",
       "    <tr style=\"text-align: right;\">\n",
       "      <th></th>\n",
       "      <th>Above Average</th>\n",
       "      <th>Below Average</th>\n",
       "      <th>p-value</th>\n",
       "    </tr>\n",
       "  </thead>\n",
       "  <tbody>\n",
       "    <tr>\n",
       "      <th>English 1</th>\n",
       "      <td>71.20</td>\n",
       "      <td>62.79</td>\n",
       "      <td>8.067572e-12</td>\n",
       "    </tr>\n",
       "    <tr>\n",
       "      <th>English 2</th>\n",
       "      <td>76.03</td>\n",
       "      <td>68.33</td>\n",
       "      <td>1.599697e-11</td>\n",
       "    </tr>\n",
       "    <tr>\n",
       "      <th>Algebra</th>\n",
       "      <td>77.71</td>\n",
       "      <td>68.50</td>\n",
       "      <td>1.294142e-13</td>\n",
       "    </tr>\n",
       "    <tr>\n",
       "      <th>Biology</th>\n",
       "      <td>85.90</td>\n",
       "      <td>79.49</td>\n",
       "      <td>2.454686e-11</td>\n",
       "    </tr>\n",
       "    <tr>\n",
       "      <th>U.S. History</th>\n",
       "      <td>89.94</td>\n",
       "      <td>85.59</td>\n",
       "      <td>1.435440e-08</td>\n",
       "    </tr>\n",
       "  </tbody>\n",
       "</table>\n",
       "</div>"
      ],
      "text/plain": [
       "              Above Average  Below Average       p-value\n",
       "English 1             71.20          62.79  8.067572e-12\n",
       "English 2             76.03          68.33  1.599697e-11\n",
       "Algebra               77.71          68.50  1.294142e-13\n",
       "Biology               85.90          79.49  2.454686e-11\n",
       "U.S. History          89.94          85.59  1.435440e-08"
      ]
     },
     "execution_count": 5,
     "metadata": {},
     "output_type": "execute_result"
    }
   ],
   "source": [
    "ex.teacher_ex(df)"
   ]
  },
  {
   "cell_type": "markdown",
   "id": "1c624474",
   "metadata": {},
   "source": [
    "This table shows each subject and the percent of students that pass each subjects STAAR exam. The column 'Above Average' represents the the averages for schools that have above average precent of their teachers that have 11 or more years of experience. Conversly, 'Below Average' represents the averages for schools that have below average percent of their teachers with 11 or more years of experience."
   ]
  },
  {
   "cell_type": "code",
   "execution_count": 6,
   "id": "ce0b23f4",
   "metadata": {},
   "outputs": [
    {
     "data": {
      "image/png": "[encoded data removed]",
      "text/plain": [
       "<Figure size 1000x500 with 1 Axes>"
      ]
     },
     "metadata": {},
     "output_type": "display_data"
    }
   ],
   "source": [
    "ex.q2_plot(df)"
   ]
  },
  {
   "cell_type": "markdown",
   "id": "116e38e0",
   "metadata": {},
   "source": [
    "**Takeaway**\n",
    "* Schools that have an above average amount of teachers with 11 or more years of experience have significantly higher passing rates for students STAAR exams across all subjects."
   ]
  },
  {
   "cell_type": "markdown",
   "id": "36410587",
   "metadata": {},
   "source": [
    "<div class=\"alert alert-info\">\n",
    "    <header>\n",
    "    <h2>Exploration Question 3:</h2>\n",
    "    </header>\n",
    "    <dl>\n",
    "        <dt>Of schools with above average economically disadvantaged students, do the schools with higher average STAAR scores get more funding per student?</dt>\n",
    "        <dd>- $H_0$: There is no difference in the funding per student in schools with above average percent economically disadvantaged students and above average percent passing STAAR exams compared to schools with above average percent economically disadvantaged students and less than average percent passing STAAR scores</dd>\n",
    "        <dd>- $H_a$: The difference in the average funding per student in schools with an above average economically disadvantaged students and above average percent passing STAAR exams is <strong>significantly more</strong> than schools with above average percent economically disadvantaged students and below average percent passing STAAR scores</dd>\n",
    "    </dl>\n",
    "</div>"
   ]
  },
  {
   "cell_type": "code",
   "execution_count": 7,
   "id": "e9c4e8c1",
   "metadata": {},
   "outputs": [
    {
     "data": {
      "text/html": [
       "<div>\n",
       "<style scoped>\n",
       "    .dataframe tbody tr th:only-of-type {\n",
       "        vertical-align: middle;\n",
       "    }\n",
       "\n",
       "    .dataframe tbody tr th {\n",
       "        vertical-align: top;\n",
       "    }\n",
       "\n",
       "    .dataframe thead th {\n",
       "        text-align: right;\n",
       "    }\n",
       "</style>\n",
       "<table border=\"1\" class=\"dataframe\">\n",
       "  <thead>\n",
       "    <tr style=\"text-align: right;\">\n",
       "      <th></th>\n",
       "      <th>Above Average</th>\n",
       "      <th>Below Average</th>\n",
       "      <th>p-value</th>\n",
       "    </tr>\n",
       "  </thead>\n",
       "  <tbody>\n",
       "    <tr>\n",
       "      <th>Algebra</th>\n",
       "      <td>9960.708134</td>\n",
       "      <td>10199.000000</td>\n",
       "      <td>0.644084</td>\n",
       "    </tr>\n",
       "    <tr>\n",
       "      <th>English 1</th>\n",
       "      <td>9763.162921</td>\n",
       "      <td>10326.412844</td>\n",
       "      <td>0.276248</td>\n",
       "    </tr>\n",
       "    <tr>\n",
       "      <th>English 2</th>\n",
       "      <td>9498.323383</td>\n",
       "      <td>10665.835897</td>\n",
       "      <td>0.022970</td>\n",
       "    </tr>\n",
       "    <tr>\n",
       "      <th>Biology</th>\n",
       "      <td>9732.004525</td>\n",
       "      <td>10504.160000</td>\n",
       "      <td>0.135932</td>\n",
       "    </tr>\n",
       "    <tr>\n",
       "      <th>History</th>\n",
       "      <td>9398.793103</td>\n",
       "      <td>11027.323171</td>\n",
       "      <td>0.001723</td>\n",
       "    </tr>\n",
       "  </tbody>\n",
       "</table>\n",
       "</div>"
      ],
      "text/plain": [
       "           Above Average  Below Average   p-value\n",
       "Algebra      9960.708134   10199.000000  0.644084\n",
       "English 1    9763.162921   10326.412844  0.276248\n",
       "English 2    9498.323383   10665.835897  0.022970\n",
       "Biology      9732.004525   10504.160000  0.135932\n",
       "History      9398.793103   11027.323171  0.001723"
      ]
     },
     "execution_count": 7,
     "metadata": {},
     "output_type": "execute_result"
    }
   ],
   "source": [
    "ex.above_avg_econdis_total_expend(train)"
   ]
  },
  {
   "cell_type": "code",
   "execution_count": null,
   "id": "3865249c",
   "metadata": {},
   "outputs": [],
   "source": []
  },
  {
   "cell_type": "code",
   "execution_count": null,
   "id": "18cc9b21",
   "metadata": {},
   "outputs": [],
   "source": [
    "ex.v"
   ]
  },
  {
   "cell_type": "markdown",
   "id": "114c5c46",
   "metadata": {},
   "source": [
    "<div class=\"alert alert-info\">\n",
    "    <header>\n",
    "    <h2>Exploration Question 4:</h2>\n",
    "    </header>\n",
    "    <dl>\n",
    "        <dt>Do schools with above average economically disadvantaged students have significantly higher total expendature per student?</dt>\n",
    "        <dd>- $H_0$: There is no difference in total expendature per student in schools with above average economically disadvantaged students and schools with below average economically disadvantaged students</dd>\n",
    "        <dd>- $H_a$: Schools with above average economically disadvantaged students have <strong>significantly higher</strong> total expendature per student than schools with below average economically disadvantaged students</dd>\n",
    "    </dl>\n",
    "</div>"
   ]
  },
  {
   "cell_type": "code",
   "execution_count": 8,
   "id": "bf6e5f1a",
   "metadata": {},
   "outputs": [
    {
     "data": {
      "text/plain": [
       "(43.79055703379938, 1.669564838067672e-210)"
      ]
     },
     "execution_count": 8,
     "metadata": {},
     "output_type": "execute_result"
    }
   ],
   "source": [
    "ex.spend_v_eco(train)"
   ]
  },
  {
   "cell_type": "markdown",
   "id": "ccfb9d60",
   "metadata": {},
   "source": [
    "<div class=\"alert alert-info\">\n",
    "    <header>\n",
    "    <h2>Exploration Question 5:</h2>\n",
    "    </header>\n",
    "    <dl>\n",
    "        <dt>Is there a statisticaly significant correlation between the amount of extracurricular expendatures and algebra passing rates?</dt>\n",
    "        <dd>- $H_0$: There is no significant correlation between the amount of extracurricular expendatures and algebra passing rates</dd>\n",
    "        <dd>- $H_a$: There is a significant correlation between the amount of extracurricular expendatures and algebra passing rates</dd>\n",
    "    </dl>\n",
    "</div>"
   ]
  },
  {
   "cell_type": "code",
   "execution_count": 9,
   "id": "67b2f3d5",
   "metadata": {},
   "outputs": [
    {
     "data": {
      "text/html": [
       "<div>\n",
       "<style scoped>\n",
       "    .dataframe tbody tr th:only-of-type {\n",
       "        vertical-align: middle;\n",
       "    }\n",
       "\n",
       "    .dataframe tbody tr th {\n",
       "        vertical-align: top;\n",
       "    }\n",
       "\n",
       "    .dataframe thead th {\n",
       "        text-align: right;\n",
       "    }\n",
       "</style>\n",
       "<table border=\"1\" class=\"dataframe\">\n",
       "  <thead>\n",
       "    <tr style=\"text-align: right;\">\n",
       "      <th></th>\n",
       "      <th>Correlation</th>\n",
       "      <th>p-value</th>\n",
       "    </tr>\n",
       "  </thead>\n",
       "  <tbody>\n",
       "    <tr>\n",
       "      <th>English 1</th>\n",
       "      <td>0.147849</td>\n",
       "      <td>3.472362e-05</td>\n",
       "    </tr>\n",
       "    <tr>\n",
       "      <th>English 2</th>\n",
       "      <td>0.148891</td>\n",
       "      <td>3.051963e-05</td>\n",
       "    </tr>\n",
       "    <tr>\n",
       "      <th>Algebra</th>\n",
       "      <td>0.185599</td>\n",
       "      <td>1.849293e-07</td>\n",
       "    </tr>\n",
       "    <tr>\n",
       "      <th>Biology</th>\n",
       "      <td>0.166587</td>\n",
       "      <td>2.986320e-06</td>\n",
       "    </tr>\n",
       "    <tr>\n",
       "      <th>History</th>\n",
       "      <td>0.123032</td>\n",
       "      <td>5.833295e-04</td>\n",
       "    </tr>\n",
       "  </tbody>\n",
       "</table>\n",
       "</div>"
      ],
      "text/plain": [
       "           Correlation       p-value\n",
       "English 1     0.147849  3.472362e-05\n",
       "English 2     0.148891  3.051963e-05\n",
       "Algebra       0.185599  1.849293e-07\n",
       "Biology       0.166587  2.986320e-06\n",
       "History       0.123032  5.833295e-04"
      ]
     },
     "execution_count": 9,
     "metadata": {},
     "output_type": "execute_result"
    }
   ],
   "source": [
    "ex.extra_subs(train)"
   ]
  },
  {
   "cell_type": "markdown",
   "id": "9b277968",
   "metadata": {},
   "source": [
    "<div class=\"alert alert-info\">\n",
    "    <header>\n",
    "    <h2>Exploration Question 6:</h2>\n",
    "    </header>\n",
    "    <dl>\n",
    "        <dt>Is there a statisticaly significant correlation between student teacher ratio and all subjects passing rates?</dt>\n",
    "        <dd>- $H_0$: There is no significant correlation between student teacher ratio and all subjects passing rates</dd>\n",
    "        <dd>- $H_a$: There is a significant correlation between student teacher ratio and all subjects passing rates</dd>\n",
    "    </dl>\n",
    "</div>"
   ]
  },
  {
   "cell_type": "code",
   "execution_count": 10,
   "id": "ffd42000",
   "metadata": {},
   "outputs": [
    {
     "data": {
      "text/html": [
       "<div>\n",
       "<style scoped>\n",
       "    .dataframe tbody tr th:only-of-type {\n",
       "        vertical-align: middle;\n",
       "    }\n",
       "\n",
       "    .dataframe tbody tr th {\n",
       "        vertical-align: top;\n",
       "    }\n",
       "\n",
       "    .dataframe thead th {\n",
       "        text-align: right;\n",
       "    }\n",
       "</style>\n",
       "<table border=\"1\" class=\"dataframe\">\n",
       "  <thead>\n",
       "    <tr style=\"text-align: right;\">\n",
       "      <th></th>\n",
       "      <th>Correlation</th>\n",
       "      <th>p-value</th>\n",
       "    </tr>\n",
       "  </thead>\n",
       "  <tbody>\n",
       "    <tr>\n",
       "      <th>English 1</th>\n",
       "      <td>-0.030873</td>\n",
       "      <td>0.389809</td>\n",
       "    </tr>\n",
       "    <tr>\n",
       "      <th>English 2</th>\n",
       "      <td>0.017873</td>\n",
       "      <td>0.618645</td>\n",
       "    </tr>\n",
       "    <tr>\n",
       "      <th>Algebra</th>\n",
       "      <td>-0.139289</td>\n",
       "      <td>0.000097</td>\n",
       "    </tr>\n",
       "    <tr>\n",
       "      <th>Biology</th>\n",
       "      <td>-0.046309</td>\n",
       "      <td>0.196944</td>\n",
       "    </tr>\n",
       "    <tr>\n",
       "      <th>History</th>\n",
       "      <td>0.034252</td>\n",
       "      <td>0.340023</td>\n",
       "    </tr>\n",
       "  </tbody>\n",
       "</table>\n",
       "</div>"
      ],
      "text/plain": [
       "           Correlation   p-value\n",
       "English 1    -0.030873  0.389809\n",
       "English 2     0.017873  0.618645\n",
       "Algebra      -0.139289  0.000097\n",
       "Biology      -0.046309  0.196944\n",
       "History       0.034252  0.340023"
      ]
     },
     "execution_count": 10,
     "metadata": {},
     "output_type": "execute_result"
    },
    {
     "data": {
      "image/png": "[encoded data removed]",
      "text/plain": [
       "<Figure size 613.25x500 with 1 Axes>"
      ]
     },
     "metadata": {},
     "output_type": "display_data"
    }
   ],
   "source": [
    "ex.correlation_stu_teach_ratio_subject(train)"
   ]
  },
  {
   "cell_type": "code",
   "execution_count": null,
   "id": "d48ee0d2",
   "metadata": {},
   "outputs": [],
   "source": []
  },
  {
   "cell_type": "markdown",
   "id": "9c7f67db",
   "metadata": {},
   "source": [
    "# Modeling"
   ]
  },
  {
   "cell_type": "code",
   "execution_count": 11,
   "id": "1e6e5aff",
   "metadata": {},
   "outputs": [
    {
     "data": {
      "text/html": [
       "<div>\n",
       "<style scoped>\n",
       "    .dataframe tbody tr th:only-of-type {\n",
       "        vertical-align: middle;\n",
       "    }\n",
       "\n",
       "    .dataframe tbody tr th {\n",
       "        vertical-align: top;\n",
       "    }\n",
       "\n",
       "    .dataframe thead th {\n",
       "        text-align: right;\n",
       "    }\n",
       "</style>\n",
       "<table border=\"1\" class=\"dataframe\">\n",
       "  <thead>\n",
       "    <tr style=\"text-align: right;\">\n",
       "      <th></th>\n",
       "      <th>Train Baseline RMSE</th>\n",
       "      <th>Validate Baseline RMSE</th>\n",
       "      <th>Train Model RMSE</th>\n",
       "      <th>Validate Model RMSE</th>\n",
       "      <th>Model Difference</th>\n",
       "    </tr>\n",
       "  </thead>\n",
       "  <tbody>\n",
       "    <tr>\n",
       "      <th>English 1</th>\n",
       "      <td>17.621105</td>\n",
       "      <td>17.625561</td>\n",
       "      <td>13.836784</td>\n",
       "      <td>13.755213</td>\n",
       "      <td>0.081571</td>\n",
       "    </tr>\n",
       "    <tr>\n",
       "      <th>English 2</th>\n",
       "      <td>16.370091</td>\n",
       "      <td>16.180676</td>\n",
       "      <td>12.825528</td>\n",
       "      <td>12.618093</td>\n",
       "      <td>0.207434</td>\n",
       "    </tr>\n",
       "    <tr>\n",
       "      <th>Algebra</th>\n",
       "      <td>17.829199</td>\n",
       "      <td>16.901255</td>\n",
       "      <td>16.140168</td>\n",
       "      <td>15.835747</td>\n",
       "      <td>0.304421</td>\n",
       "    </tr>\n",
       "    <tr>\n",
       "      <th>Biology</th>\n",
       "      <td>13.768268</td>\n",
       "      <td>13.354411</td>\n",
       "      <td>11.461462</td>\n",
       "      <td>11.220742</td>\n",
       "      <td>0.240720</td>\n",
       "    </tr>\n",
       "    <tr>\n",
       "      <th>U.S. History</th>\n",
       "      <td>11.018929</td>\n",
       "      <td>10.230069</td>\n",
       "      <td>9.387695</td>\n",
       "      <td>8.717284</td>\n",
       "      <td>0.670411</td>\n",
       "    </tr>\n",
       "  </tbody>\n",
       "</table>\n",
       "</div>"
      ],
      "text/plain": [
       "              Train Baseline RMSE  Validate Baseline RMSE  Train Model RMSE  \\\n",
       "English 1               17.621105               17.625561         13.836784   \n",
       "English 2               16.370091               16.180676         12.825528   \n",
       "Algebra                 17.829199               16.901255         16.140168   \n",
       "Biology                 13.768268               13.354411         11.461462   \n",
       "U.S. History            11.018929               10.230069          9.387695   \n",
       "\n",
       "              Validate Model RMSE  Model Difference  \n",
       "English 1               13.755213          0.081571  \n",
       "English 2               12.618093          0.207434  \n",
       "Algebra                 15.835747          0.304421  \n",
       "Biology                 11.220742          0.240720  \n",
       "U.S. History             8.717284          0.670411  "
      ]
     },
     "execution_count": 11,
     "metadata": {},
     "output_type": "execute_result"
    }
   ],
   "source": [
    "mo.model_results(df)"
   ]
  },
  {
   "cell_type": "code",
   "execution_count": 12,
   "id": "16764575",
   "metadata": {},
   "outputs": [
    {
     "data": {
      "image/png": "[encoded data removed]",
      "text/plain": [
       "<Figure size 1000x500 with 1 Axes>"
      ]
     },
     "metadata": {},
     "output_type": "display_data"
    }
   ],
   "source": [
    "mo.modeling_visual(df)"
   ]
  },
  {
   "cell_type": "markdown",
   "id": "45c573f7",
   "metadata": {},
   "source": [
    "<div class=\"alert alert-info\">\n",
    "    <header>\n",
    "    <h2>Modeling Summary</h2>\n",
    "    </header>\n",
    "    <dl>\n",
    "        <dd>- Using linear regression, all models beat baseline. Linear regression was the best performing model across all subjects</dd>\n",
    "        <dd>- RMSE was fairly low to start with using the mean as the baseline</dd>\n",
    "        <dd>- Test takeaway</dd>\n",
    "    </dl>\n",
    "    <header>\n",
    "    <h2>Conclusion</h2>\n",
    "    </header>\n",
    "    <dl>\n",
    "        <dd>- We were successfully able to model and predict passing percentages for each subjects STAAR exam</dd>\n",
    "        <dd>- We found economically disadvantaged students have lower passing percentages</dd>\n",
    "        <dd>- Among schools with above average economic disadvantaged student percentages, schools that spend more funding per student have significantly higher passing rates in U.S. History and English 2</dd>\n",
    "    </dl>\n",
    "    <header>\n",
    "    <h2>Next Steps</h2>\n",
    "    </header>\n",
    "    <dl>\n",
    "        <dd>- Rescrape the TEA website to acquire new features and data to explore other drivers of STAAR exam passing percentages</dd>\n",
    "        <dd>- Something else</dd>\n",
    "    </dl>\n",
    "</div>"
   ]
  },
  {
   "cell_type": "code",
   "execution_count": null,
   "id": "6969b3e3",
   "metadata": {},
   "outputs": [],
   "source": []
  }
 ],
 "metadata": {
  "kernelspec": {
   "display_name": "Python 3 (ipykernel)",
   "language": "python",
   "name": "python3"
  },
  "language_info": {
   "codemirror_mode": {
    "name": "ipython",
    "version": 3
   },
   "file_extension": ".py",
   "mimetype": "text/x-python",
   "name": "python",
   "nbconvert_exporter": "python",
   "pygments_lexer": "ipython3",
   "version": "3.9.13"
  }
 },
 "nbformat": 4,
 "nbformat_minor": 5
}
