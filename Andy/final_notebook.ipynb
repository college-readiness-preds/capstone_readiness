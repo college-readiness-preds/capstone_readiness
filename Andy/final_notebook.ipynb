{
 "cells": [
  {
   "cell_type": "markdown",
   "id": "0cfb1871-09e3-4d2e-af84-7d6139a470a0",
   "metadata": {},
   "source": [
    "# Predicting school STAAR scores"
   ]
  },
  {
   "cell_type": "code",
   "execution_count": 1,
   "id": "8d31defc-11d6-447b-a197-b82bcb9f5ff0",
   "metadata": {},
   "outputs": [],
   "source": [
    "import pandas as pd\n",
    "import numpy as np\n",
    "import prepare as pr\n",
    "import explore as ex\n",
    "#import modeling as mo"
   ]
  },
  {
   "cell_type": "markdown",
   "id": "4b926625",
   "metadata": {},
   "source": [
    "## Project Description\n",
    "Our youth matters. In Texas, the State of Texas Assessment of Academic Readiness (STAAR) exam is used to measure student learning at the end of the school year. Scores on these exams are used to calculate school accountability ratings which ensures that only high performing schools stay open. We want to use the publically available data to identify key features of schools that have the largest impact on the STAAR exams. After exploration, we use a machine learning algorithm to predict the most likely STAAR exam outcome based on the features we identified as having the largest impact. The scope of this project is limited to Texas High Schools, but may be applied to other types of schools as well."
   ]
  },
  {
   "cell_type": "markdown",
   "id": "7145cc44-02ee-4719-b6ee-6263c7b8aa9c",
   "metadata": {},
   "source": [
    "## Project Goals:\n",
    "* Identify drivers of high schools' percent of students passing each STAAR subject\n",
    "* Build a regression model to predict passing percentage of STAAR scores \n",
    "* Deliver results in a final notebook\n",
    "* Deliver presentation to stakeholders"
   ]
  },
  {
   "cell_type": "markdown",
   "id": "ce71a704-4b41-4eb9-9347-6f2e5ecddfd7",
   "metadata": {},
   "source": [
    "## Acquisition and Data Preperation\n",
    "* Functions to use webscraping were engineered to extract data from the Texas Education Agency's website\n",
    "* Schools that had special characters were removed from analysis\n",
    "    * special characters (*, -, ?, n/a)\n",
    "* Nulls were removed:\n",
    "    * Nulls or reserved information was incoded into the special characters above and removed\n",
    "    * All the percent signs, dollar signs, and commas were removed from values\n",
    "* Columns were combined into desired features\n",
    "    * high_edu was generated from combining percent of teachers that have a masters or doctorate\n",
    "    * Features for teacher_exp_0to5, teacher_exp_6to10, and teacher_exp_11_plus were generated from combining:\n",
    "        * Beginning teachers and teachers with 1-5 years of experience into teacher_exp_0to5\n",
    "        * Teachers with 11+ years of experience were combined into teacher_exp_11_plus\n",
    "        * teacher_exp_6to10 stayed the same. Teachers of 6-10 years of experience\n",
    "* There were an initial 1571 rows\n",
    "    * The total number of rows after preperation and cleaning is 1391\n",
    "* Separate into train, validate, and test datasets"
   ]
  },
  {
   "cell_type": "markdown",
   "id": "a51d5542",
   "metadata": {},
   "source": [
    "## Data Dictionary  \n",
    "\n",
    "| Feature | Definition |\n",
    "|:--------|:-----------|\n",
    "|school_id| The id number of the school from TEA|\n",
    "|english_1| English I, percent of students at approaches grade level or above for English I|\n",
    "|english_2| English II, percent of students at approaches grade level or above for English II|\n",
    "|algebra| Algebra, percent of students at approaches grade level or above for Algebra|\n",
    "|biology| Biology, percent of students at approaches grade level or above for Biology|\n",
    "|history| U.S. History, percent of students at approaches grade level or above for U.S. History|\n",
    "|bilingual_or_english_learner| EB/EL Current and Monitored, percent of students in the dual-language program that enables emergent bilingual (EB) students/English learners (ELs) to become proficient in listening, speaking, reading, and writing in the English language through the development of literacy and academic skills in the primary language and English.|\n",
    "|teacher_exp_0to5| Integer, number of teachers with 0-5 years of experience|\n",
    "|teacher_exp_6to10| Integer, number of teachers with 6-10 numbers of experience|\n",
    "|teacher_exp_11_plus| Integer, number of teachers with 11 or more years of experience|\n",
    "|extracurricular_expend| The amount of funds (in dollars) spent on extracurriculuars per student|\n",
    "|total_expend| The average total amount of funds (in dollars) spent per student|\n",
    "|econdis| students that are from homes that are below the poverty line\n",
    "|salary| Average Actual Salary, Average amount teachers are being paid in dollars|\n",
    "|high_edu| Percent of teachers with a masters or doctorate degree|\n",
    "|ratio| Count of the number of students per one teacher|"
   ]
  },
  {
   "cell_type": "code",
   "execution_count": 2,
   "id": "85b156f2-8bf9-450d-b396-85e2ee99f204",
   "metadata": {},
   "outputs": [
    {
     "data": {
      "text/html": [
       "<div>\n",
       "<style scoped>\n",
       "    .dataframe tbody tr th:only-of-type {\n",
       "        vertical-align: middle;\n",
       "    }\n",
       "\n",
       "    .dataframe tbody tr th {\n",
       "        vertical-align: top;\n",
       "    }\n",
       "\n",
       "    .dataframe thead th {\n",
       "        text-align: right;\n",
       "    }\n",
       "</style>\n",
       "<table border=\"1\" class=\"dataframe\">\n",
       "  <thead>\n",
       "    <tr style=\"text-align: right;\">\n",
       "      <th></th>\n",
       "      <th>school_id</th>\n",
       "      <th>english_1</th>\n",
       "      <th>english_2</th>\n",
       "      <th>algebra</th>\n",
       "      <th>biology</th>\n",
       "      <th>history</th>\n",
       "      <th>bilingual_or_english_learner</th>\n",
       "      <th>econdis</th>\n",
       "      <th>salary</th>\n",
       "      <th>teacher_exp_6to10</th>\n",
       "      <th>extracurricular_expend</th>\n",
       "      <th>total_expend</th>\n",
       "      <th>student_teacher_ratio</th>\n",
       "      <th>teacher_exp_0to5</th>\n",
       "      <th>teacher_exp_11_plus</th>\n",
       "      <th>high_edu</th>\n",
       "    </tr>\n",
       "  </thead>\n",
       "  <tbody>\n",
       "    <tr>\n",
       "      <th>0</th>\n",
       "      <td>1902001</td>\n",
       "      <td>67.0</td>\n",
       "      <td>82.0</td>\n",
       "      <td>95.0</td>\n",
       "      <td>88.0</td>\n",
       "      <td>93.0</td>\n",
       "      <td>1.2</td>\n",
       "      <td>34.3</td>\n",
       "      <td>55259.0</td>\n",
       "      <td>16.4</td>\n",
       "      <td>1852.0</td>\n",
       "      <td>10656.0</td>\n",
       "      <td>10.1</td>\n",
       "      <td>18.0</td>\n",
       "      <td>65.6</td>\n",
       "      <td>22.0</td>\n",
       "    </tr>\n",
       "    <tr>\n",
       "      <th>1</th>\n",
       "      <td>1903001</td>\n",
       "      <td>75.0</td>\n",
       "      <td>87.0</td>\n",
       "      <td>76.0</td>\n",
       "      <td>92.0</td>\n",
       "      <td>93.0</td>\n",
       "      <td>1.3</td>\n",
       "      <td>34.5</td>\n",
       "      <td>48689.0</td>\n",
       "      <td>21.6</td>\n",
       "      <td>2056.0</td>\n",
       "      <td>11177.0</td>\n",
       "      <td>8.3</td>\n",
       "      <td>27.2</td>\n",
       "      <td>51.2</td>\n",
       "      <td>29.4</td>\n",
       "    </tr>\n",
       "    <tr>\n",
       "      <th>2</th>\n",
       "      <td>1904001</td>\n",
       "      <td>78.0</td>\n",
       "      <td>80.0</td>\n",
       "      <td>90.0</td>\n",
       "      <td>87.0</td>\n",
       "      <td>88.0</td>\n",
       "      <td>4.7</td>\n",
       "      <td>42.2</td>\n",
       "      <td>51538.0</td>\n",
       "      <td>15.2</td>\n",
       "      <td>2151.0</td>\n",
       "      <td>10885.0</td>\n",
       "      <td>8.8</td>\n",
       "      <td>42.2</td>\n",
       "      <td>42.6</td>\n",
       "      <td>37.0</td>\n",
       "    </tr>\n",
       "  </tbody>\n",
       "</table>\n",
       "</div>"
      ],
      "text/plain": [
       "   school_id  english_1  english_2  algebra  biology  history  \\\n",
       "0    1902001       67.0       82.0     95.0     88.0     93.0   \n",
       "1    1903001       75.0       87.0     76.0     92.0     93.0   \n",
       "2    1904001       78.0       80.0     90.0     87.0     88.0   \n",
       "\n",
       "   bilingual_or_english_learner  econdis   salary  teacher_exp_6to10  \\\n",
       "0                           1.2     34.3  55259.0               16.4   \n",
       "1                           1.3     34.5  48689.0               21.6   \n",
       "2                           4.7     42.2  51538.0               15.2   \n",
       "\n",
       "   extracurricular_expend  total_expend  student_teacher_ratio  \\\n",
       "0                  1852.0       10656.0                   10.1   \n",
       "1                  2056.0       11177.0                    8.3   \n",
       "2                  2151.0       10885.0                    8.8   \n",
       "\n",
       "   teacher_exp_0to5  teacher_exp_11_plus  high_edu  \n",
       "0              18.0                 65.6      22.0  \n",
       "1              27.2                 51.2      29.4  \n",
       "2              42.2                 42.6      37.0  "
      ]
     },
     "execution_count": 2,
     "metadata": {},
     "output_type": "execute_result"
    }
   ],
   "source": [
    "#loading in cleaned data\n",
    "df=pr.clean_df()\n",
    "df.head(3)"
   ]
  },
  {
   "cell_type": "markdown",
   "id": "006f1ce6",
   "metadata": {},
   "source": [
    "## Exploration\n",
    "For exploration, we have 5 target variables. Each STAAR exam subject was explored using a variety of questions and the resulting insights were found. "
   ]
  },
  {
   "cell_type": "markdown",
   "id": "54f9a4bb",
   "metadata": {},
   "source": [
    "<div class=\"alert alert-info\">\n",
    "    <header>\n",
    "    <h2>Exploration Question 1:</h2>\n",
    "    </header>\n",
    "    <dl>\n",
    "        <dt>Do schools with more economically disadvantaged students have a lower average STAAR score for biology than all schools?</dt>\n",
    "        <dd>- $H_0$: There is no difference in the average STAAR score for biology in schools with 50% or more  economically disadvantaged students and all schools</dd>\n",
    "        <dd>- $H_a$: The difference in the average STAAR score for biology is <strong>significantly lower</strong> in schools with 50% or more economically disadvantaged students compared to all schools</dd>\n",
    "    </dl>\n",
    "</div>"
   ]
  },
  {
   "cell_type": "markdown",
   "id": "7761fbab",
   "metadata": {},
   "source": [
    "<div class=\"alert alert-info\">\n",
    "    <header>\n",
    "    <h2>Exploration Question 2:</h2>\n",
    "    </header>\n",
    "    <dl>\n",
    "        <dt>Do schools with teachers that have more years of experience have a better average STAAR score passing rates?</dt>\n",
    "        <dd>- $H_0$: There is no difference in the average STAAR score passing rates in schools with 48.5% (all schools average) or fewer teachers with 11 years of experience or more and schools with more than 48.5% of their teachers with 11 years of experience or more</dd>\n",
    "        <dd>- $H_a$: The difference in the average STAAR score passing rates is <strong>significantly lower</strong> in schools with 48.5% or fewer teachers with 11 years of experience or more compared to schools with 48.5% or more teachers with 11 years of experience or more </dd>\n",
    "    </dl>\n",
    "</div>"
   ]
  },
  {
   "cell_type": "code",
   "execution_count": 3,
   "id": "998489bb",
   "metadata": {},
   "outputs": [
    {
     "data": {
      "text/html": [
       "<div>\n",
       "<style scoped>\n",
       "    .dataframe tbody tr th:only-of-type {\n",
       "        vertical-align: middle;\n",
       "    }\n",
       "\n",
       "    .dataframe tbody tr th {\n",
       "        vertical-align: top;\n",
       "    }\n",
       "\n",
       "    .dataframe thead th {\n",
       "        text-align: right;\n",
       "    }\n",
       "</style>\n",
       "<table border=\"1\" class=\"dataframe\">\n",
       "  <thead>\n",
       "    <tr style=\"text-align: right;\">\n",
       "      <th></th>\n",
       "      <th>Above Average</th>\n",
       "      <th>Below Average</th>\n",
       "      <th>p-value</th>\n",
       "    </tr>\n",
       "  </thead>\n",
       "  <tbody>\n",
       "    <tr>\n",
       "      <th>English 1</th>\n",
       "      <td>71.20</td>\n",
       "      <td>62.79</td>\n",
       "      <td>8.067572e-12</td>\n",
       "    </tr>\n",
       "    <tr>\n",
       "      <th>English 2</th>\n",
       "      <td>76.03</td>\n",
       "      <td>68.33</td>\n",
       "      <td>1.599697e-11</td>\n",
       "    </tr>\n",
       "    <tr>\n",
       "      <th>Algebra</th>\n",
       "      <td>77.71</td>\n",
       "      <td>68.50</td>\n",
       "      <td>1.294142e-13</td>\n",
       "    </tr>\n",
       "    <tr>\n",
       "      <th>Biology</th>\n",
       "      <td>85.90</td>\n",
       "      <td>79.49</td>\n",
       "      <td>2.454686e-11</td>\n",
       "    </tr>\n",
       "    <tr>\n",
       "      <th>U.S. History</th>\n",
       "      <td>89.94</td>\n",
       "      <td>85.59</td>\n",
       "      <td>1.435440e-08</td>\n",
       "    </tr>\n",
       "  </tbody>\n",
       "</table>\n",
       "</div>"
      ],
      "text/plain": [
       "              Above Average  Below Average       p-value\n",
       "English 1             71.20          62.79  8.067572e-12\n",
       "English 2             76.03          68.33  1.599697e-11\n",
       "Algebra               77.71          68.50  1.294142e-13\n",
       "Biology               85.90          79.49  2.454686e-11\n",
       "U.S. History          89.94          85.59  1.435440e-08"
      ]
     },
     "execution_count": 3,
     "metadata": {},
     "output_type": "execute_result"
    }
   ],
   "source": [
    "ex.teacher_ex(df)"
   ]
  },
  {
   "cell_type": "markdown",
   "id": "49ad3311",
   "metadata": {},
   "source": [
    "This table shows each subject and the percent of students that pass each subjects STAAR exam. The column 'Above Average' represents the the averages for schools that have above average precent of their teachers that have 11 or more years of experience. Conversly, 'Below Average' represents the averages for schools that have below average percent of their teachers with 11 or more years of experience."
   ]
  },
  {
   "cell_type": "code",
   "execution_count": 4,
   "id": "a8811acc",
   "metadata": {},
   "outputs": [
    {
     "data": {
      "image/png": "[encoded data removed]",
      "text/plain": [
       "<Figure size 1000x500 with 1 Axes>"
      ]
     },
     "metadata": {},
     "output_type": "display_data"
    }
   ],
   "source": [
    "ex.q2_plot(df)"
   ]
  },
  {
   "cell_type": "markdown",
   "id": "4f028e95",
   "metadata": {},
   "source": [
    "**Takeaway**\n",
    "* Schools that have an above average amount of teachers with 11 or more years of experience have significantly higher passing rates for students STAAR exams across all subjects."
   ]
  },
  {
   "cell_type": "markdown",
   "id": "36410587",
   "metadata": {},
   "source": [
    "<div class=\"alert alert-info\">\n",
    "    <header>\n",
    "    <h2>Exploration Question 3:</h2>\n",
    "    </header>\n",
    "    <dl>\n",
    "        <dt>Of schools with above average economically disadvantaged students, do the schools with higher average STAAR scores get more funding per student?</dt>\n",
    "        <dd>- $H_0$: There is no difference in the funding per student in schools with above average percent economically disadvantaged students and above average percent passing STAAR exams compared to schools with above average percent economically disadvantaged students and less than average percent passing STAAR scores</dd>\n",
    "        <dd>- $H_a$: The difference in the average funding per student in schools with an above average economically disadvantaged students and above average percent passing STAAR exams is <strong>significantly more</strong> than schools with above average percent economically disadvantaged students and below average percent passing STAAR scores</dd>\n",
    "    </dl>\n",
    "</div>"
   ]
  },
  {
   "cell_type": "markdown",
   "id": "b4f9a53f",
   "metadata": {},
   "source": [
    "<div class=\"alert alert-info\">\n",
    "    <header>\n",
    "    <h2>Exploration Question 4:</h2>\n",
    "    </header>\n",
    "    <dl>\n",
    "        <dt>Do schools with above average economically disadvantaged students have significantly higher total expendature per student?</dt>\n",
    "        <dd>- $H_0$: There is no difference in total expendature per student in schools with above average economically disadvantaged students and schools with below average economically disadvantaged students</dd>\n",
    "        <dd>- $H_a$: Schools with above average economically disadvantaged students have <strong>significantly higher</strong> total expendature per student than schools with below average economically disadvantaged students</dd>\n",
    "    </dl>\n",
    "</div>"
   ]
  },
  {
   "cell_type": "markdown",
   "id": "6441d3a3",
   "metadata": {},
   "source": [
    "<div class=\"alert alert-info\">\n",
    "    <header>\n",
    "    <h2>Exploration Question 5:</h2>\n",
    "    </header>\n",
    "    <dl>\n",
    "        <dt>Is there a statisticaly significant correlation between the amount of extracurricular expendatures and algebra passing rates?</dt>\n",
    "        <dd>- $H_0$: There is no significant correlation between the amount of extracurricular expendatures and algebra passing rates</dd>\n",
    "        <dd>- $H_a$: There is a significant correlation between the amount of extracurricular expendatures and algebra passing rates</dd>\n",
    "    </dl>\n",
    "</div>"
   ]
  },
  {
   "cell_type": "markdown",
   "id": "92819f72",
   "metadata": {},
   "source": [
    "<div class=\"alert alert-info\">\n",
    "    <header>\n",
    "    <h2>Exploration Question 6:</h2>\n",
    "    </header>\n",
    "    <dl>\n",
    "        <dt>Is there a statisticaly significant correlation between student teacher ratio and all subjects passing rates?</dt>\n",
    "        <dd>- $H_0$: There is no significant correlation between student teacher ratio and all subjects passing rates</dd>\n",
    "        <dd>- $H_a$: There is a significant correlation between student teacher ratio and all subjects passing rates</dd>\n",
    "    </dl>\n",
    "</div>"
   ]
  },
  {
   "cell_type": "code",
   "execution_count": null,
   "id": "ec068758",
   "metadata": {},
   "outputs": [],
   "source": []
  }
 ],
 "metadata": {
  "kernelspec": {
   "display_name": "Python 3 (ipykernel)",
   "language": "python",
   "name": "python3"
  },
  "language_info": {
   "codemirror_mode": {
    "name": "ipython",
    "version": 3
   },
   "file_extension": ".py",
   "mimetype": "text/x-python",
   "name": "python",
   "nbconvert_exporter": "python",
   "pygments_lexer": "ipython3",
   "version": "3.9.13"
  }
 },
 "nbformat": 4,
 "nbformat_minor": 5
}
