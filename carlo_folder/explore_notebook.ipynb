{
 "cells": [
  {
   "cell_type": "code",
   "execution_count": 1,
   "id": "51b9440e",
   "metadata": {},
   "outputs": [],
   "source": [
    "#basic data science imports\n",
    "import numpy as np\n",
    "import pandas as pd\n",
    "import matplotlib.pyplot as plt\n",
    "import seaborn as sns\n",
    "%matplotlib inline\n",
    "\n",
    "# py modules\n",
    "import prepare_copy as p\n",
    "import explore as e\n",
    "\n",
    "#Stats imports\n",
    "from scipy import stats\n",
    "import math\n",
    "from scipy.stats import pearsonr, spearmanr, ttest_1samp, ttest_ind, chi2_contingency\n",
    "\n",
    "#sklearn split, impute, math stuff\n",
    "from sklearn.impute import SimpleImputer\n",
    "from sklearn.metrics import mean_squared_error, r2_score, explained_variance_score\n",
    "from sklearn.metrics import accuracy_score\n",
    "from sklearn.metrics import precision_score\n",
    "from sklearn.metrics import recall_score\n",
    "from sklearn.metrics import classification_report\n",
    "from sklearn.metrics import confusion_matrix\n",
    "\n",
    "# Scalers\n",
    "from sklearn.preprocessing import RobustScaler\n",
    "from sklearn.preprocessing import StandardScaler\n",
    "from sklearn.preprocessing import MinMaxScaler\n",
    "\n",
    "# modeling methods\n",
    "from sklearn.feature_selection import SelectKBest, f_regression\n",
    "from sklearn.feature_selection import RFE\n",
    "from sklearn.linear_model import LinearRegression, LassoLars, TweedieRegressor\n",
    "from sklearn.preprocessing import PolynomialFeatures\n",
    "from sklearn.linear_model import LogisticRegression\n"
   ]
  },
  {
   "cell_type": "markdown",
   "id": "d1088bf9",
   "metadata": {},
   "source": [
    "## Load CSV <a class=\"tocSkip\">"
   ]
  },
  {
   "cell_type": "code",
   "execution_count": 2,
   "id": "745f584e",
   "metadata": {},
   "outputs": [
    {
     "data": {
      "text/html": [
       "<div>\n",
       "<style scoped>\n",
       "    .dataframe tbody tr th:only-of-type {\n",
       "        vertical-align: middle;\n",
       "    }\n",
       "\n",
       "    .dataframe tbody tr th {\n",
       "        vertical-align: top;\n",
       "    }\n",
       "\n",
       "    .dataframe thead th {\n",
       "        text-align: right;\n",
       "    }\n",
       "</style>\n",
       "<table border=\"1\" class=\"dataframe\">\n",
       "  <thead>\n",
       "    <tr style=\"text-align: right;\">\n",
       "      <th></th>\n",
       "      <th>school_id</th>\n",
       "      <th>english_1</th>\n",
       "      <th>english_2</th>\n",
       "      <th>algebra</th>\n",
       "      <th>biology</th>\n",
       "      <th>history</th>\n",
       "      <th>bilingual_or_english_learner</th>\n",
       "      <th>econdis</th>\n",
       "      <th>salary</th>\n",
       "      <th>teacher_exp_6to10</th>\n",
       "      <th>extracurricular_expend</th>\n",
       "      <th>total_expend</th>\n",
       "      <th>student_teacher_ratio</th>\n",
       "      <th>teacher_exp_0to5</th>\n",
       "      <th>teacher_exp_11_plus</th>\n",
       "      <th>high_edu</th>\n",
       "    </tr>\n",
       "  </thead>\n",
       "  <tbody>\n",
       "    <tr>\n",
       "      <th>0</th>\n",
       "      <td>1902001</td>\n",
       "      <td>67.0</td>\n",
       "      <td>82.0</td>\n",
       "      <td>95.0</td>\n",
       "      <td>88.0</td>\n",
       "      <td>93.0</td>\n",
       "      <td>1.2</td>\n",
       "      <td>34.3</td>\n",
       "      <td>55259.0</td>\n",
       "      <td>16.4</td>\n",
       "      <td>1852.0</td>\n",
       "      <td>10656.0</td>\n",
       "      <td>10.1</td>\n",
       "      <td>18.0</td>\n",
       "      <td>65.6</td>\n",
       "      <td>22.0</td>\n",
       "    </tr>\n",
       "    <tr>\n",
       "      <th>1</th>\n",
       "      <td>1903001</td>\n",
       "      <td>75.0</td>\n",
       "      <td>87.0</td>\n",
       "      <td>76.0</td>\n",
       "      <td>92.0</td>\n",
       "      <td>93.0</td>\n",
       "      <td>1.3</td>\n",
       "      <td>34.5</td>\n",
       "      <td>48689.0</td>\n",
       "      <td>21.6</td>\n",
       "      <td>2056.0</td>\n",
       "      <td>11177.0</td>\n",
       "      <td>8.3</td>\n",
       "      <td>27.2</td>\n",
       "      <td>51.2</td>\n",
       "      <td>29.4</td>\n",
       "    </tr>\n",
       "    <tr>\n",
       "      <th>2</th>\n",
       "      <td>1904001</td>\n",
       "      <td>78.0</td>\n",
       "      <td>80.0</td>\n",
       "      <td>90.0</td>\n",
       "      <td>87.0</td>\n",
       "      <td>88.0</td>\n",
       "      <td>4.7</td>\n",
       "      <td>42.2</td>\n",
       "      <td>51538.0</td>\n",
       "      <td>15.2</td>\n",
       "      <td>2151.0</td>\n",
       "      <td>10885.0</td>\n",
       "      <td>8.8</td>\n",
       "      <td>42.2</td>\n",
       "      <td>42.6</td>\n",
       "      <td>37.0</td>\n",
       "    </tr>\n",
       "    <tr>\n",
       "      <th>3</th>\n",
       "      <td>1906002</td>\n",
       "      <td>82.0</td>\n",
       "      <td>80.0</td>\n",
       "      <td>100.0</td>\n",
       "      <td>100.0</td>\n",
       "      <td>96.0</td>\n",
       "      <td>2.9</td>\n",
       "      <td>48.1</td>\n",
       "      <td>58500.0</td>\n",
       "      <td>20.4</td>\n",
       "      <td>1899.0</td>\n",
       "      <td>15043.0</td>\n",
       "      <td>11.9</td>\n",
       "      <td>20.5</td>\n",
       "      <td>59.1</td>\n",
       "      <td>9.8</td>\n",
       "    </tr>\n",
       "    <tr>\n",
       "      <th>4</th>\n",
       "      <td>1907001</td>\n",
       "      <td>64.0</td>\n",
       "      <td>66.0</td>\n",
       "      <td>82.0</td>\n",
       "      <td>83.0</td>\n",
       "      <td>83.0</td>\n",
       "      <td>13.8</td>\n",
       "      <td>79.9</td>\n",
       "      <td>52703.0</td>\n",
       "      <td>17.4</td>\n",
       "      <td>1504.0</td>\n",
       "      <td>11129.0</td>\n",
       "      <td>12.2</td>\n",
       "      <td>22.7</td>\n",
       "      <td>59.9</td>\n",
       "      <td>20.8</td>\n",
       "    </tr>\n",
       "  </tbody>\n",
       "</table>\n",
       "</div>"
      ],
      "text/plain": [
       "   school_id  english_1  english_2  algebra  biology  history  \\\n",
       "0    1902001       67.0       82.0     95.0     88.0     93.0   \n",
       "1    1903001       75.0       87.0     76.0     92.0     93.0   \n",
       "2    1904001       78.0       80.0     90.0     87.0     88.0   \n",
       "3    1906002       82.0       80.0    100.0    100.0     96.0   \n",
       "4    1907001       64.0       66.0     82.0     83.0     83.0   \n",
       "\n",
       "   bilingual_or_english_learner  econdis   salary  teacher_exp_6to10  \\\n",
       "0                           1.2     34.3  55259.0               16.4   \n",
       "1                           1.3     34.5  48689.0               21.6   \n",
       "2                           4.7     42.2  51538.0               15.2   \n",
       "3                           2.9     48.1  58500.0               20.4   \n",
       "4                          13.8     79.9  52703.0               17.4   \n",
       "\n",
       "   extracurricular_expend  total_expend  student_teacher_ratio  \\\n",
       "0                  1852.0       10656.0                   10.1   \n",
       "1                  2056.0       11177.0                    8.3   \n",
       "2                  2151.0       10885.0                    8.8   \n",
       "3                  1899.0       15043.0                   11.9   \n",
       "4                  1504.0       11129.0                   12.2   \n",
       "\n",
       "   teacher_exp_0to5  teacher_exp_11_plus  high_edu  \n",
       "0              18.0                 65.6      22.0  \n",
       "1              27.2                 51.2      29.4  \n",
       "2              42.2                 42.6      37.0  \n",
       "3              20.5                 59.1       9.8  \n",
       "4              22.7                 59.9      20.8  "
      ]
     },
     "execution_count": 2,
     "metadata": {},
     "output_type": "execute_result"
    }
   ],
   "source": [
    "df = p.clean_df()\n",
    "df.head()"
   ]
  },
  {
   "cell_type": "code",
   "execution_count": 3,
   "id": "4fe41127",
   "metadata": {},
   "outputs": [
    {
     "data": {
      "text/html": [
       "<div>\n",
       "<style scoped>\n",
       "    .dataframe tbody tr th:only-of-type {\n",
       "        vertical-align: middle;\n",
       "    }\n",
       "\n",
       "    .dataframe tbody tr th {\n",
       "        vertical-align: top;\n",
       "    }\n",
       "\n",
       "    .dataframe thead th {\n",
       "        text-align: right;\n",
       "    }\n",
       "</style>\n",
       "<table border=\"1\" class=\"dataframe\">\n",
       "  <thead>\n",
       "    <tr style=\"text-align: right;\">\n",
       "      <th></th>\n",
       "      <th>school_id</th>\n",
       "      <th>english_1</th>\n",
       "      <th>english_2</th>\n",
       "      <th>algebra</th>\n",
       "      <th>biology</th>\n",
       "      <th>history</th>\n",
       "      <th>bilingual_or_english_learner</th>\n",
       "      <th>econdis</th>\n",
       "      <th>salary</th>\n",
       "      <th>teacher_exp_6to10</th>\n",
       "      <th>extracurricular_expend</th>\n",
       "      <th>total_expend</th>\n",
       "      <th>student_teacher_ratio</th>\n",
       "      <th>teacher_exp_0to5</th>\n",
       "      <th>teacher_exp_11_plus</th>\n",
       "      <th>high_edu</th>\n",
       "    </tr>\n",
       "  </thead>\n",
       "  <tbody>\n",
       "    <tr>\n",
       "      <th>school_id</th>\n",
       "      <td>1.000000</td>\n",
       "      <td>0.005715</td>\n",
       "      <td>-0.003270</td>\n",
       "      <td>-0.004538</td>\n",
       "      <td>-0.002333</td>\n",
       "      <td>-0.012406</td>\n",
       "      <td>-0.014365</td>\n",
       "      <td>-0.052041</td>\n",
       "      <td>-0.059016</td>\n",
       "      <td>-0.042642</td>\n",
       "      <td>0.142962</td>\n",
       "      <td>0.058563</td>\n",
       "      <td>-0.141934</td>\n",
       "      <td>-0.084784</td>\n",
       "      <td>0.102443</td>\n",
       "      <td>-0.104058</td>\n",
       "    </tr>\n",
       "    <tr>\n",
       "      <th>english_1</th>\n",
       "      <td>0.005715</td>\n",
       "      <td>1.000000</td>\n",
       "      <td>0.832476</td>\n",
       "      <td>0.702677</td>\n",
       "      <td>0.721794</td>\n",
       "      <td>0.567064</td>\n",
       "      <td>-0.434795</td>\n",
       "      <td>-0.566804</td>\n",
       "      <td>0.030837</td>\n",
       "      <td>0.018751</td>\n",
       "      <td>0.147837</td>\n",
       "      <td>-0.159440</td>\n",
       "      <td>-0.056956</td>\n",
       "      <td>-0.286042</td>\n",
       "      <td>0.264944</td>\n",
       "      <td>0.137146</td>\n",
       "    </tr>\n",
       "    <tr>\n",
       "      <th>english_2</th>\n",
       "      <td>-0.003270</td>\n",
       "      <td>0.832476</td>\n",
       "      <td>1.000000</td>\n",
       "      <td>0.648409</td>\n",
       "      <td>0.817062</td>\n",
       "      <td>0.746659</td>\n",
       "      <td>-0.426149</td>\n",
       "      <td>-0.560583</td>\n",
       "      <td>0.079544</td>\n",
       "      <td>0.064513</td>\n",
       "      <td>0.161494</td>\n",
       "      <td>-0.217032</td>\n",
       "      <td>-0.002373</td>\n",
       "      <td>-0.277698</td>\n",
       "      <td>0.234203</td>\n",
       "      <td>0.141506</td>\n",
       "    </tr>\n",
       "    <tr>\n",
       "      <th>algebra</th>\n",
       "      <td>-0.004538</td>\n",
       "      <td>0.702677</td>\n",
       "      <td>0.648409</td>\n",
       "      <td>1.000000</td>\n",
       "      <td>0.643643</td>\n",
       "      <td>0.519039</td>\n",
       "      <td>-0.247730</td>\n",
       "      <td>-0.334292</td>\n",
       "      <td>-0.021095</td>\n",
       "      <td>0.000093</td>\n",
       "      <td>0.204670</td>\n",
       "      <td>-0.097419</td>\n",
       "      <td>-0.126999</td>\n",
       "      <td>-0.237602</td>\n",
       "      <td>0.227817</td>\n",
       "      <td>0.021673</td>\n",
       "    </tr>\n",
       "    <tr>\n",
       "      <th>biology</th>\n",
       "      <td>-0.002333</td>\n",
       "      <td>0.721794</td>\n",
       "      <td>0.817062</td>\n",
       "      <td>0.643643</td>\n",
       "      <td>1.000000</td>\n",
       "      <td>0.765080</td>\n",
       "      <td>-0.364884</td>\n",
       "      <td>-0.499743</td>\n",
       "      <td>0.054303</td>\n",
       "      <td>0.038545</td>\n",
       "      <td>0.199177</td>\n",
       "      <td>-0.187942</td>\n",
       "      <td>-0.052343</td>\n",
       "      <td>-0.254278</td>\n",
       "      <td>0.224617</td>\n",
       "      <td>0.073084</td>\n",
       "    </tr>\n",
       "    <tr>\n",
       "      <th>history</th>\n",
       "      <td>-0.012406</td>\n",
       "      <td>0.567064</td>\n",
       "      <td>0.746659</td>\n",
       "      <td>0.519039</td>\n",
       "      <td>0.765080</td>\n",
       "      <td>1.000000</td>\n",
       "      <td>-0.289671</td>\n",
       "      <td>-0.467822</td>\n",
       "      <td>0.116160</td>\n",
       "      <td>0.084718</td>\n",
       "      <td>0.127937</td>\n",
       "      <td>-0.204155</td>\n",
       "      <td>0.029041</td>\n",
       "      <td>-0.225146</td>\n",
       "      <td>0.173699</td>\n",
       "      <td>0.108696</td>\n",
       "    </tr>\n",
       "    <tr>\n",
       "      <th>bilingual_or_english_learner</th>\n",
       "      <td>-0.014365</td>\n",
       "      <td>-0.434795</td>\n",
       "      <td>-0.426149</td>\n",
       "      <td>-0.247730</td>\n",
       "      <td>-0.364884</td>\n",
       "      <td>-0.289671</td>\n",
       "      <td>1.000000</td>\n",
       "      <td>0.593040</td>\n",
       "      <td>0.181381</td>\n",
       "      <td>0.127291</td>\n",
       "      <td>-0.326251</td>\n",
       "      <td>-0.024918</td>\n",
       "      <td>0.191446</td>\n",
       "      <td>0.272408</td>\n",
       "      <td>-0.324388</td>\n",
       "      <td>0.044602</td>\n",
       "    </tr>\n",
       "    <tr>\n",
       "      <th>econdis</th>\n",
       "      <td>-0.052041</td>\n",
       "      <td>-0.566804</td>\n",
       "      <td>-0.560583</td>\n",
       "      <td>-0.334292</td>\n",
       "      <td>-0.499743</td>\n",
       "      <td>-0.467822</td>\n",
       "      <td>0.593040</td>\n",
       "      <td>1.000000</td>\n",
       "      <td>-0.048425</td>\n",
       "      <td>-0.043178</td>\n",
       "      <td>-0.226025</td>\n",
       "      <td>0.122795</td>\n",
       "      <td>0.072583</td>\n",
       "      <td>0.350291</td>\n",
       "      <td>-0.314335</td>\n",
       "      <td>-0.040042</td>\n",
       "    </tr>\n",
       "    <tr>\n",
       "      <th>salary</th>\n",
       "      <td>-0.059016</td>\n",
       "      <td>0.030837</td>\n",
       "      <td>0.079544</td>\n",
       "      <td>-0.021095</td>\n",
       "      <td>0.054303</td>\n",
       "      <td>0.116160</td>\n",
       "      <td>0.181381</td>\n",
       "      <td>-0.048425</td>\n",
       "      <td>1.000000</td>\n",
       "      <td>0.216543</td>\n",
       "      <td>-0.230121</td>\n",
       "      <td>-0.090416</td>\n",
       "      <td>0.223493</td>\n",
       "      <td>-0.247659</td>\n",
       "      <td>0.129969</td>\n",
       "      <td>0.382308</td>\n",
       "    </tr>\n",
       "    <tr>\n",
       "      <th>teacher_exp_6to10</th>\n",
       "      <td>-0.042642</td>\n",
       "      <td>0.018751</td>\n",
       "      <td>0.064513</td>\n",
       "      <td>0.000093</td>\n",
       "      <td>0.038545</td>\n",
       "      <td>0.084718</td>\n",
       "      <td>0.127291</td>\n",
       "      <td>-0.043178</td>\n",
       "      <td>0.216543</td>\n",
       "      <td>1.000000</td>\n",
       "      <td>-0.173858</td>\n",
       "      <td>-0.143909</td>\n",
       "      <td>0.208182</td>\n",
       "      <td>-0.175395</td>\n",
       "      <td>-0.329088</td>\n",
       "      <td>0.095818</td>\n",
       "    </tr>\n",
       "    <tr>\n",
       "      <th>extracurricular_expend</th>\n",
       "      <td>0.142962</td>\n",
       "      <td>0.147837</td>\n",
       "      <td>0.161494</td>\n",
       "      <td>0.204670</td>\n",
       "      <td>0.199177</td>\n",
       "      <td>0.127937</td>\n",
       "      <td>-0.326251</td>\n",
       "      <td>-0.226025</td>\n",
       "      <td>-0.230121</td>\n",
       "      <td>-0.173858</td>\n",
       "      <td>1.000000</td>\n",
       "      <td>0.217546</td>\n",
       "      <td>-0.494379</td>\n",
       "      <td>-0.213562</td>\n",
       "      <td>0.291097</td>\n",
       "      <td>-0.295582</td>\n",
       "    </tr>\n",
       "    <tr>\n",
       "      <th>total_expend</th>\n",
       "      <td>0.058563</td>\n",
       "      <td>-0.159440</td>\n",
       "      <td>-0.217032</td>\n",
       "      <td>-0.097419</td>\n",
       "      <td>-0.187942</td>\n",
       "      <td>-0.204155</td>\n",
       "      <td>-0.024918</td>\n",
       "      <td>0.122795</td>\n",
       "      <td>-0.090416</td>\n",
       "      <td>-0.143909</td>\n",
       "      <td>0.217546</td>\n",
       "      <td>1.000000</td>\n",
       "      <td>-0.535459</td>\n",
       "      <td>-0.075744</td>\n",
       "      <td>0.144243</td>\n",
       "      <td>-0.114654</td>\n",
       "    </tr>\n",
       "    <tr>\n",
       "      <th>student_teacher_ratio</th>\n",
       "      <td>-0.141934</td>\n",
       "      <td>-0.056956</td>\n",
       "      <td>-0.002373</td>\n",
       "      <td>-0.126999</td>\n",
       "      <td>-0.052343</td>\n",
       "      <td>0.029041</td>\n",
       "      <td>0.191446</td>\n",
       "      <td>0.072583</td>\n",
       "      <td>0.223493</td>\n",
       "      <td>0.208182</td>\n",
       "      <td>-0.494379</td>\n",
       "      <td>-0.535459</td>\n",
       "      <td>1.000000</td>\n",
       "      <td>0.187628</td>\n",
       "      <td>-0.283372</td>\n",
       "      <td>0.307261</td>\n",
       "    </tr>\n",
       "    <tr>\n",
       "      <th>teacher_exp_0to5</th>\n",
       "      <td>-0.084784</td>\n",
       "      <td>-0.286042</td>\n",
       "      <td>-0.277698</td>\n",
       "      <td>-0.237602</td>\n",
       "      <td>-0.254278</td>\n",
       "      <td>-0.225146</td>\n",
       "      <td>0.272408</td>\n",
       "      <td>0.350291</td>\n",
       "      <td>-0.247659</td>\n",
       "      <td>-0.175395</td>\n",
       "      <td>-0.213562</td>\n",
       "      <td>-0.075744</td>\n",
       "      <td>0.187628</td>\n",
       "      <td>1.000000</td>\n",
       "      <td>-0.871931</td>\n",
       "      <td>-0.122499</td>\n",
       "    </tr>\n",
       "    <tr>\n",
       "      <th>teacher_exp_11_plus</th>\n",
       "      <td>0.102443</td>\n",
       "      <td>0.264944</td>\n",
       "      <td>0.234203</td>\n",
       "      <td>0.227817</td>\n",
       "      <td>0.224617</td>\n",
       "      <td>0.173699</td>\n",
       "      <td>-0.324388</td>\n",
       "      <td>-0.314335</td>\n",
       "      <td>0.129969</td>\n",
       "      <td>-0.329088</td>\n",
       "      <td>0.291097</td>\n",
       "      <td>0.144243</td>\n",
       "      <td>-0.283372</td>\n",
       "      <td>-0.871931</td>\n",
       "      <td>1.000000</td>\n",
       "      <td>0.069711</td>\n",
       "    </tr>\n",
       "    <tr>\n",
       "      <th>high_edu</th>\n",
       "      <td>-0.104058</td>\n",
       "      <td>0.137146</td>\n",
       "      <td>0.141506</td>\n",
       "      <td>0.021673</td>\n",
       "      <td>0.073084</td>\n",
       "      <td>0.108696</td>\n",
       "      <td>0.044602</td>\n",
       "      <td>-0.040042</td>\n",
       "      <td>0.382308</td>\n",
       "      <td>0.095818</td>\n",
       "      <td>-0.295582</td>\n",
       "      <td>-0.114654</td>\n",
       "      <td>0.307261</td>\n",
       "      <td>-0.122499</td>\n",
       "      <td>0.069711</td>\n",
       "      <td>1.000000</td>\n",
       "    </tr>\n",
       "  </tbody>\n",
       "</table>\n",
       "</div>"
      ],
      "text/plain": [
       "                              school_id  english_1  english_2   algebra  \\\n",
       "school_id                      1.000000   0.005715  -0.003270 -0.004538   \n",
       "english_1                      0.005715   1.000000   0.832476  0.702677   \n",
       "english_2                     -0.003270   0.832476   1.000000  0.648409   \n",
       "algebra                       -0.004538   0.702677   0.648409  1.000000   \n",
       "biology                       -0.002333   0.721794   0.817062  0.643643   \n",
       "history                       -0.012406   0.567064   0.746659  0.519039   \n",
       "bilingual_or_english_learner  -0.014365  -0.434795  -0.426149 -0.247730   \n",
       "econdis                       -0.052041  -0.566804  -0.560583 -0.334292   \n",
       "salary                        -0.059016   0.030837   0.079544 -0.021095   \n",
       "teacher_exp_6to10             -0.042642   0.018751   0.064513  0.000093   \n",
       "extracurricular_expend         0.142962   0.147837   0.161494  0.204670   \n",
       "total_expend                   0.058563  -0.159440  -0.217032 -0.097419   \n",
       "student_teacher_ratio         -0.141934  -0.056956  -0.002373 -0.126999   \n",
       "teacher_exp_0to5              -0.084784  -0.286042  -0.277698 -0.237602   \n",
       "teacher_exp_11_plus            0.102443   0.264944   0.234203  0.227817   \n",
       "high_edu                      -0.104058   0.137146   0.141506  0.021673   \n",
       "\n",
       "                               biology   history  \\\n",
       "school_id                    -0.002333 -0.012406   \n",
       "english_1                     0.721794  0.567064   \n",
       "english_2                     0.817062  0.746659   \n",
       "algebra                       0.643643  0.519039   \n",
       "biology                       1.000000  0.765080   \n",
       "history                       0.765080  1.000000   \n",
       "bilingual_or_english_learner -0.364884 -0.289671   \n",
       "econdis                      -0.499743 -0.467822   \n",
       "salary                        0.054303  0.116160   \n",
       "teacher_exp_6to10             0.038545  0.084718   \n",
       "extracurricular_expend        0.199177  0.127937   \n",
       "total_expend                 -0.187942 -0.204155   \n",
       "student_teacher_ratio        -0.052343  0.029041   \n",
       "teacher_exp_0to5             -0.254278 -0.225146   \n",
       "teacher_exp_11_plus           0.224617  0.173699   \n",
       "high_edu                      0.073084  0.108696   \n",
       "\n",
       "                              bilingual_or_english_learner   econdis  \\\n",
       "school_id                                        -0.014365 -0.052041   \n",
       "english_1                                        -0.434795 -0.566804   \n",
       "english_2                                        -0.426149 -0.560583   \n",
       "algebra                                          -0.247730 -0.334292   \n",
       "biology                                          -0.364884 -0.499743   \n",
       "history                                          -0.289671 -0.467822   \n",
       "bilingual_or_english_learner                      1.000000  0.593040   \n",
       "econdis                                           0.593040  1.000000   \n",
       "salary                                            0.181381 -0.048425   \n",
       "teacher_exp_6to10                                 0.127291 -0.043178   \n",
       "extracurricular_expend                           -0.326251 -0.226025   \n",
       "total_expend                                     -0.024918  0.122795   \n",
       "student_teacher_ratio                             0.191446  0.072583   \n",
       "teacher_exp_0to5                                  0.272408  0.350291   \n",
       "teacher_exp_11_plus                              -0.324388 -0.314335   \n",
       "high_edu                                          0.044602 -0.040042   \n",
       "\n",
       "                                salary  teacher_exp_6to10  \\\n",
       "school_id                    -0.059016          -0.042642   \n",
       "english_1                     0.030837           0.018751   \n",
       "english_2                     0.079544           0.064513   \n",
       "algebra                      -0.021095           0.000093   \n",
       "biology                       0.054303           0.038545   \n",
       "history                       0.116160           0.084718   \n",
       "bilingual_or_english_learner  0.181381           0.127291   \n",
       "econdis                      -0.048425          -0.043178   \n",
       "salary                        1.000000           0.216543   \n",
       "teacher_exp_6to10             0.216543           1.000000   \n",
       "extracurricular_expend       -0.230121          -0.173858   \n",
       "total_expend                 -0.090416          -0.143909   \n",
       "student_teacher_ratio         0.223493           0.208182   \n",
       "teacher_exp_0to5             -0.247659          -0.175395   \n",
       "teacher_exp_11_plus           0.129969          -0.329088   \n",
       "high_edu                      0.382308           0.095818   \n",
       "\n",
       "                              extracurricular_expend  total_expend  \\\n",
       "school_id                                   0.142962      0.058563   \n",
       "english_1                                   0.147837     -0.159440   \n",
       "english_2                                   0.161494     -0.217032   \n",
       "algebra                                     0.204670     -0.097419   \n",
       "biology                                     0.199177     -0.187942   \n",
       "history                                     0.127937     -0.204155   \n",
       "bilingual_or_english_learner               -0.326251     -0.024918   \n",
       "econdis                                    -0.226025      0.122795   \n",
       "salary                                     -0.230121     -0.090416   \n",
       "teacher_exp_6to10                          -0.173858     -0.143909   \n",
       "extracurricular_expend                      1.000000      0.217546   \n",
       "total_expend                                0.217546      1.000000   \n",
       "student_teacher_ratio                      -0.494379     -0.535459   \n",
       "teacher_exp_0to5                           -0.213562     -0.075744   \n",
       "teacher_exp_11_plus                         0.291097      0.144243   \n",
       "high_edu                                   -0.295582     -0.114654   \n",
       "\n",
       "                              student_teacher_ratio  teacher_exp_0to5  \\\n",
       "school_id                                 -0.141934         -0.084784   \n",
       "english_1                                 -0.056956         -0.286042   \n",
       "english_2                                 -0.002373         -0.277698   \n",
       "algebra                                   -0.126999         -0.237602   \n",
       "biology                                   -0.052343         -0.254278   \n",
       "history                                    0.029041         -0.225146   \n",
       "bilingual_or_english_learner               0.191446          0.272408   \n",
       "econdis                                    0.072583          0.350291   \n",
       "salary                                     0.223493         -0.247659   \n",
       "teacher_exp_6to10                          0.208182         -0.175395   \n",
       "extracurricular_expend                    -0.494379         -0.213562   \n",
       "total_expend                              -0.535459         -0.075744   \n",
       "student_teacher_ratio                      1.000000          0.187628   \n",
       "teacher_exp_0to5                           0.187628          1.000000   \n",
       "teacher_exp_11_plus                       -0.283372         -0.871931   \n",
       "high_edu                                   0.307261         -0.122499   \n",
       "\n",
       "                              teacher_exp_11_plus  high_edu  \n",
       "school_id                                0.102443 -0.104058  \n",
       "english_1                                0.264944  0.137146  \n",
       "english_2                                0.234203  0.141506  \n",
       "algebra                                  0.227817  0.021673  \n",
       "biology                                  0.224617  0.073084  \n",
       "history                                  0.173699  0.108696  \n",
       "bilingual_or_english_learner            -0.324388  0.044602  \n",
       "econdis                                 -0.314335 -0.040042  \n",
       "salary                                   0.129969  0.382308  \n",
       "teacher_exp_6to10                       -0.329088  0.095818  \n",
       "extracurricular_expend                   0.291097 -0.295582  \n",
       "total_expend                             0.144243 -0.114654  \n",
       "student_teacher_ratio                   -0.283372  0.307261  \n",
       "teacher_exp_0to5                        -0.871931 -0.122499  \n",
       "teacher_exp_11_plus                      1.000000  0.069711  \n",
       "high_edu                                 0.069711  1.000000  "
      ]
     },
     "execution_count": 3,
     "metadata": {},
     "output_type": "execute_result"
    }
   ],
   "source": [
    "df.corr()"
   ]
  },
  {
   "cell_type": "code",
   "execution_count": 4,
   "id": "8d7563f9",
   "metadata": {},
   "outputs": [],
   "source": [
    "# Copy of original\n",
    "df_original = df.copy()"
   ]
  },
  {
   "cell_type": "code",
   "execution_count": 5,
   "id": "a0d169a8",
   "metadata": {},
   "outputs": [
    {
     "data": {
      "text/plain": [
       "((778, 16), (334, 16), (279, 16))"
      ]
     },
     "execution_count": 5,
     "metadata": {},
     "output_type": "execute_result"
    }
   ],
   "source": [
    "# Split data\n",
    "train, val, test = e.split_data(df)\n",
    "train.shape, val.shape, test.shape"
   ]
  },
  {
   "cell_type": "code",
   "execution_count": 6,
   "id": "1caa8361",
   "metadata": {},
   "outputs": [
    {
     "data": {
      "text/plain": [
       "econdis                        -0.546219\n",
       "bilingual_or_english_learner   -0.418480\n",
       "teacher_exp_0to5               -0.320049\n",
       "total_expend                   -0.253371\n",
       "school_id                      -0.017341\n",
       "student_teacher_ratio           0.017873\n",
       "salary                          0.070578\n",
       "teacher_exp_6to10               0.086055\n",
       "high_edu                        0.126521\n",
       "extracurricular_expend          0.148891\n",
       "teacher_exp_11_plus             0.261092\n",
       "algebra                         0.666678\n",
       "history                         0.758639\n",
       "biology                         0.820704\n",
       "english_1                       0.840392\n",
       "english_2                       1.000000\n",
       "Name: english_2, dtype: float64"
      ]
     },
     "execution_count": 6,
     "metadata": {},
     "output_type": "execute_result"
    }
   ],
   "source": [
    "# Correlations for History STAAR test\n",
    "train.corr().sort_values('english_2').english_2"
   ]
  },
  {
   "cell_type": "code",
   "execution_count": 7,
   "id": "60391e48",
   "metadata": {},
   "outputs": [
    {
     "data": {
      "text/plain": [
       "71.66642703091301"
      ]
     },
     "execution_count": 7,
     "metadata": {},
     "output_type": "execute_result"
    }
   ],
   "source": [
    "# Average English 2 score\n",
    "df.english_2.mean()"
   ]
  },
  {
   "cell_type": "code",
   "execution_count": 8,
   "id": "026f4ada",
   "metadata": {},
   "outputs": [
    {
     "data": {
      "text/html": [
       "<div>\n",
       "<style scoped>\n",
       "    .dataframe tbody tr th:only-of-type {\n",
       "        vertical-align: middle;\n",
       "    }\n",
       "\n",
       "    .dataframe tbody tr th {\n",
       "        vertical-align: top;\n",
       "    }\n",
       "\n",
       "    .dataframe thead th {\n",
       "        text-align: right;\n",
       "    }\n",
       "</style>\n",
       "<table border=\"1\" class=\"dataframe\">\n",
       "  <thead>\n",
       "    <tr style=\"text-align: right;\">\n",
       "      <th></th>\n",
       "      <th>feature</th>\n",
       "      <th>average</th>\n",
       "    </tr>\n",
       "  </thead>\n",
       "  <tbody>\n",
       "    <tr>\n",
       "      <th>0</th>\n",
       "      <td>english_1</td>\n",
       "      <td>67.115681</td>\n",
       "    </tr>\n",
       "    <tr>\n",
       "      <th>1</th>\n",
       "      <td>english_2</td>\n",
       "      <td>72.290488</td>\n",
       "    </tr>\n",
       "    <tr>\n",
       "      <th>2</th>\n",
       "      <td>algebra</td>\n",
       "      <td>73.232648</td>\n",
       "    </tr>\n",
       "    <tr>\n",
       "      <th>3</th>\n",
       "      <td>biology</td>\n",
       "      <td>82.784062</td>\n",
       "    </tr>\n",
       "    <tr>\n",
       "      <th>4</th>\n",
       "      <td>history</td>\n",
       "      <td>87.829049</td>\n",
       "    </tr>\n",
       "    <tr>\n",
       "      <th>5</th>\n",
       "      <td>bilingual_or_english_learner</td>\n",
       "      <td>12.965810</td>\n",
       "    </tr>\n",
       "    <tr>\n",
       "      <th>6</th>\n",
       "      <td>econdis</td>\n",
       "      <td>58.517352</td>\n",
       "    </tr>\n",
       "    <tr>\n",
       "      <th>7</th>\n",
       "      <td>salary</td>\n",
       "      <td>58004.344473</td>\n",
       "    </tr>\n",
       "    <tr>\n",
       "      <th>8</th>\n",
       "      <td>teacher_exp_6to10</td>\n",
       "      <td>19.362339</td>\n",
       "    </tr>\n",
       "    <tr>\n",
       "      <th>9</th>\n",
       "      <td>extracurricular_expend</td>\n",
       "      <td>710.056555</td>\n",
       "    </tr>\n",
       "    <tr>\n",
       "      <th>10</th>\n",
       "      <td>total_expend</td>\n",
       "      <td>9817.897172</td>\n",
       "    </tr>\n",
       "    <tr>\n",
       "      <th>11</th>\n",
       "      <td>student_teacher_ratio</td>\n",
       "      <td>14.293316</td>\n",
       "    </tr>\n",
       "    <tr>\n",
       "      <th>12</th>\n",
       "      <td>teacher_exp_0to5</td>\n",
       "      <td>32.119794</td>\n",
       "    </tr>\n",
       "    <tr>\n",
       "      <th>13</th>\n",
       "      <td>teacher_exp_11_plus</td>\n",
       "      <td>48.519923</td>\n",
       "    </tr>\n",
       "    <tr>\n",
       "      <th>14</th>\n",
       "      <td>high_edu</td>\n",
       "      <td>30.856812</td>\n",
       "    </tr>\n",
       "  </tbody>\n",
       "</table>\n",
       "</div>"
      ],
      "text/plain": [
       "                         feature       average\n",
       "0                      english_1     67.115681\n",
       "1                      english_2     72.290488\n",
       "2                        algebra     73.232648\n",
       "3                        biology     82.784062\n",
       "4                        history     87.829049\n",
       "5   bilingual_or_english_learner     12.965810\n",
       "6                        econdis     58.517352\n",
       "7                         salary  58004.344473\n",
       "8              teacher_exp_6to10     19.362339\n",
       "9         extracurricular_expend    710.056555\n",
       "10                  total_expend   9817.897172\n",
       "11         student_teacher_ratio     14.293316\n",
       "12              teacher_exp_0to5     32.119794\n",
       "13           teacher_exp_11_plus     48.519923\n",
       "14                      high_edu     30.856812"
      ]
     },
     "execution_count": 8,
     "metadata": {},
     "output_type": "execute_result"
    }
   ],
   "source": [
    "# Loop for all averages\n",
    "columns = list(train.columns[1:])\n",
    "\n",
    "empty_list = []\n",
    "\n",
    "for col in columns:\n",
    "    \n",
    "    x = train[col].mean()\n",
    "    \n",
    "    empty_list.append(x)\n",
    "\n",
    "average = pd.DataFrame({'feature': list(df.columns[1:]), 'average': empty_list})\n",
    "average"
   ]
  },
  {
   "cell_type": "code",
   "execution_count": 9,
   "id": "cd371c15",
   "metadata": {},
   "outputs": [
    {
     "data": {
      "text/html": [
       "<div>\n",
       "<style scoped>\n",
       "    .dataframe tbody tr th:only-of-type {\n",
       "        vertical-align: middle;\n",
       "    }\n",
       "\n",
       "    .dataframe tbody tr th {\n",
       "        vertical-align: top;\n",
       "    }\n",
       "\n",
       "    .dataframe thead th {\n",
       "        text-align: right;\n",
       "    }\n",
       "</style>\n",
       "<table border=\"1\" class=\"dataframe\">\n",
       "  <thead>\n",
       "    <tr style=\"text-align: right;\">\n",
       "      <th></th>\n",
       "      <th>count</th>\n",
       "      <th>mean</th>\n",
       "      <th>std</th>\n",
       "      <th>min</th>\n",
       "      <th>25%</th>\n",
       "      <th>50%</th>\n",
       "      <th>75%</th>\n",
       "      <th>max</th>\n",
       "    </tr>\n",
       "  </thead>\n",
       "  <tbody>\n",
       "    <tr>\n",
       "      <th>school_id</th>\n",
       "      <td>778.0</td>\n",
       "      <td>1.166658e+08</td>\n",
       "      <td>7.308367e+07</td>\n",
       "      <td>1902001.0</td>\n",
       "      <td>5.790505e+07</td>\n",
       "      <td>1.019125e+08</td>\n",
       "      <td>1.789110e+08</td>\n",
       "      <td>253901001.0</td>\n",
       "    </tr>\n",
       "    <tr>\n",
       "      <th>english_1</th>\n",
       "      <td>778.0</td>\n",
       "      <td>6.711568e+01</td>\n",
       "      <td>1.763244e+01</td>\n",
       "      <td>10.0</td>\n",
       "      <td>5.700000e+01</td>\n",
       "      <td>6.800000e+01</td>\n",
       "      <td>8.000000e+01</td>\n",
       "      <td>100.0</td>\n",
       "    </tr>\n",
       "    <tr>\n",
       "      <th>english_2</th>\n",
       "      <td>778.0</td>\n",
       "      <td>7.229049e+01</td>\n",
       "      <td>1.638062e+01</td>\n",
       "      <td>0.0</td>\n",
       "      <td>6.300000e+01</td>\n",
       "      <td>7.400000e+01</td>\n",
       "      <td>8.400000e+01</td>\n",
       "      <td>100.0</td>\n",
       "    </tr>\n",
       "    <tr>\n",
       "      <th>algebra</th>\n",
       "      <td>778.0</td>\n",
       "      <td>7.323265e+01</td>\n",
       "      <td>1.784067e+01</td>\n",
       "      <td>0.0</td>\n",
       "      <td>6.400000e+01</td>\n",
       "      <td>7.600000e+01</td>\n",
       "      <td>8.600000e+01</td>\n",
       "      <td>100.0</td>\n",
       "    </tr>\n",
       "    <tr>\n",
       "      <th>biology</th>\n",
       "      <td>778.0</td>\n",
       "      <td>8.278406e+01</td>\n",
       "      <td>1.377712e+01</td>\n",
       "      <td>19.0</td>\n",
       "      <td>7.600000e+01</td>\n",
       "      <td>8.600000e+01</td>\n",
       "      <td>9.300000e+01</td>\n",
       "      <td>100.0</td>\n",
       "    </tr>\n",
       "    <tr>\n",
       "      <th>history</th>\n",
       "      <td>778.0</td>\n",
       "      <td>8.782905e+01</td>\n",
       "      <td>1.102602e+01</td>\n",
       "      <td>30.0</td>\n",
       "      <td>8.400000e+01</td>\n",
       "      <td>9.100000e+01</td>\n",
       "      <td>9.500000e+01</td>\n",
       "      <td>100.0</td>\n",
       "    </tr>\n",
       "    <tr>\n",
       "      <th>bilingual_or_english_learner</th>\n",
       "      <td>778.0</td>\n",
       "      <td>1.296581e+01</td>\n",
       "      <td>1.392269e+01</td>\n",
       "      <td>0.0</td>\n",
       "      <td>3.100000e+00</td>\n",
       "      <td>7.950000e+00</td>\n",
       "      <td>1.760000e+01</td>\n",
       "      <td>99.6</td>\n",
       "    </tr>\n",
       "    <tr>\n",
       "      <th>econdis</th>\n",
       "      <td>778.0</td>\n",
       "      <td>5.851735e+01</td>\n",
       "      <td>2.337060e+01</td>\n",
       "      <td>0.2</td>\n",
       "      <td>4.052500e+01</td>\n",
       "      <td>5.925000e+01</td>\n",
       "      <td>7.790000e+01</td>\n",
       "      <td>100.0</td>\n",
       "    </tr>\n",
       "    <tr>\n",
       "      <th>salary</th>\n",
       "      <td>778.0</td>\n",
       "      <td>5.800434e+04</td>\n",
       "      <td>5.638828e+03</td>\n",
       "      <td>30166.0</td>\n",
       "      <td>5.419300e+04</td>\n",
       "      <td>5.837100e+04</td>\n",
       "      <td>6.223225e+04</td>\n",
       "      <td>76933.0</td>\n",
       "    </tr>\n",
       "    <tr>\n",
       "      <th>teacher_exp_6to10</th>\n",
       "      <td>778.0</td>\n",
       "      <td>1.936234e+01</td>\n",
       "      <td>8.024472e+00</td>\n",
       "      <td>0.0</td>\n",
       "      <td>1.452500e+01</td>\n",
       "      <td>1.970000e+01</td>\n",
       "      <td>2.400000e+01</td>\n",
       "      <td>57.1</td>\n",
       "    </tr>\n",
       "    <tr>\n",
       "      <th>extracurricular_expend</th>\n",
       "      <td>778.0</td>\n",
       "      <td>7.100566e+02</td>\n",
       "      <td>6.604328e+02</td>\n",
       "      <td>0.0</td>\n",
       "      <td>1.762500e+02</td>\n",
       "      <td>5.300000e+02</td>\n",
       "      <td>1.072000e+03</td>\n",
       "      <td>3487.0</td>\n",
       "    </tr>\n",
       "    <tr>\n",
       "      <th>total_expend</th>\n",
       "      <td>778.0</td>\n",
       "      <td>9.817897e+03</td>\n",
       "      <td>4.317453e+03</td>\n",
       "      <td>3954.0</td>\n",
       "      <td>7.590000e+03</td>\n",
       "      <td>8.921500e+03</td>\n",
       "      <td>1.096175e+04</td>\n",
       "      <td>69687.0</td>\n",
       "    </tr>\n",
       "    <tr>\n",
       "      <th>student_teacher_ratio</th>\n",
       "      <td>778.0</td>\n",
       "      <td>1.429332e+01</td>\n",
       "      <td>4.298317e+00</td>\n",
       "      <td>2.8</td>\n",
       "      <td>1.120000e+01</td>\n",
       "      <td>1.420000e+01</td>\n",
       "      <td>1.660000e+01</td>\n",
       "      <td>33.0</td>\n",
       "    </tr>\n",
       "    <tr>\n",
       "      <th>teacher_exp_0to5</th>\n",
       "      <td>778.0</td>\n",
       "      <td>3.211979e+01</td>\n",
       "      <td>1.536136e+01</td>\n",
       "      <td>0.0</td>\n",
       "      <td>2.242500e+01</td>\n",
       "      <td>3.020000e+01</td>\n",
       "      <td>3.920000e+01</td>\n",
       "      <td>100.0</td>\n",
       "    </tr>\n",
       "    <tr>\n",
       "      <th>teacher_exp_11_plus</th>\n",
       "      <td>778.0</td>\n",
       "      <td>4.851992e+01</td>\n",
       "      <td>1.617230e+01</td>\n",
       "      <td>0.0</td>\n",
       "      <td>3.982500e+01</td>\n",
       "      <td>4.900000e+01</td>\n",
       "      <td>5.937500e+01</td>\n",
       "      <td>100.0</td>\n",
       "    </tr>\n",
       "    <tr>\n",
       "      <th>high_edu</th>\n",
       "      <td>778.0</td>\n",
       "      <td>3.085681e+01</td>\n",
       "      <td>1.229920e+01</td>\n",
       "      <td>0.0</td>\n",
       "      <td>2.340000e+01</td>\n",
       "      <td>3.060000e+01</td>\n",
       "      <td>3.740000e+01</td>\n",
       "      <td>80.3</td>\n",
       "    </tr>\n",
       "  </tbody>\n",
       "</table>\n",
       "</div>"
      ],
      "text/plain": [
       "                              count          mean           std        min  \\\n",
       "school_id                     778.0  1.166658e+08  7.308367e+07  1902001.0   \n",
       "english_1                     778.0  6.711568e+01  1.763244e+01       10.0   \n",
       "english_2                     778.0  7.229049e+01  1.638062e+01        0.0   \n",
       "algebra                       778.0  7.323265e+01  1.784067e+01        0.0   \n",
       "biology                       778.0  8.278406e+01  1.377712e+01       19.0   \n",
       "history                       778.0  8.782905e+01  1.102602e+01       30.0   \n",
       "bilingual_or_english_learner  778.0  1.296581e+01  1.392269e+01        0.0   \n",
       "econdis                       778.0  5.851735e+01  2.337060e+01        0.2   \n",
       "salary                        778.0  5.800434e+04  5.638828e+03    30166.0   \n",
       "teacher_exp_6to10             778.0  1.936234e+01  8.024472e+00        0.0   \n",
       "extracurricular_expend        778.0  7.100566e+02  6.604328e+02        0.0   \n",
       "total_expend                  778.0  9.817897e+03  4.317453e+03     3954.0   \n",
       "student_teacher_ratio         778.0  1.429332e+01  4.298317e+00        2.8   \n",
       "teacher_exp_0to5              778.0  3.211979e+01  1.536136e+01        0.0   \n",
       "teacher_exp_11_plus           778.0  4.851992e+01  1.617230e+01        0.0   \n",
       "high_edu                      778.0  3.085681e+01  1.229920e+01        0.0   \n",
       "\n",
       "                                       25%           50%           75%  \\\n",
       "school_id                     5.790505e+07  1.019125e+08  1.789110e+08   \n",
       "english_1                     5.700000e+01  6.800000e+01  8.000000e+01   \n",
       "english_2                     6.300000e+01  7.400000e+01  8.400000e+01   \n",
       "algebra                       6.400000e+01  7.600000e+01  8.600000e+01   \n",
       "biology                       7.600000e+01  8.600000e+01  9.300000e+01   \n",
       "history                       8.400000e+01  9.100000e+01  9.500000e+01   \n",
       "bilingual_or_english_learner  3.100000e+00  7.950000e+00  1.760000e+01   \n",
       "econdis                       4.052500e+01  5.925000e+01  7.790000e+01   \n",
       "salary                        5.419300e+04  5.837100e+04  6.223225e+04   \n",
       "teacher_exp_6to10             1.452500e+01  1.970000e+01  2.400000e+01   \n",
       "extracurricular_expend        1.762500e+02  5.300000e+02  1.072000e+03   \n",
       "total_expend                  7.590000e+03  8.921500e+03  1.096175e+04   \n",
       "student_teacher_ratio         1.120000e+01  1.420000e+01  1.660000e+01   \n",
       "teacher_exp_0to5              2.242500e+01  3.020000e+01  3.920000e+01   \n",
       "teacher_exp_11_plus           3.982500e+01  4.900000e+01  5.937500e+01   \n",
       "high_edu                      2.340000e+01  3.060000e+01  3.740000e+01   \n",
       "\n",
       "                                      max  \n",
       "school_id                     253901001.0  \n",
       "english_1                           100.0  \n",
       "english_2                           100.0  \n",
       "algebra                             100.0  \n",
       "biology                             100.0  \n",
       "history                             100.0  \n",
       "bilingual_or_english_learner         99.6  \n",
       "econdis                             100.0  \n",
       "salary                            76933.0  \n",
       "teacher_exp_6to10                    57.1  \n",
       "extracurricular_expend             3487.0  \n",
       "total_expend                      69687.0  \n",
       "student_teacher_ratio                33.0  \n",
       "teacher_exp_0to5                    100.0  \n",
       "teacher_exp_11_plus                 100.0  \n",
       "high_edu                             80.3  "
      ]
     },
     "execution_count": 9,
     "metadata": {},
     "output_type": "execute_result"
    }
   ],
   "source": [
    "# Describe\n",
    "train.describe().T"
   ]
  },
  {
   "cell_type": "code",
   "execution_count": 96,
   "id": "2d460118",
   "metadata": {},
   "outputs": [
    {
     "data": {
      "text/plain": [
       "<AxesSubplot:xlabel='english_2', ylabel='Count'>"
      ]
     },
     "execution_count": 96,
     "metadata": {},
     "output_type": "execute_result"
    },
    {
     "data": {
      "image/png": "[encoded data removed]",
      "text/plain": [
       "<Figure size 640x480 with 1 Axes>"
      ]
     },
     "metadata": {},
     "output_type": "display_data"
    }
   ],
   "source": [
    "sns.histplot(train.english_2)"
   ]
  },
  {
   "cell_type": "markdown",
   "id": "30dc9b7b",
   "metadata": {},
   "source": [
    "**Questions**\n",
    "\n",
    "1. On average, do schools with a higher than average economically disadvantaged lower STAAR scores?\n",
    "2. Of the schools with above average economically disadvantaged students, do the schools with higher average STAAR scores get more funding per student? \n",
    "3. Do schools with higher STAAR scores spend more per student on extra curriculars?\n",
    "4. Of the schools with above average economically disadvantaged, does the school allocate less money toward extra curriculars?\n",
    "5. Do schools who pay their teachers on average more than the state average have higher STAAR scores?\n"
   ]
  },
  {
   "cell_type": "markdown",
   "id": "2806de6a",
   "metadata": {},
   "source": [
    "## Answer Q's"
   ]
  },
  {
   "cell_type": "markdown",
   "id": "6f5f54cd",
   "metadata": {},
   "source": [
    "### 1. On average, do schools with a higher than average economically disadvantaged have lower STAAR scores?\n",
    "- Average 58.5174%"
   ]
  },
  {
   "cell_type": "code",
   "execution_count": 97,
   "id": "3008136a",
   "metadata": {},
   "outputs": [
    {
     "data": {
      "text/plain": [
       "58.51735218509003"
      ]
     },
     "execution_count": 97,
     "metadata": {},
     "output_type": "execute_result"
    }
   ],
   "source": [
    "train.econdis.mean()"
   ]
  },
  {
   "cell_type": "code",
   "execution_count": 10,
   "id": "cab7e911",
   "metadata": {},
   "outputs": [
    {
     "data": {
      "text/html": [
       "<div>\n",
       "<style scoped>\n",
       "    .dataframe tbody tr th:only-of-type {\n",
       "        vertical-align: middle;\n",
       "    }\n",
       "\n",
       "    .dataframe tbody tr th {\n",
       "        vertical-align: top;\n",
       "    }\n",
       "\n",
       "    .dataframe thead th {\n",
       "        text-align: right;\n",
       "    }\n",
       "</style>\n",
       "<table border=\"1\" class=\"dataframe\">\n",
       "  <thead>\n",
       "    <tr style=\"text-align: right;\">\n",
       "      <th></th>\n",
       "      <th>school_id</th>\n",
       "      <th>english_1</th>\n",
       "      <th>english_2</th>\n",
       "      <th>algebra</th>\n",
       "      <th>biology</th>\n",
       "      <th>history</th>\n",
       "      <th>bilingual_or_english_learner</th>\n",
       "      <th>econdis</th>\n",
       "      <th>salary</th>\n",
       "      <th>teacher_exp_6to10</th>\n",
       "      <th>extracurricular_expend</th>\n",
       "      <th>total_expend</th>\n",
       "      <th>student_teacher_ratio</th>\n",
       "      <th>teacher_exp_0to5</th>\n",
       "      <th>teacher_exp_11_plus</th>\n",
       "      <th>high_edu</th>\n",
       "    </tr>\n",
       "  </thead>\n",
       "  <tbody>\n",
       "    <tr>\n",
       "      <th>404</th>\n",
       "      <td>57905088</td>\n",
       "      <td>98.0</td>\n",
       "      <td>100.0</td>\n",
       "      <td>100.0</td>\n",
       "      <td>100.0</td>\n",
       "      <td>100.0</td>\n",
       "      <td>30.5</td>\n",
       "      <td>87.9</td>\n",
       "      <td>69483.0</td>\n",
       "      <td>26.9</td>\n",
       "      <td>38.0</td>\n",
       "      <td>7558.0</td>\n",
       "      <td>19.2</td>\n",
       "      <td>22.4</td>\n",
       "      <td>50.7</td>\n",
       "      <td>44.8</td>\n",
       "    </tr>\n",
       "    <tr>\n",
       "      <th>429</th>\n",
       "      <td>57912005</td>\n",
       "      <td>45.0</td>\n",
       "      <td>47.0</td>\n",
       "      <td>79.0</td>\n",
       "      <td>94.0</td>\n",
       "      <td>75.0</td>\n",
       "      <td>47.5</td>\n",
       "      <td>85.4</td>\n",
       "      <td>63990.0</td>\n",
       "      <td>20.2</td>\n",
       "      <td>13.0</td>\n",
       "      <td>24531.0</td>\n",
       "      <td>5.9</td>\n",
       "      <td>51.9</td>\n",
       "      <td>27.9</td>\n",
       "      <td>31.1</td>\n",
       "    </tr>\n",
       "    <tr>\n",
       "      <th>382</th>\n",
       "      <td>57905013</td>\n",
       "      <td>33.0</td>\n",
       "      <td>35.0</td>\n",
       "      <td>26.0</td>\n",
       "      <td>56.0</td>\n",
       "      <td>59.0</td>\n",
       "      <td>37.9</td>\n",
       "      <td>95.1</td>\n",
       "      <td>63077.0</td>\n",
       "      <td>15.9</td>\n",
       "      <td>404.0</td>\n",
       "      <td>10267.0</td>\n",
       "      <td>19.4</td>\n",
       "      <td>40.4</td>\n",
       "      <td>43.8</td>\n",
       "      <td>29.6</td>\n",
       "    </tr>\n",
       "    <tr>\n",
       "      <th>1181</th>\n",
       "      <td>178915001</td>\n",
       "      <td>58.0</td>\n",
       "      <td>79.0</td>\n",
       "      <td>82.0</td>\n",
       "      <td>77.0</td>\n",
       "      <td>86.0</td>\n",
       "      <td>5.5</td>\n",
       "      <td>99.0</td>\n",
       "      <td>58500.0</td>\n",
       "      <td>25.2</td>\n",
       "      <td>680.0</td>\n",
       "      <td>10517.0</td>\n",
       "      <td>12.4</td>\n",
       "      <td>49.3</td>\n",
       "      <td>25.4</td>\n",
       "      <td>31.9</td>\n",
       "    </tr>\n",
       "    <tr>\n",
       "      <th>706</th>\n",
       "      <td>101846001</td>\n",
       "      <td>72.0</td>\n",
       "      <td>82.0</td>\n",
       "      <td>87.0</td>\n",
       "      <td>81.0</td>\n",
       "      <td>91.0</td>\n",
       "      <td>31.5</td>\n",
       "      <td>81.4</td>\n",
       "      <td>64936.0</td>\n",
       "      <td>26.2</td>\n",
       "      <td>115.0</td>\n",
       "      <td>10661.0</td>\n",
       "      <td>14.6</td>\n",
       "      <td>27.3</td>\n",
       "      <td>46.6</td>\n",
       "      <td>56.1</td>\n",
       "    </tr>\n",
       "  </tbody>\n",
       "</table>\n",
       "</div>"
      ],
      "text/plain": [
       "      school_id  english_1  english_2  algebra  biology  history  \\\n",
       "404    57905088       98.0      100.0    100.0    100.0    100.0   \n",
       "429    57912005       45.0       47.0     79.0     94.0     75.0   \n",
       "382    57905013       33.0       35.0     26.0     56.0     59.0   \n",
       "1181  178915001       58.0       79.0     82.0     77.0     86.0   \n",
       "706   101846001       72.0       82.0     87.0     81.0     91.0   \n",
       "\n",
       "      bilingual_or_english_learner  econdis   salary  teacher_exp_6to10  \\\n",
       "404                           30.5     87.9  69483.0               26.9   \n",
       "429                           47.5     85.4  63990.0               20.2   \n",
       "382                           37.9     95.1  63077.0               15.9   \n",
       "1181                           5.5     99.0  58500.0               25.2   \n",
       "706                           31.5     81.4  64936.0               26.2   \n",
       "\n",
       "      extracurricular_expend  total_expend  student_teacher_ratio  \\\n",
       "404                     38.0        7558.0                   19.2   \n",
       "429                     13.0       24531.0                    5.9   \n",
       "382                    404.0       10267.0                   19.4   \n",
       "1181                   680.0       10517.0                   12.4   \n",
       "706                    115.0       10661.0                   14.6   \n",
       "\n",
       "      teacher_exp_0to5  teacher_exp_11_plus  high_edu  \n",
       "404               22.4                 50.7      44.8  \n",
       "429               51.9                 27.9      31.1  \n",
       "382               40.4                 43.8      29.6  \n",
       "1181              49.3                 25.4      31.9  \n",
       "706               27.3                 46.6      56.1  "
      ]
     },
     "execution_count": 10,
     "metadata": {},
     "output_type": "execute_result"
    }
   ],
   "source": [
    "#  above average Economically Disadvantaged\n",
    "econdis_above = train[train['econdis'] >= 58.517352]\n",
    "\n",
    "# below average Economically Disadvantaged \n",
    "econdis_below = train[train['econdis'] <= 58.517352]\n",
    "\n",
    "econdis_above.head(5)"
   ]
  },
  {
   "cell_type": "code",
   "execution_count": 11,
   "id": "b249d6dd",
   "metadata": {},
   "outputs": [
    {
     "data": {
      "image/png": "[encoded data removed]",
      "text/plain": [
       "<Figure size 1000x500 with 2 Axes>"
      ]
     },
     "metadata": {},
     "output_type": "display_data"
    }
   ],
   "source": [
    "plt.figure(figsize=(10, 5))\n",
    "\n",
    "plt.subplot(121)\n",
    "sns.histplot(econdis_above.english_2, ec='black')\n",
    "plt.title('Above Average Econ Dis')\n",
    "plt.xlabel('English 2 STAAR Scores')\n",
    "plt.ylabel('Count')\n",
    "\n",
    "plt.subplot(122)\n",
    "sns.histplot(econdis_below.english_2, ec='black')\n",
    "plt.title('Below Average Econ Dis')\n",
    "plt.xlabel('English 2 STAAR Scores')\n",
    "plt.ylabel('Count')\n",
    "\n",
    "plt.tight_layout()\n",
    "plt.show()"
   ]
  },
  {
   "cell_type": "markdown",
   "id": "1c0ef06e",
   "metadata": {},
   "source": [
    "<div class=\"alert alert-block alert-info\"> \n",
    "**Takeaways**\n",
    "    \n",
    "- Schools that have more students that are economically disadvantaged have lower English II STAAR scores.\n",
    "</div>"
   ]
  },
  {
   "cell_type": "code",
   "execution_count": 121,
   "id": "431a7fbe",
   "metadata": {},
   "outputs": [],
   "source": [
    "def above_below_econdis_staar(train):\n",
    "    \n",
    "    \n",
    "'''\n",
    "FIX LATER. THIS IS BROKEN.\n",
    "'''\n",
    "    \n",
    "    # above average Economically Disadvantaged\n",
    "    econdis_above = train[train['econdis'] > train.econdis.mean()]\n",
    "    \n",
    "    # below average Economically Disadvantaged \n",
    "    econdis_below = train[train['econdis'] <= train.econdis.mean()]\n",
    "    \n",
    "    # STAAR for above average economically disadvatanged\n",
    "    abv_alg_avg = econdis_above['algebra']\n",
    "    abv_eng1_avg = econdis_above['english_1']\n",
    "    abv_eng2_avg = econdis_above['english_2']\n",
    "    abv_bio_avg = econdis_above['biology']\n",
    "    abv_hist_avg = econdis_above['history']\n",
    "    \n",
    "    # STAAR for below average economically disadvatanged\n",
    "    blw_alg_avg = econdis_below['algebra']\n",
    "    blw_eng1_avg = econdis_below['english_1']\n",
    "    blw_eng2_avg = econdis_below['english_2']\n",
    "    blw_bio_avg = econdis_below['biology']\n",
    "    blw_hist_avg = econdis_below['history']\n",
    "    \n",
    "    # get the mean scores for above and below average economically disadvantaged groups\n",
    "    above_avg_scores = [econdis_above['algebra'].mean(), econdis_above['english_1'].mean(), \n",
    "                        econdis_above['english_2'].mean(), econdis_above['biology'].mean(), \n",
    "                        econdis_above['history'].mean()]\n",
    "    below_avg_scores = [econdis_below['algebra'].mean(), econdis_below['english_1'].mean(), \n",
    "                        econdis_below['english_2'].mean(), econdis_below['biology'].mean(), \n",
    "                        econdis_below['history'].mean()]\n",
    "    \n",
    "    # Subjects for plot\n",
    "    subjects = ['Algebra', 'English 1', 'English 2', 'Biology', 'History']\n",
    "    \n",
    "    # create a bar plot\n",
    "    width = 0.35\n",
    "    fig, ax = plt.subplots()\n",
    "    ax.bar(subjects, above_avg_scores, width, label='Above Average')\n",
    "    ax.bar([s + width for s in subjects], below_avg_scores, width, label='Below Average')\n",
    "    ax.set_ylabel('Mean Scores')\n",
    "    ax.set_title('Comparison of Mean Scores for Above and Below Average Economically Disadvantaged Groups')\n",
    "    ax.legend()\n",
    "    plt.show()\n",
    "\n",
    "   \n",
    "    "
   ]
  },
  {
   "cell_type": "code",
   "execution_count": 146,
   "id": "49d0b733",
   "metadata": {},
   "outputs": [],
   "source": [
    "def abv_avg_staar_df(train):\n",
    "    \n",
    "    '''\n",
    "    Subsets train dataset between schools that are above average economically disadvantaged and\n",
    "    schools that have less economoically disadvantaged students. \n",
    "    \n",
    "    Then it calculated the average STAAR passing rate between the two subsets and inputs it into a dataframe. \n",
    "    \n",
    "    Two-sample T-Test is used to very statistical significane and is included in dataframe.\n",
    "    '''\n",
    "    \n",
    "    # Subjects\n",
    "    subject=['English 1', 'English 2', 'Algebra', 'Biology', 'U.S. History']\n",
    "    \n",
    "    # above and below average Economically Disadvantaged\n",
    "    low = train[train['econdis'] <= train.econdis.mean()]\n",
    "    high = train[train['econdis'] > train.econdis.mean()]\n",
    "    \n",
    "    low_avg_staar = [round(low.english_1.mean(),2), round(low.english_2.mean(), 2), round(low.algebra.mean(),2),\n",
    "                round(low.biology.mean(),2), round(low.history.mean(),2)]\n",
    "    more_avg_staar = [round(high.english_1.mean(),2), round(high.english_2.mean(),2), round(high.algebra.mean(),2),\n",
    "                round(high.biology.mean(),2), round(high.history.mean(),2)]\n",
    "    \n",
    "    te1, pe1 = stats.ttest_ind(low.english_1, high.english_1)\n",
    "    te2, pe2 = stats.ttest_ind(low.english_2, high.english_2)\n",
    "    ta, pa = stats.ttest_ind(low.algebra, high.algebra)\n",
    "    tb, pb = stats.ttest_ind(low.biology, high.biology)\n",
    "    th, ph = stats.ttest_ind(low.history, high.history)\n",
    "    \n",
    "    pval = [pe1, pe2, pa, pb, ph]\n",
    "    \n",
    "    data = pd.DataFrame(index=subject,data={\n",
    "        'Above Average': more_avg_staar,\n",
    "        'Below Average': low_avg_staar,\n",
    "        'p-value': pval\n",
    "    }\n",
    "                      )\n",
    "    return data"
   ]
  },
  {
   "cell_type": "code",
   "execution_count": 147,
   "id": "3f5212e6",
   "metadata": {},
   "outputs": [
    {
     "data": {
      "text/html": [
       "<div>\n",
       "<style scoped>\n",
       "    .dataframe tbody tr th:only-of-type {\n",
       "        vertical-align: middle;\n",
       "    }\n",
       "\n",
       "    .dataframe tbody tr th {\n",
       "        vertical-align: top;\n",
       "    }\n",
       "\n",
       "    .dataframe thead th {\n",
       "        text-align: right;\n",
       "    }\n",
       "</style>\n",
       "<table border=\"1\" class=\"dataframe\">\n",
       "  <thead>\n",
       "    <tr style=\"text-align: right;\">\n",
       "      <th></th>\n",
       "      <th>Above Average</th>\n",
       "      <th>Below Average</th>\n",
       "      <th>p-value</th>\n",
       "    </tr>\n",
       "  </thead>\n",
       "  <tbody>\n",
       "    <tr>\n",
       "      <th>English 1</th>\n",
       "      <td>59.33</td>\n",
       "      <td>75.19</td>\n",
       "      <td>4.790567e-40</td>\n",
       "    </tr>\n",
       "    <tr>\n",
       "      <th>English 2</th>\n",
       "      <td>65.54</td>\n",
       "      <td>79.29</td>\n",
       "      <td>1.439728e-34</td>\n",
       "    </tr>\n",
       "    <tr>\n",
       "      <th>Algebra</th>\n",
       "      <td>68.30</td>\n",
       "      <td>78.35</td>\n",
       "      <td>1.183526e-15</td>\n",
       "    </tr>\n",
       "    <tr>\n",
       "      <th>Biology</th>\n",
       "      <td>77.66</td>\n",
       "      <td>88.10</td>\n",
       "      <td>5.583533e-28</td>\n",
       "    </tr>\n",
       "    <tr>\n",
       "      <th>U.S. History</th>\n",
       "      <td>84.18</td>\n",
       "      <td>91.61</td>\n",
       "      <td>3.802130e-22</td>\n",
       "    </tr>\n",
       "  </tbody>\n",
       "</table>\n",
       "</div>"
      ],
      "text/plain": [
       "              Above Average  Below Average       p-value\n",
       "English 1             59.33          75.19  4.790567e-40\n",
       "English 2             65.54          79.29  1.439728e-34\n",
       "Algebra               68.30          78.35  1.183526e-15\n",
       "Biology               77.66          88.10  5.583533e-28\n",
       "U.S. History          84.18          91.61  3.802130e-22"
      ]
     },
     "execution_count": 147,
     "metadata": {},
     "output_type": "execute_result"
    }
   ],
   "source": [
    "abv_avg_staar_df(train)"
   ]
  },
  {
   "cell_type": "code",
   "execution_count": 218,
   "id": "83e5953c",
   "metadata": {},
   "outputs": [],
   "source": [
    "def viz_abv_avg_staar():\n",
    "    \n",
    "    ma = abv_avg_staar_df(train)\n",
    "\n",
    "    plt.figure(figsize=(10,5))\n",
    "    X = ['English 1', 'English 2', 'Algebra', 'Biology', 'U.S. History']\n",
    "\n",
    "    X_axis = np.arange(len(X))\n",
    "\n",
    "    plt.bar(X_axis[0] - 0.1, ma['Above Average'][0], 0.2, label = 'Above Average', color=['blue'], ec='black')\n",
    "    plt.bar(X_axis[0] + 0.1, ma['Below Average'][0], 0.2, label = 'Below Average', color=['orange'], ec='black')\n",
    "\n",
    "    plt.bar(X_axis[1] - 0.1, ma['Above Average'][1], 0.2, color=['blue'], ec='black')\n",
    "    plt.bar(X_axis[1] + 0.1, ma['Below Average'][1], 0.2, color=['orange'], ec='black')\n",
    "\n",
    "    plt.bar(X_axis[2] - 0.1, ma['Above Average'][2], 0.2, color=['blue'], ec='black')\n",
    "    plt.bar(X_axis[2] + 0.1, ma['Below Average'][2], 0.2, color=['orange'], ec='black')\n",
    "\n",
    "    plt.bar(X_axis[3] - 0.1, ma['Above Average'][3], 0.2, color=['blue'], ec='black')\n",
    "    plt.bar(X_axis[3] + 0.1, ma['Below Average'][3], 0.2, color=['orange'], ec='black')\n",
    "\n",
    "    plt.bar(X_axis[4] - 0.1, ma['Above Average'][4], 0.2, color=['blue'], ec='black')\n",
    "    plt.bar(X_axis[4] + 0.1, ma['Below Average'][4], 0.2, color=['orange'], ec='black')\n",
    "\n",
    "    \n",
    "    ax = plt.gca()\n",
    "    \n",
    "    # Amount above bars\n",
    "    for p in ax.patches:\n",
    "        height = p.get_height()\n",
    "        ax.annotate('{:.0f}'.format(height), (p.get_x()+p.get_width()/2., height),\n",
    "                    ha='center', va='bottom', fontsize=10)\n",
    "\n",
    "    plt.xticks(X_axis, X)\n",
    "    plt.xlabel(\"Subject\")\n",
    "    plt.ylabel(\"Percent Passing\")\n",
    "    plt.title(\"STAAR Passing Rate for Economically Disadvantaged\")\n",
    "    plt.ylim(20, 95)\n",
    "    plt.grid(True, alpha=0.3, linestyle='--')\n",
    "    leg = plt.legend(title=\"Economically Disadvantaged\")\n",
    "    leg._legend_box.align = \"left\"\n",
    "    plt.show()"
   ]
  },
  {
   "cell_type": "code",
   "execution_count": 219,
   "id": "9b26cfdf",
   "metadata": {},
   "outputs": [
    {
     "data": {
      "image/png": "[encoded data removed]",
      "text/plain": [
       "<Figure size 1000x500 with 1 Axes>"
      ]
     },
     "metadata": {},
     "output_type": "display_data"
    }
   ],
   "source": [
    "viz_abv_avg_staar()"
   ]
  },
  {
   "cell_type": "code",
   "execution_count": null,
   "id": "69994636",
   "metadata": {},
   "outputs": [],
   "source": []
  },
  {
   "cell_type": "markdown",
   "id": "5fb69b72",
   "metadata": {},
   "source": [
    "### Of the schools with above average economically disadvantaged students, do the schools with higher average STAAR scores get more funding per student? "
   ]
  },
  {
   "cell_type": "code",
   "execution_count": 87,
   "id": "affd4f6a",
   "metadata": {},
   "outputs": [
    {
     "data": {
      "text/plain": [
       "58.51735218509003"
      ]
     },
     "execution_count": 87,
     "metadata": {},
     "output_type": "execute_result"
    }
   ],
   "source": [
    "train.econdis.mean()"
   ]
  },
  {
   "cell_type": "code",
   "execution_count": 88,
   "id": "d6294cdf",
   "metadata": {},
   "outputs": [],
   "source": [
    "#  above average Economically Disadvantaged\n",
    "econdis_above = train[train['econdis'] >= 58.517352]"
   ]
  },
  {
   "cell_type": "code",
   "execution_count": 89,
   "id": "335629a6",
   "metadata": {},
   "outputs": [
    {
     "data": {
      "text/plain": [
       "65.54040404040404"
      ]
     },
     "execution_count": 89,
     "metadata": {},
     "output_type": "execute_result"
    }
   ],
   "source": [
    "# Average STAAR score for schools with above average Econ Dis\n",
    "econdis_above.english_2.mean()"
   ]
  },
  {
   "cell_type": "code",
   "execution_count": 90,
   "id": "33342d63",
   "metadata": {},
   "outputs": [],
   "source": [
    "# Above average STAAR score for above average Econ Dis schools\n",
    "above_avg_econdis_eng2 = econdis_above[econdis_above['english_2'] > 65.54040404040404]\n",
    "\n",
    "# Below average STAAR score for above average Econ Dis schools\n",
    "below_avg_econdis_eng2 = econdis_above[econdis_above['english_2'] <= 65.54040404040404]"
   ]
  },
  {
   "cell_type": "code",
   "execution_count": 91,
   "id": "f141726e",
   "metadata": {},
   "outputs": [],
   "source": [
    "# Total expenditure for above_avg_econdis_eng2\n",
    "avg_expend_above_staar = above_avg_econdis_eng2['total_expend'].mean()\n",
    "\n",
    "# Total expenditure for below_avg_econdis_eng2\n",
    "avg_expend_below_staar = below_avg_econdis_eng2['total_expend'].mean()"
   ]
  },
  {
   "cell_type": "code",
   "execution_count": 92,
   "id": "fabc9c07",
   "metadata": {},
   "outputs": [
    {
     "data": {
      "text/plain": [
       "(9498.323383084577, 10665.835897435898)"
      ]
     },
     "execution_count": 92,
     "metadata": {},
     "output_type": "execute_result"
    }
   ],
   "source": [
    "avg_expend_above_staar, avg_expend_below_staar"
   ]
  },
  {
   "cell_type": "code",
   "execution_count": 18,
   "id": "6a2f6af9",
   "metadata": {},
   "outputs": [
    {
     "data": {
      "image/png": "[encoded data removed]",
      "text/plain": [
       "<Figure size 640x480 with 1 Axes>"
      ]
     },
     "metadata": {},
     "output_type": "display_data"
    }
   ],
   "source": [
    "data = pd.DataFrame({'feature': ['above_avg_eng2_totalexpend', 'below_avg_eng2_totalexpend'],\n",
    "                     'amount': [avg_expend_above, avg_expend_below]})\n",
    "\n",
    "plt.bar(data['feature'], data['amount'], ec='black')\n",
    "plt.xlabel('Total Expenditure')\n",
    "plt.ylabel('Amount(dollars)')\n",
    "plt.title('Total Expenditure per Student')\n",
    "plt.show()"
   ]
  },
  {
   "cell_type": "markdown",
   "id": "84383816",
   "metadata": {},
   "source": [
    "<div class=\"alert alert-block alert-info\"> \n",
    "**Takeaways**\n",
    "    \n",
    "- Schools with higher than average STAAR scores actually get less funding per student.\n",
    "</div>"
   ]
  },
  {
   "cell_type": "code",
   "execution_count": 165,
   "id": "36992485",
   "metadata": {},
   "outputs": [],
   "source": [
    "def above_avg_econdis_total_expend(train):\n",
    "    \n",
    "    # Above average Economically Disadvantaged\n",
    "    econdis_above_avg = train[train['econdis'] >= train['econdis'].mean()]\n",
    "    \n",
    "    above = []\n",
    "    below = []\n",
    "    p_val = []\n",
    "    \n",
    "    subject_list = ['algebra','english_1','english_2','biology','history']\n",
    "    \n",
    "    for s in subject_list:\n",
    "    \n",
    "        # Above and Below avg STAAR passing rate\n",
    "        above_avg_staar = econdis_above_avg[econdis_above_avg[s] > econdis_above_avg[s].mean()]\n",
    "        below_avg_staar = econdis_above_avg[econdis_above_avg[s] <= econdis_above_avg[s].mean()]\n",
    "        \n",
    "        # Total expenditure for above_avg_staar and below_average_staar\n",
    "        avg_expend_above = above_avg_staar['total_expend'].mean()\n",
    "        avg_expend_below = below_avg_staar['total_expend'].mean()\n",
    "    \n",
    "        # Above and Below total expenditures for stats test\n",
    "        above_stats = above_avg_staar['total_expend']\n",
    "        below_stats = below_avg_staar['total_expend']\n",
    "    \n",
    "        # Stats 2-Sample T-Test\n",
    "        t, p = stats.ttest_ind(below_stats, above_stats)\n",
    "    \n",
    "        above.append(avg_expend_above)\n",
    "        below.append(avg_expend_below)\n",
    "        p_val.append(p)\n",
    "        \n",
    "        \n",
    "    \n",
    "    # Subjects for plot\n",
    "    subjects = ['Algebra', 'English 1', 'English 2', 'Biology', 'History']\n",
    "    \n",
    "    df = pd.DataFrame(index=subjects, data={\n",
    "        'Above Average': above,\n",
    "        'Below Average': below,\n",
    "        'p-value': p_val})\n",
    "  \n",
    "\n",
    "    return df"
   ]
  },
  {
   "cell_type": "code",
   "execution_count": 166,
   "id": "8e3d892f",
   "metadata": {},
   "outputs": [
    {
     "data": {
      "text/html": [
       "<div>\n",
       "<style scoped>\n",
       "    .dataframe tbody tr th:only-of-type {\n",
       "        vertical-align: middle;\n",
       "    }\n",
       "\n",
       "    .dataframe tbody tr th {\n",
       "        vertical-align: top;\n",
       "    }\n",
       "\n",
       "    .dataframe thead th {\n",
       "        text-align: right;\n",
       "    }\n",
       "</style>\n",
       "<table border=\"1\" class=\"dataframe\">\n",
       "  <thead>\n",
       "    <tr style=\"text-align: right;\">\n",
       "      <th></th>\n",
       "      <th>Above Average</th>\n",
       "      <th>Below Average</th>\n",
       "      <th>p-value</th>\n",
       "    </tr>\n",
       "  </thead>\n",
       "  <tbody>\n",
       "    <tr>\n",
       "      <th>Algebra</th>\n",
       "      <td>9960.708134</td>\n",
       "      <td>10199.000000</td>\n",
       "      <td>0.644084</td>\n",
       "    </tr>\n",
       "    <tr>\n",
       "      <th>English 1</th>\n",
       "      <td>9763.162921</td>\n",
       "      <td>10326.412844</td>\n",
       "      <td>0.276248</td>\n",
       "    </tr>\n",
       "    <tr>\n",
       "      <th>English 2</th>\n",
       "      <td>9498.323383</td>\n",
       "      <td>10665.835897</td>\n",
       "      <td>0.022970</td>\n",
       "    </tr>\n",
       "    <tr>\n",
       "      <th>Biology</th>\n",
       "      <td>9732.004525</td>\n",
       "      <td>10504.160000</td>\n",
       "      <td>0.135932</td>\n",
       "    </tr>\n",
       "    <tr>\n",
       "      <th>History</th>\n",
       "      <td>9398.793103</td>\n",
       "      <td>11027.323171</td>\n",
       "      <td>0.001723</td>\n",
       "    </tr>\n",
       "  </tbody>\n",
       "</table>\n",
       "</div>"
      ],
      "text/plain": [
       "           Above Average  Below Average   p-value\n",
       "Algebra      9960.708134   10199.000000  0.644084\n",
       "English 1    9763.162921   10326.412844  0.276248\n",
       "English 2    9498.323383   10665.835897  0.022970\n",
       "Biology      9732.004525   10504.160000  0.135932\n",
       "History      9398.793103   11027.323171  0.001723"
      ]
     },
     "execution_count": 166,
     "metadata": {},
     "output_type": "execute_result"
    }
   ],
   "source": [
    "above_avg_econdis_total_expend(train)"
   ]
  },
  {
   "cell_type": "code",
   "execution_count": 203,
   "id": "97d336f8",
   "metadata": {},
   "outputs": [],
   "source": [
    "def viz_econdis_total_expend():\n",
    "    \n",
    "    ma = above_avg_econdis_total_expend(train)\n",
    "\n",
    "    plt.figure(figsize=(10,5))\n",
    "    X = ['English 1', 'English 2', 'Algebra', 'Biology', 'U.S. History']\n",
    "\n",
    "    X_axis = np.arange(len(X))\n",
    "\n",
    "    plt.bar(X_axis[0] - 0.1, ma['Above Average'][0], 0.2, label = 'Above Average', color=['blue'], ec='black')\n",
    "    plt.bar(X_axis[0] + 0.1, ma['Below Average'][0], 0.2, label = 'Below Average', color=['orange'], ec='black')\n",
    "\n",
    "    plt.bar(X_axis[1] - 0.1, ma['Above Average'][1], 0.2, color=['blue'], ec='black')\n",
    "    plt.bar(X_axis[1] + 0.1, ma['Below Average'][1], 0.2, color=['orange'], ec='black')\n",
    "\n",
    "    plt.bar(X_axis[2] - 0.1, ma['Above Average'][2], 0.2, color=['blue'], ec='black')\n",
    "    plt.bar(X_axis[2] + 0.1, ma['Below Average'][2], 0.2, color=['orange'], ec='black')\n",
    "\n",
    "    plt.bar(X_axis[3] - 0.1, ma['Above Average'][3], 0.2, color=['blue'], ec='black')\n",
    "    plt.bar(X_axis[3] + 0.1, ma['Below Average'][3], 0.2, color=['orange'], ec='black')\n",
    "\n",
    "    plt.bar(X_axis[4] - 0.1, ma['Above Average'][4], 0.2, color=['blue'], ec='black')\n",
    "    plt.bar(X_axis[4] + 0.1, ma['Below Average'][4], 0.2, color=['orange'], ec='black')\n",
    "\n",
    "    \n",
    "    # Amount above bars\n",
    "    for p in ax.patches:\n",
    "        height = p.get_height()\n",
    "        ax.annotate('{:.0f}'.format(height), (p.get_x()+p.get_width()/2., height),\n",
    "                    ha='center', va='bottom', fontsize=12)\n",
    "\n",
    "    plt.xticks(X_axis, X)\n",
    "    plt.xlabel(\"Subject\")\n",
    "    plt.ylabel(\"Amount($)\")\n",
    "    plt.title(\"Total Expenditure for Economically Disadvantaged Schools\")\n",
    "    plt.ylim(2000, 14000)\n",
    "    plt.grid(True, alpha=0.3, linestyle='--')\n",
    "    leg = plt.legend(title=\"STAAR Passing Rate\")\n",
    "    leg._legend_box.align = \"left\"\n",
    "    plt.show()"
   ]
  },
  {
   "cell_type": "code",
   "execution_count": 204,
   "id": "73307509",
   "metadata": {},
   "outputs": [
    {
     "data": {
      "image/png": "[encoded data removed]",
      "text/plain": [
       "<Figure size 1000x500 with 1 Axes>"
      ]
     },
     "metadata": {},
     "output_type": "display_data"
    }
   ],
   "source": [
    "viz_econdis_total_expend()"
   ]
  },
  {
   "cell_type": "code",
   "execution_count": null,
   "id": "4cf12e59",
   "metadata": {},
   "outputs": [],
   "source": []
  },
  {
   "cell_type": "code",
   "execution_count": null,
   "id": "8c9c6b8a",
   "metadata": {},
   "outputs": [],
   "source": []
  },
  {
   "cell_type": "code",
   "execution_count": null,
   "id": "2df10298",
   "metadata": {},
   "outputs": [],
   "source": []
  },
  {
   "cell_type": "markdown",
   "id": "e55f20db",
   "metadata": {},
   "source": [
    "#### Stats Test"
   ]
  },
  {
   "cell_type": "code",
   "execution_count": 19,
   "id": "e3aa8c0c",
   "metadata": {},
   "outputs": [
    {
     "data": {
      "text/plain": [
       "Ttest_indResult(statistic=-2.2828773822190116, pvalue=0.02296958063492141)"
      ]
     },
     "execution_count": 19,
     "metadata": {},
     "output_type": "execute_result"
    }
   ],
   "source": [
    "# Dos Sample T-Test\n",
    "stats.ttest_ind(above_avg_econdis_eng2['total_expend'],below_avg_econdis_eng2['total_expend'])"
   ]
  },
  {
   "cell_type": "code",
   "execution_count": 66,
   "id": "22471b18",
   "metadata": {},
   "outputs": [
    {
     "data": {
      "text/plain": [
       "Ttest_indResult(statistic=2.2828773822190116, pvalue=0.011484790317460705)"
      ]
     },
     "execution_count": 66,
     "metadata": {},
     "output_type": "execute_result"
    }
   ],
   "source": [
    "stats.ttest_ind(below_avg_econdis_eng2['total_expend'],above_avg_econdis_eng2['total_expend'], \\\n",
    "                alternative='greater')\n"
   ]
  },
  {
   "cell_type": "markdown",
   "id": "da65ea53",
   "metadata": {},
   "source": [
    "<div class=\"alert alert-block alert-info\"> \n",
    "**Takeaways**\n",
    "    \n",
    "- P-value is lower than 0.05. Total expediture per student for schools that have a higher than average economically disadvanataged is significant. \n",
    "</div>"
   ]
  },
  {
   "cell_type": "markdown",
   "id": "fa960c9f",
   "metadata": {},
   "source": [
    "### Do schools with higher STAAR scores spend more per student on extra curriculars?"
   ]
  },
  {
   "cell_type": "code",
   "execution_count": 20,
   "id": "99c12476",
   "metadata": {},
   "outputs": [],
   "source": [
    "# Subset for higher and lower than average English II STAAR scores\n",
    "above_avg_eng2 = train[train['english_2'] > train.english_2.mean()]\n",
    "below_avg_eng2 = train[train['english_2'] <= train.english_2.mean()]"
   ]
  },
  {
   "cell_type": "code",
   "execution_count": 21,
   "id": "cd9606c1",
   "metadata": {},
   "outputs": [
    {
     "data": {
      "text/plain": [
       "(786.6310679611651, 623.8579234972677)"
      ]
     },
     "execution_count": 21,
     "metadata": {},
     "output_type": "execute_result"
    }
   ],
   "source": [
    "# Subset for higher and lower than average English II STAAR scores and their average extra curr expenditures\n",
    "above_avg_eng2_extracurr = above_avg_eng2['extracurricular_expend'].mean()\n",
    "below_avg_eng2_extracurr = below_avg_eng2['extracurricular_expend'].mean()\n",
    "\n",
    "above_avg_eng2_extracurr, below_avg_eng2_extracurr"
   ]
  },
  {
   "cell_type": "code",
   "execution_count": 22,
   "id": "4f08904d",
   "metadata": {},
   "outputs": [
    {
     "data": {
      "text/html": [
       "<div>\n",
       "<style scoped>\n",
       "    .dataframe tbody tr th:only-of-type {\n",
       "        vertical-align: middle;\n",
       "    }\n",
       "\n",
       "    .dataframe tbody tr th {\n",
       "        vertical-align: top;\n",
       "    }\n",
       "\n",
       "    .dataframe thead th {\n",
       "        text-align: right;\n",
       "    }\n",
       "</style>\n",
       "<table border=\"1\" class=\"dataframe\">\n",
       "  <thead>\n",
       "    <tr style=\"text-align: right;\">\n",
       "      <th></th>\n",
       "      <th>feature</th>\n",
       "      <th>avg_amount</th>\n",
       "    </tr>\n",
       "  </thead>\n",
       "  <tbody>\n",
       "    <tr>\n",
       "      <th>0</th>\n",
       "      <td>above_avg_staar</td>\n",
       "      <td>786.631068</td>\n",
       "    </tr>\n",
       "    <tr>\n",
       "      <th>1</th>\n",
       "      <td>below_avg_staar</td>\n",
       "      <td>623.857923</td>\n",
       "    </tr>\n",
       "  </tbody>\n",
       "</table>\n",
       "</div>"
      ],
      "text/plain": [
       "           feature  avg_amount\n",
       "0  above_avg_staar  786.631068\n",
       "1  below_avg_staar  623.857923"
      ]
     },
     "execution_count": 22,
     "metadata": {},
     "output_type": "execute_result"
    }
   ],
   "source": [
    "xx = pd.DataFrame({'feature': ['above_avg_staar', 'below_avg_staar'],\n",
    "              'avg_amount':[above_avg_eng2_extracurr, below_avg_eng2_extracurr] })\n",
    "xx"
   ]
  },
  {
   "cell_type": "code",
   "execution_count": 23,
   "id": "d685e147",
   "metadata": {},
   "outputs": [
    {
     "data": {
      "image/png": "[encoded data removed]",
      "text/plain": [
       "<Figure size 640x480 with 1 Axes>"
      ]
     },
     "metadata": {},
     "output_type": "display_data"
    }
   ],
   "source": [
    "sns.barplot(x = xx['feature'], y = xx['avg_amount'], ec= 'black')\n",
    "plt.xlabel('STAAR Score Average')\n",
    "plt.ylabel('Amount($)')\n",
    "plt.title('Extracurricular Expenditure per Student')\n",
    "plt.show()"
   ]
  },
  {
   "cell_type": "markdown",
   "id": "09e7f4e5",
   "metadata": {},
   "source": [
    "<div class=\"alert alert-block alert-info\"> \n",
    "**Takeaways**\n",
    "    \n",
    "- Schools with higher than average STAAR scores get around $150 more funding per student for extra curriculars.\n",
    "</div>"
   ]
  },
  {
   "cell_type": "markdown",
   "id": "6c26c407",
   "metadata": {},
   "source": [
    "#### Stats Test"
   ]
  },
  {
   "cell_type": "code",
   "execution_count": 24,
   "id": "1f430de4",
   "metadata": {},
   "outputs": [
    {
     "data": {
      "text/plain": [
       "Ttest_indResult(statistic=3.455328532374792, pvalue=0.0005794825188388211)"
      ]
     },
     "execution_count": 24,
     "metadata": {},
     "output_type": "execute_result"
    }
   ],
   "source": [
    "stats.ttest_ind(above_avg_eng2['extracurricular_expend'],below_avg_eng2['extracurricular_expend'])"
   ]
  },
  {
   "cell_type": "markdown",
   "id": "3c26a40f",
   "metadata": {},
   "source": [
    "<div class=\"alert alert-block alert-info\"> \n",
    "**Takeaways**\n",
    "    \n",
    "- P-value is less than 0.05, thus it is significant. \n",
    "</div>"
   ]
  },
  {
   "cell_type": "markdown",
   "id": "d6570e3a",
   "metadata": {},
   "source": [
    "### 4. Do schools allocate less money for extra curriculars to schools that have an above average economically disadvantaged student population?"
   ]
  },
  {
   "cell_type": "code",
   "execution_count": 25,
   "id": "e7f89f72",
   "metadata": {},
   "outputs": [],
   "source": [
    "#  above average Economically Disadvantaged\n",
    "econdis_above_avg = train[train['econdis'] > train['econdis'].mean()]\n",
    "\n",
    "# below average Economically Disadvantaged \n",
    "econdis_below_avg = train[train['econdis'] <= train['econdis'].mean()]"
   ]
  },
  {
   "cell_type": "code",
   "execution_count": 26,
   "id": "8841807a",
   "metadata": {},
   "outputs": [
    {
     "data": {
      "text/plain": [
       "(552.310606060606, 873.5837696335078)"
      ]
     },
     "execution_count": 26,
     "metadata": {},
     "output_type": "execute_result"
    }
   ],
   "source": [
    "# Average extra currs per student \n",
    "econdis_above_extracurr = econdis_above_avg['extracurricular_expend'].mean()\n",
    "econdis_below_extracurr = econdis_below_avg['extracurricular_expend'].mean()\n",
    "\n",
    "econdis_above_extracurr, econdis_below_extracurr"
   ]
  },
  {
   "cell_type": "code",
   "execution_count": 27,
   "id": "d7e76a59",
   "metadata": {},
   "outputs": [
    {
     "data": {
      "text/plain": [
       "(10073.234848484848, 9553.201570680629)"
      ]
     },
     "execution_count": 27,
     "metadata": {},
     "output_type": "execute_result"
    }
   ],
   "source": [
    "# Average total expenditure per student\n",
    "econdis_above_total = econdis_above_avg['total_expend'].mean()\n",
    "econdis_below_total = econdis_below_avg['total_expend'].mean()\n",
    "\n",
    "econdis_above_total, econdis_below_total"
   ]
  },
  {
   "cell_type": "code",
   "execution_count": 28,
   "id": "5fdd36b1",
   "metadata": {},
   "outputs": [
    {
     "data": {
      "text/plain": [
       "(0.0548, 0.0914)"
      ]
     },
     "execution_count": 28,
     "metadata": {},
     "output_type": "execute_result"
    }
   ],
   "source": [
    "round(552.3/10073.23,4), round(873.58/9553.2,4)"
   ]
  },
  {
   "cell_type": "markdown",
   "id": "4a20ee9e",
   "metadata": {},
   "source": [
    "<div class=\"alert alert-block alert-info\"> \n",
    "**Takeaways**\n",
    "    \n",
    "- Schools that are less economically disadvantaged allocate more than $300 per student for extra curriculars compared to schools with a higher economically disadvantaged population. Also, schools that are less economically dis\n",
    "</div>"
   ]
  },
  {
   "cell_type": "code",
   "execution_count": 29,
   "id": "c09f8458",
   "metadata": {},
   "outputs": [
    {
     "data": {
      "text/html": [
       "<div>\n",
       "<style scoped>\n",
       "    .dataframe tbody tr th:only-of-type {\n",
       "        vertical-align: middle;\n",
       "    }\n",
       "\n",
       "    .dataframe tbody tr th {\n",
       "        vertical-align: top;\n",
       "    }\n",
       "\n",
       "    .dataframe thead th {\n",
       "        text-align: right;\n",
       "    }\n",
       "</style>\n",
       "<table border=\"1\" class=\"dataframe\">\n",
       "  <thead>\n",
       "    <tr style=\"text-align: right;\">\n",
       "      <th></th>\n",
       "      <th>feature</th>\n",
       "      <th>amount_avg_extracurr</th>\n",
       "      <th>amount_avg_totalexpend</th>\n",
       "    </tr>\n",
       "  </thead>\n",
       "  <tbody>\n",
       "    <tr>\n",
       "      <th>0</th>\n",
       "      <td>above_avg_econdis</td>\n",
       "      <td>552.310606</td>\n",
       "      <td>10073.234848</td>\n",
       "    </tr>\n",
       "    <tr>\n",
       "      <th>1</th>\n",
       "      <td>below_avg_econdis</td>\n",
       "      <td>873.583770</td>\n",
       "      <td>9553.201571</td>\n",
       "    </tr>\n",
       "  </tbody>\n",
       "</table>\n",
       "</div>"
      ],
      "text/plain": [
       "             feature  amount_avg_extracurr  amount_avg_totalexpend\n",
       "0  above_avg_econdis            552.310606            10073.234848\n",
       "1  below_avg_econdis            873.583770             9553.201571"
      ]
     },
     "execution_count": 29,
     "metadata": {},
     "output_type": "execute_result"
    }
   ],
   "source": [
    "extracurr_totalexpend = pd.DataFrame({'feature': ['above_avg_econdis','below_avg_econdis'],\n",
    "                                  'amount_avg_extracurr': [econdis_above_extracurr, econdis_below_extracurr],\n",
    "                                  'amount_avg_totalexpend': [econdis_above_total,econdis_below_total]})\n",
    "extracurr_totalexpend"
   ]
  },
  {
   "cell_type": "code",
   "execution_count": 30,
   "id": "59143fd4",
   "metadata": {},
   "outputs": [
    {
     "data": {
      "image/png": "[encoded data removed]",
      "text/plain": [
       "<Figure size 640x480 with 1 Axes>"
      ]
     },
     "metadata": {},
     "output_type": "display_data"
    }
   ],
   "source": [
    "sns.set_style('whitegrid')\n",
    "\n",
    "# Create bar plot\n",
    "ax = sns.barplot(x='feature', y='amount_avg_totalexpend', data=extracurr_totalexpend)\n",
    "\n",
    "# Set labels\n",
    "ax.set(xlabel='Economic Disadvantage Level', ylabel='Total Expenditure',\n",
    "       title='Total Expenditure by Economic Disadvantage Level')\n",
    "\n",
    "# Add values above bars\n",
    "for p in ax.patches:\n",
    "    height = p.get_height()\n",
    "    ax.annotate('{:.0f}'.format(height), (p.get_x()+p.get_width()/2., height),\n",
    "                ha='center', va='bottom', fontsize=12)\n",
    "\n",
    "plt.show()"
   ]
  },
  {
   "cell_type": "code",
   "execution_count": 31,
   "id": "9c10923d",
   "metadata": {},
   "outputs": [
    {
     "data": {
      "image/png": "[encoded data removed]",
      "text/plain": [
       "<Figure size 800x500 with 1 Axes>"
      ]
     },
     "metadata": {},
     "output_type": "display_data"
    }
   ],
   "source": [
    "sns.set_style('whitegrid')\n",
    "\n",
    "# Set figure size\n",
    "plt.figure(figsize=(8, 5))\n",
    "\n",
    "# Create bar plot\n",
    "ax = sns.barplot(x='feature', y='value', hue='variable', \n",
    "                 data=pd.melt(extracurr_totalexpend, id_vars=['feature'], var_name='variable', value_name='value'))\n",
    "\n",
    "# Set labels\n",
    "ax.set(xlabel='Economic Disadvantage Level', ylabel='Amount',\n",
    "       title='Amounts by Economic Disadvantage Level')\n",
    "\n",
    "# Amount above bars\n",
    "for p in ax.patches:\n",
    "    height = p.get_height()\n",
    "    ax.annotate('{:.0f}'.format(height), (p.get_x()+p.get_width()/2., height),\n",
    "                ha='center', va='bottom', fontsize=12)\n",
    "\n",
    "# Reposition legend\n",
    "ax.legend(bbox_to_anchor=(1, 1))    \n",
    "\n",
    "plt.show()"
   ]
  },
  {
   "cell_type": "code",
   "execution_count": 32,
   "id": "f607d36d",
   "metadata": {},
   "outputs": [
    {
     "data": {
      "text/html": [
       "<div>\n",
       "<style scoped>\n",
       "    .dataframe tbody tr th:only-of-type {\n",
       "        vertical-align: middle;\n",
       "    }\n",
       "\n",
       "    .dataframe tbody tr th {\n",
       "        vertical-align: top;\n",
       "    }\n",
       "\n",
       "    .dataframe thead th {\n",
       "        text-align: right;\n",
       "    }\n",
       "</style>\n",
       "<table border=\"1\" class=\"dataframe\">\n",
       "  <thead>\n",
       "    <tr style=\"text-align: right;\">\n",
       "      <th></th>\n",
       "      <th>feature</th>\n",
       "      <th>variable</th>\n",
       "      <th>value</th>\n",
       "    </tr>\n",
       "  </thead>\n",
       "  <tbody>\n",
       "    <tr>\n",
       "      <th>0</th>\n",
       "      <td>above_avg_econdis</td>\n",
       "      <td>amount_avg_extracurr</td>\n",
       "      <td>552.310606</td>\n",
       "    </tr>\n",
       "    <tr>\n",
       "      <th>1</th>\n",
       "      <td>below_avg_econdis</td>\n",
       "      <td>amount_avg_extracurr</td>\n",
       "      <td>873.583770</td>\n",
       "    </tr>\n",
       "    <tr>\n",
       "      <th>2</th>\n",
       "      <td>above_avg_econdis</td>\n",
       "      <td>amount_avg_totalexpend</td>\n",
       "      <td>10073.234848</td>\n",
       "    </tr>\n",
       "    <tr>\n",
       "      <th>3</th>\n",
       "      <td>below_avg_econdis</td>\n",
       "      <td>amount_avg_totalexpend</td>\n",
       "      <td>9553.201571</td>\n",
       "    </tr>\n",
       "  </tbody>\n",
       "</table>\n",
       "</div>"
      ],
      "text/plain": [
       "             feature                variable         value\n",
       "0  above_avg_econdis    amount_avg_extracurr    552.310606\n",
       "1  below_avg_econdis    amount_avg_extracurr    873.583770\n",
       "2  above_avg_econdis  amount_avg_totalexpend  10073.234848\n",
       "3  below_avg_econdis  amount_avg_totalexpend   9553.201571"
      ]
     },
     "execution_count": 32,
     "metadata": {},
     "output_type": "execute_result"
    }
   ],
   "source": [
    "pd.melt(extracurr_totalexpend, id_vars=['feature'], var_name='variable', value_name='value')"
   ]
  },
  {
   "cell_type": "markdown",
   "id": "f00edc66",
   "metadata": {},
   "source": [
    "#### Stats Test"
   ]
  },
  {
   "cell_type": "code",
   "execution_count": 33,
   "id": "c1828a44",
   "metadata": {},
   "outputs": [
    {
     "data": {
      "text/plain": [
       "Ttest_indResult(statistic=-6.988935245558356, pvalue=5.97064480146544e-12)"
      ]
     },
     "execution_count": 33,
     "metadata": {},
     "output_type": "execute_result"
    }
   ],
   "source": [
    "stats.ttest_ind(econdis_above_avg['extracurricular_expend'],econdis_below_avg['extracurricular_expend'] )"
   ]
  },
  {
   "cell_type": "markdown",
   "id": "e9f2ef8c",
   "metadata": {},
   "source": [
    "<div class=\"alert alert-block alert-info\"> \n",
    "**Takeaways**\n",
    "    \n",
    "- P-value is lower than 0.05. Statistically significant.\n",
    "</div>"
   ]
  },
  {
   "cell_type": "markdown",
   "id": "eb97ac3a",
   "metadata": {},
   "source": [
    "## Modeling"
   ]
  },
  {
   "cell_type": "code",
   "execution_count": 34,
   "id": "70e3bb3b",
   "metadata": {},
   "outputs": [
    {
     "data": {
      "text/html": [
       "<div>\n",
       "<style scoped>\n",
       "    .dataframe tbody tr th:only-of-type {\n",
       "        vertical-align: middle;\n",
       "    }\n",
       "\n",
       "    .dataframe tbody tr th {\n",
       "        vertical-align: top;\n",
       "    }\n",
       "\n",
       "    .dataframe thead th {\n",
       "        text-align: right;\n",
       "    }\n",
       "</style>\n",
       "<table border=\"1\" class=\"dataframe\">\n",
       "  <thead>\n",
       "    <tr style=\"text-align: right;\">\n",
       "      <th></th>\n",
       "      <th>school_id</th>\n",
       "      <th>english_1</th>\n",
       "      <th>english_2</th>\n",
       "      <th>algebra</th>\n",
       "      <th>biology</th>\n",
       "      <th>history</th>\n",
       "      <th>bilingual_or_english_learner</th>\n",
       "      <th>econdis</th>\n",
       "      <th>salary</th>\n",
       "      <th>teacher_exp_6to10</th>\n",
       "      <th>extracurricular_expend</th>\n",
       "      <th>total_expend</th>\n",
       "      <th>student_teacher_ratio</th>\n",
       "      <th>teacher_exp_0to5</th>\n",
       "      <th>teacher_exp_11_plus</th>\n",
       "      <th>high_edu</th>\n",
       "    </tr>\n",
       "  </thead>\n",
       "  <tbody>\n",
       "    <tr>\n",
       "      <th>404</th>\n",
       "      <td>57905088</td>\n",
       "      <td>98.0</td>\n",
       "      <td>100.0</td>\n",
       "      <td>100.0</td>\n",
       "      <td>100.0</td>\n",
       "      <td>100.0</td>\n",
       "      <td>30.5</td>\n",
       "      <td>87.9</td>\n",
       "      <td>69483.0</td>\n",
       "      <td>26.9</td>\n",
       "      <td>38.0</td>\n",
       "      <td>7558.0</td>\n",
       "      <td>19.2</td>\n",
       "      <td>22.4</td>\n",
       "      <td>50.7</td>\n",
       "      <td>44.8</td>\n",
       "    </tr>\n",
       "    <tr>\n",
       "      <th>429</th>\n",
       "      <td>57912005</td>\n",
       "      <td>45.0</td>\n",
       "      <td>47.0</td>\n",
       "      <td>79.0</td>\n",
       "      <td>94.0</td>\n",
       "      <td>75.0</td>\n",
       "      <td>47.5</td>\n",
       "      <td>85.4</td>\n",
       "      <td>63990.0</td>\n",
       "      <td>20.2</td>\n",
       "      <td>13.0</td>\n",
       "      <td>24531.0</td>\n",
       "      <td>5.9</td>\n",
       "      <td>51.9</td>\n",
       "      <td>27.9</td>\n",
       "      <td>31.1</td>\n",
       "    </tr>\n",
       "  </tbody>\n",
       "</table>\n",
       "</div>"
      ],
      "text/plain": [
       "     school_id  english_1  english_2  algebra  biology  history  \\\n",
       "404   57905088       98.0      100.0    100.0    100.0    100.0   \n",
       "429   57912005       45.0       47.0     79.0     94.0     75.0   \n",
       "\n",
       "     bilingual_or_english_learner  econdis   salary  teacher_exp_6to10  \\\n",
       "404                          30.5     87.9  69483.0               26.9   \n",
       "429                          47.5     85.4  63990.0               20.2   \n",
       "\n",
       "     extracurricular_expend  total_expend  student_teacher_ratio  \\\n",
       "404                    38.0        7558.0                   19.2   \n",
       "429                    13.0       24531.0                    5.9   \n",
       "\n",
       "     teacher_exp_0to5  teacher_exp_11_plus  high_edu  \n",
       "404              22.4                 50.7      44.8  \n",
       "429              51.9                 27.9      31.1  "
      ]
     },
     "execution_count": 34,
     "metadata": {},
     "output_type": "execute_result"
    }
   ],
   "source": [
    "train.head(2)"
   ]
  },
  {
   "cell_type": "markdown",
   "id": "f8207cb5",
   "metadata": {},
   "source": [
    "### Trains<a class=\"tocSkip\">"
   ]
  },
  {
   "cell_type": "code",
   "execution_count": 35,
   "id": "83c624aa",
   "metadata": {},
   "outputs": [],
   "source": [
    "X_train = train.drop(['english_2', 'english_1','algebra','biology','history','school_id'], axis=1)\n",
    "y_train = train['english_2']\n",
    "\n",
    "X_validate = val.drop(['english_2', 'english_1','algebra','biology','history','school_id'], axis=1)\n",
    "y_validate = val['english_2']\n",
    "\n",
    "X_test = test.drop(['english_2', 'english_1','algebra','biology','history','school_id'], axis=1)\n",
    "y_test = test['english_2']"
   ]
  },
  {
   "cell_type": "markdown",
   "id": "f0afea07",
   "metadata": {},
   "source": [
    "### Scale Data"
   ]
  },
  {
   "cell_type": "code",
   "execution_count": 36,
   "id": "51a7b4b1",
   "metadata": {},
   "outputs": [],
   "source": [
    "# Scaler Object\n",
    "mm= MinMaxScaler()"
   ]
  },
  {
   "cell_type": "code",
   "execution_count": 37,
   "id": "1291fe81",
   "metadata": {},
   "outputs": [],
   "source": [
    "# Scale the stuff\n",
    "X_train_scaled = mm.fit_transform(X_train)\n",
    "X_validate_scaled = mm.transform(X_validate)\n",
    "X_test_scaled = mm.transform(X_test)"
   ]
  },
  {
   "cell_type": "markdown",
   "id": "0c3f192b",
   "metadata": {},
   "source": [
    "### RFE"
   ]
  },
  {
   "cell_type": "code",
   "execution_count": 38,
   "id": "d667ee76",
   "metadata": {},
   "outputs": [],
   "source": [
    "# Model Object\n",
    "lm = LinearRegression()"
   ]
  },
  {
   "cell_type": "code",
   "execution_count": 39,
   "id": "3ef3a6fd",
   "metadata": {},
   "outputs": [],
   "source": [
    "# RFE Object\n",
    "rfe = RFE(lm, n_features_to_select=2)"
   ]
  },
  {
   "cell_type": "code",
   "execution_count": 40,
   "id": "1746c017",
   "metadata": {},
   "outputs": [],
   "source": [
    "# Transforming data using RFE\n",
    "X_rfe = rfe.fit_transform(X_train_scaled,y_train)  "
   ]
  },
  {
   "cell_type": "code",
   "execution_count": 41,
   "id": "f808067d",
   "metadata": {},
   "outputs": [
    {
     "data": {
      "text/html": [
       "<style>#sk-container-id-1 {color: black;background-color: white;}#sk-container-id-1 pre{padding: 0;}#sk-container-id-1 div.sk-toggleable {background-color: white;}#sk-container-id-1 label.sk-toggleable__label {cursor: pointer;display: block;width: 100%;margin-bottom: 0;padding: 0.3em;box-sizing: border-box;text-align: center;}#sk-container-id-1 label.sk-toggleable__label-arrow:before {content: \"▸\";float: left;margin-right: 0.25em;color: #696969;}#sk-container-id-1 label.sk-toggleable__label-arrow:hover:before {color: black;}#sk-container-id-1 div.sk-estimator:hover label.sk-toggleable__label-arrow:before {color: black;}#sk-container-id-1 div.sk-toggleable__content {max-height: 0;max-width: 0;overflow: hidden;text-align: left;background-color: #f0f8ff;}#sk-container-id-1 div.sk-toggleable__content pre {margin: 0.2em;color: black;border-radius: 0.25em;background-color: #f0f8ff;}#sk-container-id-1 input.sk-toggleable__control:checked~div.sk-toggleable__content {max-height: 200px;max-width: 100%;overflow: auto;}#sk-container-id-1 input.sk-toggleable__control:checked~label.sk-toggleable__label-arrow:before {content: \"▾\";}#sk-container-id-1 div.sk-estimator input.sk-toggleable__control:checked~label.sk-toggleable__label {background-color: #d4ebff;}#sk-container-id-1 div.sk-label input.sk-toggleable__control:checked~label.sk-toggleable__label {background-color: #d4ebff;}#sk-container-id-1 input.sk-hidden--visually {border: 0;clip: rect(1px 1px 1px 1px);clip: rect(1px, 1px, 1px, 1px);height: 1px;margin: -1px;overflow: hidden;padding: 0;position: absolute;width: 1px;}#sk-container-id-1 div.sk-estimator {font-family: monospace;background-color: #f0f8ff;border: 1px dotted black;border-radius: 0.25em;box-sizing: border-box;margin-bottom: 0.5em;}#sk-container-id-1 div.sk-estimator:hover {background-color: #d4ebff;}#sk-container-id-1 div.sk-parallel-item::after {content: \"\";width: 100%;border-bottom: 1px solid gray;flex-grow: 1;}#sk-container-id-1 div.sk-label:hover label.sk-toggleable__label {background-color: #d4ebff;}#sk-container-id-1 div.sk-serial::before {content: \"\";position: absolute;border-left: 1px solid gray;box-sizing: border-box;top: 0;bottom: 0;left: 50%;z-index: 0;}#sk-container-id-1 div.sk-serial {display: flex;flex-direction: column;align-items: center;background-color: white;padding-right: 0.2em;padding-left: 0.2em;position: relative;}#sk-container-id-1 div.sk-item {position: relative;z-index: 1;}#sk-container-id-1 div.sk-parallel {display: flex;align-items: stretch;justify-content: center;background-color: white;position: relative;}#sk-container-id-1 div.sk-item::before, #sk-container-id-1 div.sk-parallel-item::before {content: \"\";position: absolute;border-left: 1px solid gray;box-sizing: border-box;top: 0;bottom: 0;left: 50%;z-index: -1;}#sk-container-id-1 div.sk-parallel-item {display: flex;flex-direction: column;z-index: 1;position: relative;background-color: white;}#sk-container-id-1 div.sk-parallel-item:first-child::after {align-self: flex-end;width: 50%;}#sk-container-id-1 div.sk-parallel-item:last-child::after {align-self: flex-start;width: 50%;}#sk-container-id-1 div.sk-parallel-item:only-child::after {width: 0;}#sk-container-id-1 div.sk-dashed-wrapped {border: 1px dashed gray;margin: 0 0.4em 0.5em 0.4em;box-sizing: border-box;padding-bottom: 0.4em;background-color: white;}#sk-container-id-1 div.sk-label label {font-family: monospace;font-weight: bold;display: inline-block;line-height: 1.2em;}#sk-container-id-1 div.sk-label-container {text-align: center;}#sk-container-id-1 div.sk-container {/* jupyter's `normalize.less` sets `[hidden] { display: none; }` but bootstrap.min.css set `[hidden] { display: none !important; }` so we also need the `!important` here to be able to override the default hidden behavior on the sphinx rendered scikit-learn.org. See: https://github.com/scikit-learn/scikit-learn/issues/21755 */display: inline-block !important;position: relative;}#sk-container-id-1 div.sk-text-repr-fallback {display: none;}</style><div id=\"sk-container-id-1\" class=\"sk-top-container\"><div class=\"sk-text-repr-fallback\"><pre>LinearRegression()</pre><b>In a Jupyter environment, please rerun this cell to show the HTML representation or trust the notebook. <br />On GitHub, the HTML representation is unable to render, please try loading this page with nbviewer.org.</b></div><div class=\"sk-container\" hidden><div class=\"sk-item\"><div class=\"sk-estimator sk-toggleable\"><input class=\"sk-toggleable__control sk-hidden--visually\" id=\"sk-estimator-id-1\" type=\"checkbox\" checked><label for=\"sk-estimator-id-1\" class=\"sk-toggleable__label sk-toggleable__label-arrow\">LinearRegression</label><div class=\"sk-toggleable__content\"><pre>LinearRegression()</pre></div></div></div></div></div>"
      ],
      "text/plain": [
       "LinearRegression()"
      ]
     },
     "execution_count": 41,
     "metadata": {},
     "output_type": "execute_result"
    }
   ],
   "source": [
    "#Fitting the data to model\n",
    "lm.fit(X_rfe,y_train)"
   ]
  },
  {
   "cell_type": "code",
   "execution_count": 42,
   "id": "d4a5807e",
   "metadata": {},
   "outputs": [],
   "source": [
    "# retrieving best features\n",
    "ranks = rfe.ranking_"
   ]
  },
  {
   "cell_type": "code",
   "execution_count": 43,
   "id": "537436a9",
   "metadata": {},
   "outputs": [],
   "source": [
    "# Columns\n",
    "columns = X_train.columns.tolist()"
   ]
  },
  {
   "cell_type": "code",
   "execution_count": 44,
   "id": "b683c9bc",
   "metadata": {},
   "outputs": [
    {
     "data": {
      "text/html": [
       "<div>\n",
       "<style scoped>\n",
       "    .dataframe tbody tr th:only-of-type {\n",
       "        vertical-align: middle;\n",
       "    }\n",
       "\n",
       "    .dataframe tbody tr th {\n",
       "        vertical-align: top;\n",
       "    }\n",
       "\n",
       "    .dataframe thead th {\n",
       "        text-align: right;\n",
       "    }\n",
       "</style>\n",
       "<table border=\"1\" class=\"dataframe\">\n",
       "  <thead>\n",
       "    <tr style=\"text-align: right;\">\n",
       "      <th></th>\n",
       "      <th>feature</th>\n",
       "      <th>ranking</th>\n",
       "    </tr>\n",
       "  </thead>\n",
       "  <tbody>\n",
       "    <tr>\n",
       "      <th>7</th>\n",
       "      <td>teacher_exp_0to5</td>\n",
       "      <td>1</td>\n",
       "    </tr>\n",
       "    <tr>\n",
       "      <th>8</th>\n",
       "      <td>teacher_exp_11_plus</td>\n",
       "      <td>1</td>\n",
       "    </tr>\n",
       "    <tr>\n",
       "      <th>3</th>\n",
       "      <td>teacher_exp_6to10</td>\n",
       "      <td>2</td>\n",
       "    </tr>\n",
       "    <tr>\n",
       "      <th>5</th>\n",
       "      <td>total_expend</td>\n",
       "      <td>3</td>\n",
       "    </tr>\n",
       "    <tr>\n",
       "      <th>1</th>\n",
       "      <td>econdis</td>\n",
       "      <td>4</td>\n",
       "    </tr>\n",
       "    <tr>\n",
       "      <th>0</th>\n",
       "      <td>bilingual_or_english_learner</td>\n",
       "      <td>5</td>\n",
       "    </tr>\n",
       "    <tr>\n",
       "      <th>9</th>\n",
       "      <td>high_edu</td>\n",
       "      <td>6</td>\n",
       "    </tr>\n",
       "    <tr>\n",
       "      <th>4</th>\n",
       "      <td>extracurricular_expend</td>\n",
       "      <td>7</td>\n",
       "    </tr>\n",
       "    <tr>\n",
       "      <th>2</th>\n",
       "      <td>salary</td>\n",
       "      <td>8</td>\n",
       "    </tr>\n",
       "    <tr>\n",
       "      <th>6</th>\n",
       "      <td>student_teacher_ratio</td>\n",
       "      <td>9</td>\n",
       "    </tr>\n",
       "  </tbody>\n",
       "</table>\n",
       "</div>"
      ],
      "text/plain": [
       "                        feature  ranking\n",
       "7              teacher_exp_0to5        1\n",
       "8           teacher_exp_11_plus        1\n",
       "3             teacher_exp_6to10        2\n",
       "5                  total_expend        3\n",
       "1                       econdis        4\n",
       "0  bilingual_or_english_learner        5\n",
       "9                      high_edu        6\n",
       "4        extracurricular_expend        7\n",
       "2                        salary        8\n",
       "6         student_teacher_ratio        9"
      ]
     },
     "execution_count": 44,
     "metadata": {},
     "output_type": "execute_result"
    }
   ],
   "source": [
    "# DF for rankings\n",
    "feature_rankings = pd.DataFrame({'feature':columns, 'ranking':ranks})\n",
    "\n",
    "feature_rankings.sort_values('ranking')"
   ]
  },
  {
   "cell_type": "markdown",
   "id": "9525d12b",
   "metadata": {},
   "source": [
    "## Baseline"
   ]
  },
  {
   "cell_type": "code",
   "execution_count": 45,
   "id": "7b75f1d6",
   "metadata": {},
   "outputs": [
    {
     "data": {
      "text/plain": [
       "72.29048843187661"
      ]
     },
     "execution_count": 45,
     "metadata": {},
     "output_type": "execute_result"
    }
   ],
   "source": [
    "# Baseline will be the mean of STAAR scores\n",
    "train.english_2.mean()"
   ]
  },
  {
   "cell_type": "code",
   "execution_count": 46,
   "id": "67d47f29",
   "metadata": {},
   "outputs": [],
   "source": [
    "train_baseline = train.copy()"
   ]
  },
  {
   "cell_type": "code",
   "execution_count": 47,
   "id": "4707fad3",
   "metadata": {},
   "outputs": [],
   "source": [
    "train_baseline['baseline'] = train.english_2.mean()"
   ]
  },
  {
   "cell_type": "code",
   "execution_count": 48,
   "id": "dd41128c",
   "metadata": {},
   "outputs": [
    {
     "data": {
      "text/html": [
       "<div>\n",
       "<style scoped>\n",
       "    .dataframe tbody tr th:only-of-type {\n",
       "        vertical-align: middle;\n",
       "    }\n",
       "\n",
       "    .dataframe tbody tr th {\n",
       "        vertical-align: top;\n",
       "    }\n",
       "\n",
       "    .dataframe thead th {\n",
       "        text-align: right;\n",
       "    }\n",
       "</style>\n",
       "<table border=\"1\" class=\"dataframe\">\n",
       "  <thead>\n",
       "    <tr style=\"text-align: right;\">\n",
       "      <th></th>\n",
       "      <th>school_id</th>\n",
       "      <th>english_1</th>\n",
       "      <th>english_2</th>\n",
       "      <th>algebra</th>\n",
       "      <th>biology</th>\n",
       "      <th>history</th>\n",
       "      <th>bilingual_or_english_learner</th>\n",
       "      <th>econdis</th>\n",
       "      <th>salary</th>\n",
       "      <th>teacher_exp_6to10</th>\n",
       "      <th>extracurricular_expend</th>\n",
       "      <th>total_expend</th>\n",
       "      <th>student_teacher_ratio</th>\n",
       "      <th>teacher_exp_0to5</th>\n",
       "      <th>teacher_exp_11_plus</th>\n",
       "      <th>high_edu</th>\n",
       "      <th>baseline</th>\n",
       "    </tr>\n",
       "  </thead>\n",
       "  <tbody>\n",
       "    <tr>\n",
       "      <th>404</th>\n",
       "      <td>57905088</td>\n",
       "      <td>98.0</td>\n",
       "      <td>100.0</td>\n",
       "      <td>100.0</td>\n",
       "      <td>100.0</td>\n",
       "      <td>100.0</td>\n",
       "      <td>30.5</td>\n",
       "      <td>87.9</td>\n",
       "      <td>69483.0</td>\n",
       "      <td>26.9</td>\n",
       "      <td>38.0</td>\n",
       "      <td>7558.0</td>\n",
       "      <td>19.2</td>\n",
       "      <td>22.4</td>\n",
       "      <td>50.7</td>\n",
       "      <td>44.8</td>\n",
       "      <td>72.290488</td>\n",
       "    </tr>\n",
       "    <tr>\n",
       "      <th>429</th>\n",
       "      <td>57912005</td>\n",
       "      <td>45.0</td>\n",
       "      <td>47.0</td>\n",
       "      <td>79.0</td>\n",
       "      <td>94.0</td>\n",
       "      <td>75.0</td>\n",
       "      <td>47.5</td>\n",
       "      <td>85.4</td>\n",
       "      <td>63990.0</td>\n",
       "      <td>20.2</td>\n",
       "      <td>13.0</td>\n",
       "      <td>24531.0</td>\n",
       "      <td>5.9</td>\n",
       "      <td>51.9</td>\n",
       "      <td>27.9</td>\n",
       "      <td>31.1</td>\n",
       "      <td>72.290488</td>\n",
       "    </tr>\n",
       "    <tr>\n",
       "      <th>621</th>\n",
       "      <td>81902002</td>\n",
       "      <td>69.0</td>\n",
       "      <td>79.0</td>\n",
       "      <td>74.0</td>\n",
       "      <td>86.0</td>\n",
       "      <td>93.0</td>\n",
       "      <td>4.5</td>\n",
       "      <td>53.5</td>\n",
       "      <td>56116.0</td>\n",
       "      <td>5.2</td>\n",
       "      <td>1071.0</td>\n",
       "      <td>9636.0</td>\n",
       "      <td>11.3</td>\n",
       "      <td>29.7</td>\n",
       "      <td>65.2</td>\n",
       "      <td>22.8</td>\n",
       "      <td>72.290488</td>\n",
       "    </tr>\n",
       "    <tr>\n",
       "      <th>1090</th>\n",
       "      <td>161918001</td>\n",
       "      <td>81.0</td>\n",
       "      <td>71.0</td>\n",
       "      <td>63.0</td>\n",
       "      <td>82.0</td>\n",
       "      <td>89.0</td>\n",
       "      <td>0.0</td>\n",
       "      <td>34.1</td>\n",
       "      <td>54056.0</td>\n",
       "      <td>13.0</td>\n",
       "      <td>2818.0</td>\n",
       "      <td>21893.0</td>\n",
       "      <td>8.3</td>\n",
       "      <td>28.2</td>\n",
       "      <td>58.8</td>\n",
       "      <td>23.7</td>\n",
       "      <td>72.290488</td>\n",
       "    </tr>\n",
       "    <tr>\n",
       "      <th>598</th>\n",
       "      <td>75908001</td>\n",
       "      <td>90.0</td>\n",
       "      <td>90.0</td>\n",
       "      <td>96.0</td>\n",
       "      <td>100.0</td>\n",
       "      <td>96.0</td>\n",
       "      <td>2.8</td>\n",
       "      <td>29.2</td>\n",
       "      <td>46058.0</td>\n",
       "      <td>20.5</td>\n",
       "      <td>532.0</td>\n",
       "      <td>10824.0</td>\n",
       "      <td>7.3</td>\n",
       "      <td>45.2</td>\n",
       "      <td>34.2</td>\n",
       "      <td>20.5</td>\n",
       "      <td>72.290488</td>\n",
       "    </tr>\n",
       "  </tbody>\n",
       "</table>\n",
       "</div>"
      ],
      "text/plain": [
       "      school_id  english_1  english_2  algebra  biology  history  \\\n",
       "404    57905088       98.0      100.0    100.0    100.0    100.0   \n",
       "429    57912005       45.0       47.0     79.0     94.0     75.0   \n",
       "621    81902002       69.0       79.0     74.0     86.0     93.0   \n",
       "1090  161918001       81.0       71.0     63.0     82.0     89.0   \n",
       "598    75908001       90.0       90.0     96.0    100.0     96.0   \n",
       "\n",
       "      bilingual_or_english_learner  econdis   salary  teacher_exp_6to10  \\\n",
       "404                           30.5     87.9  69483.0               26.9   \n",
       "429                           47.5     85.4  63990.0               20.2   \n",
       "621                            4.5     53.5  56116.0                5.2   \n",
       "1090                           0.0     34.1  54056.0               13.0   \n",
       "598                            2.8     29.2  46058.0               20.5   \n",
       "\n",
       "      extracurricular_expend  total_expend  student_teacher_ratio  \\\n",
       "404                     38.0        7558.0                   19.2   \n",
       "429                     13.0       24531.0                    5.9   \n",
       "621                   1071.0        9636.0                   11.3   \n",
       "1090                  2818.0       21893.0                    8.3   \n",
       "598                    532.0       10824.0                    7.3   \n",
       "\n",
       "      teacher_exp_0to5  teacher_exp_11_plus  high_edu   baseline  \n",
       "404               22.4                 50.7      44.8  72.290488  \n",
       "429               51.9                 27.9      31.1  72.290488  \n",
       "621               29.7                 65.2      22.8  72.290488  \n",
       "1090              28.2                 58.8      23.7  72.290488  \n",
       "598               45.2                 34.2      20.5  72.290488  "
      ]
     },
     "execution_count": 48,
     "metadata": {},
     "output_type": "execute_result"
    }
   ],
   "source": [
    "train_baseline.head()"
   ]
  },
  {
   "cell_type": "code",
   "execution_count": 49,
   "id": "938a4eee",
   "metadata": {},
   "outputs": [],
   "source": [
    "def baseline_mean_errors(y):\n",
    "    '''\n",
    "    Takes in the target variable(y) and sets a baseline. Then calculates the SSE, MSE, and RMSE of the baseline.\n",
    "    y = target\n",
    "    '''\n",
    "    baseline = np.repeat(y.mean(), len(y))\n",
    "    \n",
    "    mse= mean_squared_error(y, baseline)\n",
    "    sse = mse * len(y)\n",
    "    rmse = mean_squared_error(y, baseline, squared=False)\n",
    "\n",
    "    print(f'''\n",
    "        Baseline Mean Errors\n",
    "        -----------------\n",
    "        SSE: {sse}\n",
    "        MSE: {mse}\n",
    "        RMSE: {rmse}''')\n",
    "\n",
    "    return sse, mse, rmse"
   ]
  },
  {
   "cell_type": "code",
   "execution_count": 50,
   "id": "50cae706",
   "metadata": {},
   "outputs": [
    {
     "name": "stdout",
     "output_type": "stream",
     "text": [
      "\n",
      "        Baseline Mean Errors\n",
      "        -----------------\n",
      "        SSE: 208488.3496143959\n",
      "        MSE: 267.979883823131\n",
      "        RMSE: 16.370091136677615\n"
     ]
    }
   ],
   "source": [
    "sse, mse, base_rmse = baseline_mean_errors(train.english_2)"
   ]
  },
  {
   "cell_type": "code",
   "execution_count": 51,
   "id": "2d60b4bf",
   "metadata": {},
   "outputs": [],
   "source": [
    "train_baseline['baseline'] = base_rmse"
   ]
  },
  {
   "cell_type": "code",
   "execution_count": 52,
   "id": "4a1f8bc1",
   "metadata": {},
   "outputs": [
    {
     "data": {
      "text/html": [
       "<div>\n",
       "<style scoped>\n",
       "    .dataframe tbody tr th:only-of-type {\n",
       "        vertical-align: middle;\n",
       "    }\n",
       "\n",
       "    .dataframe tbody tr th {\n",
       "        vertical-align: top;\n",
       "    }\n",
       "\n",
       "    .dataframe thead th {\n",
       "        text-align: right;\n",
       "    }\n",
       "</style>\n",
       "<table border=\"1\" class=\"dataframe\">\n",
       "  <thead>\n",
       "    <tr style=\"text-align: right;\">\n",
       "      <th></th>\n",
       "      <th>baseline</th>\n",
       "    </tr>\n",
       "  </thead>\n",
       "  <tbody>\n",
       "    <tr>\n",
       "      <th>404</th>\n",
       "      <td>16.370091</td>\n",
       "    </tr>\n",
       "    <tr>\n",
       "      <th>429</th>\n",
       "      <td>16.370091</td>\n",
       "    </tr>\n",
       "    <tr>\n",
       "      <th>621</th>\n",
       "      <td>16.370091</td>\n",
       "    </tr>\n",
       "    <tr>\n",
       "      <th>1090</th>\n",
       "      <td>16.370091</td>\n",
       "    </tr>\n",
       "    <tr>\n",
       "      <th>598</th>\n",
       "      <td>16.370091</td>\n",
       "    </tr>\n",
       "  </tbody>\n",
       "</table>\n",
       "</div>"
      ],
      "text/plain": [
       "       baseline\n",
       "404   16.370091\n",
       "429   16.370091\n",
       "621   16.370091\n",
       "1090  16.370091\n",
       "598   16.370091"
      ]
     },
     "execution_count": 52,
     "metadata": {},
     "output_type": "execute_result"
    }
   ],
   "source": [
    "train_baseline[['baseline']].head()"
   ]
  },
  {
   "cell_type": "markdown",
   "id": "86c74f0e",
   "metadata": {},
   "source": [
    "<div class=\"alert alert-block alert-info\"> \n",
    "Baseline is 16.37\n",
    "</div>"
   ]
  },
  {
   "cell_type": "markdown",
   "id": "ef63d323",
   "metadata": {},
   "source": [
    "## Linear Regression"
   ]
  },
  {
   "cell_type": "code",
   "execution_count": 53,
   "id": "aecb9bbc",
   "metadata": {},
   "outputs": [
    {
     "name": "stderr",
     "output_type": "stream",
     "text": [
      "/opt/homebrew/anaconda3/lib/python3.9/site-packages/sklearn/linear_model/_base.py:141: FutureWarning: 'normalize' was deprecated in version 1.0 and will be removed in 1.2.\n",
      "If you wish to scale the data, use Pipeline with a StandardScaler in a preprocessing stage. To reproduce the previous behavior:\n",
      "\n",
      "from sklearn.pipeline import make_pipeline\n",
      "\n",
      "model = make_pipeline(StandardScaler(with_mean=False), LinearRegression())\n",
      "\n",
      "If you wish to pass a sample_weight parameter, you need to pass it as a fit parameter to each step of the pipeline as follows:\n",
      "\n",
      "kwargs = {s[0] + '__sample_weight': sample_weight for s in model.steps}\n",
      "model.fit(X, y, **kwargs)\n",
      "\n",
      "\n",
      "  warnings.warn(\n"
     ]
    },
    {
     "data": {
      "text/html": [
       "<style>#sk-container-id-2 {color: black;background-color: white;}#sk-container-id-2 pre{padding: 0;}#sk-container-id-2 div.sk-toggleable {background-color: white;}#sk-container-id-2 label.sk-toggleable__label {cursor: pointer;display: block;width: 100%;margin-bottom: 0;padding: 0.3em;box-sizing: border-box;text-align: center;}#sk-container-id-2 label.sk-toggleable__label-arrow:before {content: \"▸\";float: left;margin-right: 0.25em;color: #696969;}#sk-container-id-2 label.sk-toggleable__label-arrow:hover:before {color: black;}#sk-container-id-2 div.sk-estimator:hover label.sk-toggleable__label-arrow:before {color: black;}#sk-container-id-2 div.sk-toggleable__content {max-height: 0;max-width: 0;overflow: hidden;text-align: left;background-color: #f0f8ff;}#sk-container-id-2 div.sk-toggleable__content pre {margin: 0.2em;color: black;border-radius: 0.25em;background-color: #f0f8ff;}#sk-container-id-2 input.sk-toggleable__control:checked~div.sk-toggleable__content {max-height: 200px;max-width: 100%;overflow: auto;}#sk-container-id-2 input.sk-toggleable__control:checked~label.sk-toggleable__label-arrow:before {content: \"▾\";}#sk-container-id-2 div.sk-estimator input.sk-toggleable__control:checked~label.sk-toggleable__label {background-color: #d4ebff;}#sk-container-id-2 div.sk-label input.sk-toggleable__control:checked~label.sk-toggleable__label {background-color: #d4ebff;}#sk-container-id-2 input.sk-hidden--visually {border: 0;clip: rect(1px 1px 1px 1px);clip: rect(1px, 1px, 1px, 1px);height: 1px;margin: -1px;overflow: hidden;padding: 0;position: absolute;width: 1px;}#sk-container-id-2 div.sk-estimator {font-family: monospace;background-color: #f0f8ff;border: 1px dotted black;border-radius: 0.25em;box-sizing: border-box;margin-bottom: 0.5em;}#sk-container-id-2 div.sk-estimator:hover {background-color: #d4ebff;}#sk-container-id-2 div.sk-parallel-item::after {content: \"\";width: 100%;border-bottom: 1px solid gray;flex-grow: 1;}#sk-container-id-2 div.sk-label:hover label.sk-toggleable__label {background-color: #d4ebff;}#sk-container-id-2 div.sk-serial::before {content: \"\";position: absolute;border-left: 1px solid gray;box-sizing: border-box;top: 0;bottom: 0;left: 50%;z-index: 0;}#sk-container-id-2 div.sk-serial {display: flex;flex-direction: column;align-items: center;background-color: white;padding-right: 0.2em;padding-left: 0.2em;position: relative;}#sk-container-id-2 div.sk-item {position: relative;z-index: 1;}#sk-container-id-2 div.sk-parallel {display: flex;align-items: stretch;justify-content: center;background-color: white;position: relative;}#sk-container-id-2 div.sk-item::before, #sk-container-id-2 div.sk-parallel-item::before {content: \"\";position: absolute;border-left: 1px solid gray;box-sizing: border-box;top: 0;bottom: 0;left: 50%;z-index: -1;}#sk-container-id-2 div.sk-parallel-item {display: flex;flex-direction: column;z-index: 1;position: relative;background-color: white;}#sk-container-id-2 div.sk-parallel-item:first-child::after {align-self: flex-end;width: 50%;}#sk-container-id-2 div.sk-parallel-item:last-child::after {align-self: flex-start;width: 50%;}#sk-container-id-2 div.sk-parallel-item:only-child::after {width: 0;}#sk-container-id-2 div.sk-dashed-wrapped {border: 1px dashed gray;margin: 0 0.4em 0.5em 0.4em;box-sizing: border-box;padding-bottom: 0.4em;background-color: white;}#sk-container-id-2 div.sk-label label {font-family: monospace;font-weight: bold;display: inline-block;line-height: 1.2em;}#sk-container-id-2 div.sk-label-container {text-align: center;}#sk-container-id-2 div.sk-container {/* jupyter's `normalize.less` sets `[hidden] { display: none; }` but bootstrap.min.css set `[hidden] { display: none !important; }` so we also need the `!important` here to be able to override the default hidden behavior on the sphinx rendered scikit-learn.org. See: https://github.com/scikit-learn/scikit-learn/issues/21755 */display: inline-block !important;position: relative;}#sk-container-id-2 div.sk-text-repr-fallback {display: none;}</style><div id=\"sk-container-id-2\" class=\"sk-top-container\"><div class=\"sk-text-repr-fallback\"><pre>LinearRegression(normalize=True)</pre><b>In a Jupyter environment, please rerun this cell to show the HTML representation or trust the notebook. <br />On GitHub, the HTML representation is unable to render, please try loading this page with nbviewer.org.</b></div><div class=\"sk-container\" hidden><div class=\"sk-item\"><div class=\"sk-estimator sk-toggleable\"><input class=\"sk-toggleable__control sk-hidden--visually\" id=\"sk-estimator-id-2\" type=\"checkbox\" checked><label for=\"sk-estimator-id-2\" class=\"sk-toggleable__label sk-toggleable__label-arrow\">LinearRegression</label><div class=\"sk-toggleable__content\"><pre>LinearRegression(normalize=True)</pre></div></div></div></div></div>"
      ],
      "text/plain": [
       "LinearRegression(normalize=True)"
      ]
     },
     "execution_count": 53,
     "metadata": {},
     "output_type": "execute_result"
    }
   ],
   "source": [
    "# Model Object\n",
    "lm = LinearRegression(normalize=True)\n",
    "\n",
    "# Fit Object\n",
    "lm.fit(X_train_scaled, y_train)"
   ]
  },
  {
   "cell_type": "code",
   "execution_count": 54,
   "id": "bc49c628",
   "metadata": {},
   "outputs": [],
   "source": [
    "# Dataframe y_train\n",
    "y_train_df = pd.DataFrame(y_train)\n",
    "\n",
    "# Predict Train\n",
    "y_train_df['preds_lm_train'] = lm.predict(X_train_scaled)\n"
   ]
  },
  {
   "cell_type": "code",
   "execution_count": 55,
   "id": "2337abb4",
   "metadata": {},
   "outputs": [
    {
     "data": {
      "text/html": [
       "<div>\n",
       "<style scoped>\n",
       "    .dataframe tbody tr th:only-of-type {\n",
       "        vertical-align: middle;\n",
       "    }\n",
       "\n",
       "    .dataframe tbody tr th {\n",
       "        vertical-align: top;\n",
       "    }\n",
       "\n",
       "    .dataframe thead th {\n",
       "        text-align: right;\n",
       "    }\n",
       "</style>\n",
       "<table border=\"1\" class=\"dataframe\">\n",
       "  <thead>\n",
       "    <tr style=\"text-align: right;\">\n",
       "      <th></th>\n",
       "      <th>english_2</th>\n",
       "      <th>preds_lm_train</th>\n",
       "    </tr>\n",
       "  </thead>\n",
       "  <tbody>\n",
       "    <tr>\n",
       "      <th>404</th>\n",
       "      <td>100.0</td>\n",
       "      <td>66.562988</td>\n",
       "    </tr>\n",
       "    <tr>\n",
       "      <th>429</th>\n",
       "      <td>47.0</td>\n",
       "      <td>43.544317</td>\n",
       "    </tr>\n",
       "    <tr>\n",
       "      <th>621</th>\n",
       "      <td>79.0</td>\n",
       "      <td>73.670980</td>\n",
       "    </tr>\n",
       "    <tr>\n",
       "      <th>1090</th>\n",
       "      <td>71.0</td>\n",
       "      <td>73.550218</td>\n",
       "    </tr>\n",
       "  </tbody>\n",
       "</table>\n",
       "</div>"
      ],
      "text/plain": [
       "      english_2  preds_lm_train\n",
       "404       100.0       66.562988\n",
       "429        47.0       43.544317\n",
       "621        79.0       73.670980\n",
       "1090       71.0       73.550218"
      ]
     },
     "execution_count": 55,
     "metadata": {},
     "output_type": "execute_result"
    }
   ],
   "source": [
    "y_train_df.head(4)"
   ]
  },
  {
   "cell_type": "code",
   "execution_count": 56,
   "id": "450967a1",
   "metadata": {},
   "outputs": [],
   "source": [
    "y_train_df['baseline_rmse'] = base_rmse"
   ]
  },
  {
   "cell_type": "code",
   "execution_count": 57,
   "id": "5b921b02",
   "metadata": {},
   "outputs": [],
   "source": [
    "def regression_errors(y, yhat):\n",
    "    '''\n",
    "    Takes in the target variable and the yhat(predictions) and calulates the SSE, MSE, RMSE, ESS, and TSS regression errors\n",
    "    '''\n",
    "    mse = mean_squared_error(y, yhat)\n",
    "    rmse = mean_squared_error(y, yhat, squared=False)\n",
    "    sse= mse * len(y)\n",
    "    ess = yhat-y.mean()\n",
    "    ess = ess ** 2\n",
    "    ess = ess.sum()\n",
    "    tss = ess + sse\n",
    "\n",
    "    return sse, mse, rmse, ess, tss\n"
   ]
  },
  {
   "cell_type": "code",
   "execution_count": 58,
   "id": "046c7e25",
   "metadata": {},
   "outputs": [
    {
     "data": {
      "text/plain": [
       "12.825527757896593"
      ]
     },
     "execution_count": 58,
     "metadata": {},
     "output_type": "execute_result"
    }
   ],
   "source": [
    "sse, mse, train_rmse, ess, tss = regression_errors(y_train, y_train_df.preds_lm_train)\n",
    "\n",
    "train_rmse"
   ]
  },
  {
   "cell_type": "markdown",
   "id": "340ef392",
   "metadata": {},
   "source": [
    "### Train RMSE vs Baseline DF"
   ]
  },
  {
   "cell_type": "code",
   "execution_count": 59,
   "id": "36c8c679",
   "metadata": {},
   "outputs": [
    {
     "data": {
      "text/html": [
       "<div>\n",
       "<style scoped>\n",
       "    .dataframe tbody tr th:only-of-type {\n",
       "        vertical-align: middle;\n",
       "    }\n",
       "\n",
       "    .dataframe tbody tr th {\n",
       "        vertical-align: top;\n",
       "    }\n",
       "\n",
       "    .dataframe thead th {\n",
       "        text-align: right;\n",
       "    }\n",
       "</style>\n",
       "<table border=\"1\" class=\"dataframe\">\n",
       "  <thead>\n",
       "    <tr style=\"text-align: right;\">\n",
       "      <th></th>\n",
       "      <th>english_2</th>\n",
       "      <th>preds_lm_train</th>\n",
       "      <th>baseline_rmse</th>\n",
       "      <th>lm_train_rmse</th>\n",
       "    </tr>\n",
       "  </thead>\n",
       "  <tbody>\n",
       "    <tr>\n",
       "      <th>404</th>\n",
       "      <td>100.0</td>\n",
       "      <td>66.562988</td>\n",
       "      <td>16.370091</td>\n",
       "      <td>12.825528</td>\n",
       "    </tr>\n",
       "    <tr>\n",
       "      <th>429</th>\n",
       "      <td>47.0</td>\n",
       "      <td>43.544317</td>\n",
       "      <td>16.370091</td>\n",
       "      <td>12.825528</td>\n",
       "    </tr>\n",
       "    <tr>\n",
       "      <th>621</th>\n",
       "      <td>79.0</td>\n",
       "      <td>73.670980</td>\n",
       "      <td>16.370091</td>\n",
       "      <td>12.825528</td>\n",
       "    </tr>\n",
       "    <tr>\n",
       "      <th>1090</th>\n",
       "      <td>71.0</td>\n",
       "      <td>73.550218</td>\n",
       "      <td>16.370091</td>\n",
       "      <td>12.825528</td>\n",
       "    </tr>\n",
       "    <tr>\n",
       "      <th>598</th>\n",
       "      <td>90.0</td>\n",
       "      <td>77.190142</td>\n",
       "      <td>16.370091</td>\n",
       "      <td>12.825528</td>\n",
       "    </tr>\n",
       "  </tbody>\n",
       "</table>\n",
       "</div>"
      ],
      "text/plain": [
       "      english_2  preds_lm_train  baseline_rmse  lm_train_rmse\n",
       "404       100.0       66.562988      16.370091      12.825528\n",
       "429        47.0       43.544317      16.370091      12.825528\n",
       "621        79.0       73.670980      16.370091      12.825528\n",
       "1090       71.0       73.550218      16.370091      12.825528\n",
       "598        90.0       77.190142      16.370091      12.825528"
      ]
     },
     "execution_count": 59,
     "metadata": {},
     "output_type": "execute_result"
    }
   ],
   "source": [
    "y_train_df['lm_train_rmse'] = train_rmse\n",
    "\n",
    "y_train_df.head()"
   ]
  },
  {
   "cell_type": "markdown",
   "id": "866248c5",
   "metadata": {},
   "source": [
    "### Validate RMSE vs Baseline DF"
   ]
  },
  {
   "cell_type": "code",
   "execution_count": 60,
   "id": "1136e165",
   "metadata": {},
   "outputs": [
    {
     "data": {
      "text/html": [
       "<div>\n",
       "<style scoped>\n",
       "    .dataframe tbody tr th:only-of-type {\n",
       "        vertical-align: middle;\n",
       "    }\n",
       "\n",
       "    .dataframe tbody tr th {\n",
       "        vertical-align: top;\n",
       "    }\n",
       "\n",
       "    .dataframe thead th {\n",
       "        text-align: right;\n",
       "    }\n",
       "</style>\n",
       "<table border=\"1\" class=\"dataframe\">\n",
       "  <thead>\n",
       "    <tr style=\"text-align: right;\">\n",
       "      <th></th>\n",
       "      <th>english_2</th>\n",
       "      <th>preds_lm_val</th>\n",
       "      <th>baseline_rmse</th>\n",
       "      <th>lm_validate_rmse</th>\n",
       "    </tr>\n",
       "  </thead>\n",
       "  <tbody>\n",
       "    <tr>\n",
       "      <th>578</th>\n",
       "      <td>86.0</td>\n",
       "      <td>63.770033</td>\n",
       "      <td>16.370091</td>\n",
       "      <td>12.618093</td>\n",
       "    </tr>\n",
       "    <tr>\n",
       "      <th>771</th>\n",
       "      <td>40.0</td>\n",
       "      <td>56.935598</td>\n",
       "      <td>16.370091</td>\n",
       "      <td>12.618093</td>\n",
       "    </tr>\n",
       "    <tr>\n",
       "      <th>1291</th>\n",
       "      <td>66.0</td>\n",
       "      <td>65.483152</td>\n",
       "      <td>16.370091</td>\n",
       "      <td>12.618093</td>\n",
       "    </tr>\n",
       "    <tr>\n",
       "      <th>162</th>\n",
       "      <td>80.0</td>\n",
       "      <td>59.838308</td>\n",
       "      <td>16.370091</td>\n",
       "      <td>12.618093</td>\n",
       "    </tr>\n",
       "    <tr>\n",
       "      <th>333</th>\n",
       "      <td>32.0</td>\n",
       "      <td>54.530486</td>\n",
       "      <td>16.370091</td>\n",
       "      <td>12.618093</td>\n",
       "    </tr>\n",
       "  </tbody>\n",
       "</table>\n",
       "</div>"
      ],
      "text/plain": [
       "      english_2  preds_lm_val  baseline_rmse  lm_validate_rmse\n",
       "578        86.0     63.770033      16.370091         12.618093\n",
       "771        40.0     56.935598      16.370091         12.618093\n",
       "1291       66.0     65.483152      16.370091         12.618093\n",
       "162        80.0     59.838308      16.370091         12.618093\n",
       "333        32.0     54.530486      16.370091         12.618093"
      ]
     },
     "execution_count": 60,
     "metadata": {},
     "output_type": "execute_result"
    }
   ],
   "source": [
    "# Validate DF\n",
    "y_validate_df = pd.DataFrame(y_validate)\n",
    "\n",
    "# Predict Train\n",
    "y_validate_df['preds_lm_val'] = lm.predict(X_validate_scaled)\n",
    "\n",
    "# Baseline RMSE\n",
    "y_validate_df['baseline_rmse'] = base_rmse\n",
    "\n",
    "# Regression Errors for Validate set\n",
    "sse, mse, val_rmse, ess, tss = regression_errors(y_validate, y_validate_df.preds_lm_val)\n",
    "\n",
    "# RMSE for Validate predictions\n",
    "y_validate_df['lm_validate_rmse'] = val_rmse\n",
    "\n",
    "y_validate_df.head(5)"
   ]
  },
  {
   "cell_type": "markdown",
   "id": "e22955c0",
   "metadata": {},
   "source": [
    "## Polynomial Regression "
   ]
  },
  {
   "cell_type": "code",
   "execution_count": 61,
   "id": "f6edefcc",
   "metadata": {},
   "outputs": [],
   "source": [
    "# Polynomial Feature Object\n",
    "pf = PolynomialFeatures(degree=2)\n",
    "\n",
    "# fit and transform X_train_scaled\n",
    "X_train_degree2 = pf.fit_transform(X_train_scaled)\n",
    "\n",
    "# transform X_validate_scaled \n",
    "X_validate_degree2 = pf.transform(X_validate_scaled)\n"
   ]
  },
  {
   "cell_type": "markdown",
   "id": "0a535179",
   "metadata": {},
   "source": [
    "### Train RMSE"
   ]
  },
  {
   "cell_type": "code",
   "execution_count": 62,
   "id": "ca212a47",
   "metadata": {},
   "outputs": [
    {
     "name": "stderr",
     "output_type": "stream",
     "text": [
      "/opt/homebrew/anaconda3/lib/python3.9/site-packages/sklearn/linear_model/_base.py:141: FutureWarning: 'normalize' was deprecated in version 1.0 and will be removed in 1.2.\n",
      "If you wish to scale the data, use Pipeline with a StandardScaler in a preprocessing stage. To reproduce the previous behavior:\n",
      "\n",
      "from sklearn.pipeline import make_pipeline\n",
      "\n",
      "model = make_pipeline(StandardScaler(with_mean=False), LinearRegression())\n",
      "\n",
      "If you wish to pass a sample_weight parameter, you need to pass it as a fit parameter to each step of the pipeline as follows:\n",
      "\n",
      "kwargs = {s[0] + '__sample_weight': sample_weight for s in model.steps}\n",
      "model.fit(X, y, **kwargs)\n",
      "\n",
      "\n",
      "  warnings.warn(\n"
     ]
    },
    {
     "data": {
      "text/html": [
       "<div>\n",
       "<style scoped>\n",
       "    .dataframe tbody tr th:only-of-type {\n",
       "        vertical-align: middle;\n",
       "    }\n",
       "\n",
       "    .dataframe tbody tr th {\n",
       "        vertical-align: top;\n",
       "    }\n",
       "\n",
       "    .dataframe thead th {\n",
       "        text-align: right;\n",
       "    }\n",
       "</style>\n",
       "<table border=\"1\" class=\"dataframe\">\n",
       "  <thead>\n",
       "    <tr style=\"text-align: right;\">\n",
       "      <th></th>\n",
       "      <th>english_2</th>\n",
       "      <th>preds_lm_train</th>\n",
       "      <th>baseline_rmse</th>\n",
       "      <th>lm_train_rmse</th>\n",
       "      <th>preds_pf</th>\n",
       "      <th>pf_train_rmse</th>\n",
       "    </tr>\n",
       "  </thead>\n",
       "  <tbody>\n",
       "    <tr>\n",
       "      <th>404</th>\n",
       "      <td>100.0</td>\n",
       "      <td>66.562988</td>\n",
       "      <td>16.370091</td>\n",
       "      <td>12.825528</td>\n",
       "      <td>71.280933</td>\n",
       "      <td>11.202263</td>\n",
       "    </tr>\n",
       "    <tr>\n",
       "      <th>429</th>\n",
       "      <td>47.0</td>\n",
       "      <td>43.544317</td>\n",
       "      <td>16.370091</td>\n",
       "      <td>12.825528</td>\n",
       "      <td>50.670818</td>\n",
       "      <td>11.202263</td>\n",
       "    </tr>\n",
       "    <tr>\n",
       "      <th>621</th>\n",
       "      <td>79.0</td>\n",
       "      <td>73.670980</td>\n",
       "      <td>16.370091</td>\n",
       "      <td>12.825528</td>\n",
       "      <td>73.370783</td>\n",
       "      <td>11.202263</td>\n",
       "    </tr>\n",
       "    <tr>\n",
       "      <th>1090</th>\n",
       "      <td>71.0</td>\n",
       "      <td>73.550218</td>\n",
       "      <td>16.370091</td>\n",
       "      <td>12.825528</td>\n",
       "      <td>98.227819</td>\n",
       "      <td>11.202263</td>\n",
       "    </tr>\n",
       "    <tr>\n",
       "      <th>598</th>\n",
       "      <td>90.0</td>\n",
       "      <td>77.190142</td>\n",
       "      <td>16.370091</td>\n",
       "      <td>12.825528</td>\n",
       "      <td>75.995815</td>\n",
       "      <td>11.202263</td>\n",
       "    </tr>\n",
       "  </tbody>\n",
       "</table>\n",
       "</div>"
      ],
      "text/plain": [
       "      english_2  preds_lm_train  baseline_rmse  lm_train_rmse   preds_pf  \\\n",
       "404       100.0       66.562988      16.370091      12.825528  71.280933   \n",
       "429        47.0       43.544317      16.370091      12.825528  50.670818   \n",
       "621        79.0       73.670980      16.370091      12.825528  73.370783   \n",
       "1090       71.0       73.550218      16.370091      12.825528  98.227819   \n",
       "598        90.0       77.190142      16.370091      12.825528  75.995815   \n",
       "\n",
       "      pf_train_rmse  \n",
       "404       11.202263  \n",
       "429       11.202263  \n",
       "621       11.202263  \n",
       "1090      11.202263  \n",
       "598       11.202263  "
      ]
     },
     "execution_count": 62,
     "metadata": {},
     "output_type": "execute_result"
    }
   ],
   "source": [
    "# Model Object\n",
    "lm2 = LinearRegression(normalize=True)\n",
    "\n",
    "# Fit the model\n",
    "lm2.fit(X_train_degree2, y_train)\n",
    "\n",
    "# Predict train and add to y_train_df\n",
    "y_train_df['preds_pf'] = lm2.predict(X_train_degree2)\n",
    "\n",
    "\n",
    "# Regression Errors for Validate set\n",
    "sse, mse, train_pf_rmse, ess, tss = regression_errors(y_train, y_train_df.preds_pf)\n",
    "\n",
    "# RMSE for Validate predictions\n",
    "y_train_df['pf_train_rmse'] = train_pf_rmse\n",
    "\n",
    "y_train_df.head()\n"
   ]
  },
  {
   "cell_type": "markdown",
   "id": "a6283ca4",
   "metadata": {},
   "source": [
    "### Validate RMSE"
   ]
  },
  {
   "cell_type": "code",
   "execution_count": 63,
   "id": "5cb09979",
   "metadata": {},
   "outputs": [
    {
     "data": {
      "text/html": [
       "<div>\n",
       "<style scoped>\n",
       "    .dataframe tbody tr th:only-of-type {\n",
       "        vertical-align: middle;\n",
       "    }\n",
       "\n",
       "    .dataframe tbody tr th {\n",
       "        vertical-align: top;\n",
       "    }\n",
       "\n",
       "    .dataframe thead th {\n",
       "        text-align: right;\n",
       "    }\n",
       "</style>\n",
       "<table border=\"1\" class=\"dataframe\">\n",
       "  <thead>\n",
       "    <tr style=\"text-align: right;\">\n",
       "      <th></th>\n",
       "      <th>english_2</th>\n",
       "      <th>preds_lm_val</th>\n",
       "      <th>baseline_rmse</th>\n",
       "      <th>lm_validate_rmse</th>\n",
       "      <th>preds_pf</th>\n",
       "      <th>pf_validate_rmse</th>\n",
       "    </tr>\n",
       "  </thead>\n",
       "  <tbody>\n",
       "    <tr>\n",
       "      <th>578</th>\n",
       "      <td>86.0</td>\n",
       "      <td>63.770033</td>\n",
       "      <td>16.370091</td>\n",
       "      <td>12.618093</td>\n",
       "      <td>89.941315</td>\n",
       "      <td>13.645745</td>\n",
       "    </tr>\n",
       "    <tr>\n",
       "      <th>771</th>\n",
       "      <td>40.0</td>\n",
       "      <td>56.935598</td>\n",
       "      <td>16.370091</td>\n",
       "      <td>12.618093</td>\n",
       "      <td>53.741074</td>\n",
       "      <td>13.645745</td>\n",
       "    </tr>\n",
       "    <tr>\n",
       "      <th>1291</th>\n",
       "      <td>66.0</td>\n",
       "      <td>65.483152</td>\n",
       "      <td>16.370091</td>\n",
       "      <td>12.618093</td>\n",
       "      <td>56.738801</td>\n",
       "      <td>13.645745</td>\n",
       "    </tr>\n",
       "    <tr>\n",
       "      <th>162</th>\n",
       "      <td>80.0</td>\n",
       "      <td>59.838308</td>\n",
       "      <td>16.370091</td>\n",
       "      <td>12.618093</td>\n",
       "      <td>50.948946</td>\n",
       "      <td>13.645745</td>\n",
       "    </tr>\n",
       "    <tr>\n",
       "      <th>333</th>\n",
       "      <td>32.0</td>\n",
       "      <td>54.530486</td>\n",
       "      <td>16.370091</td>\n",
       "      <td>12.618093</td>\n",
       "      <td>65.400533</td>\n",
       "      <td>13.645745</td>\n",
       "    </tr>\n",
       "  </tbody>\n",
       "</table>\n",
       "</div>"
      ],
      "text/plain": [
       "      english_2  preds_lm_val  baseline_rmse  lm_validate_rmse   preds_pf  \\\n",
       "578        86.0     63.770033      16.370091         12.618093  89.941315   \n",
       "771        40.0     56.935598      16.370091         12.618093  53.741074   \n",
       "1291       66.0     65.483152      16.370091         12.618093  56.738801   \n",
       "162        80.0     59.838308      16.370091         12.618093  50.948946   \n",
       "333        32.0     54.530486      16.370091         12.618093  65.400533   \n",
       "\n",
       "      pf_validate_rmse  \n",
       "578          13.645745  \n",
       "771          13.645745  \n",
       "1291         13.645745  \n",
       "162          13.645745  \n",
       "333          13.645745  "
      ]
     },
     "execution_count": 63,
     "metadata": {},
     "output_type": "execute_result"
    }
   ],
   "source": [
    "# Predict train and add to y_train_df\n",
    "y_validate_df['preds_pf'] = lm2.predict(X_validate_degree2)\n",
    "\n",
    "# Regression Errors for Validate set\n",
    "sse, mse, val_pf_rmse, ess, tss = regression_errors(y_validate, y_validate_df.preds_pf)\n",
    "\n",
    "# RMSE for Validate predictions\n",
    "y_validate_df['pf_validate_rmse'] = val_pf_rmse\n",
    "\n",
    "y_validate_df.head()"
   ]
  },
  {
   "cell_type": "markdown",
   "id": "90673e0c",
   "metadata": {},
   "source": [
    "## Tweedie Regressor"
   ]
  },
  {
   "cell_type": "code",
   "execution_count": null,
   "id": "84da1f7b",
   "metadata": {},
   "outputs": [],
   "source": [
    "# create the model object\n",
    "glm = TweedieRegressor(power=1, alpha=0)\n",
    "\n",
    "# fit the model to our training data. We must specify the column in y_train, \n",
    "# since we have converted it to a dataframe from a series! \n",
    "glm.fit(X_train, y_train.G3)\n",
    "\n",
    "# predict train\n",
    "y_train['G3_pred_glm'] = glm.predict(X_train)\n",
    "\n",
    "# evaluate: rmse\n",
    "rmse_train = mean_squared_error(y_train.G3, y_train.G3_pred_glm)**(1/2)\n",
    "\n",
    "# predict validate\n",
    "y_validate['G3_pred_glm'] = glm.predict(X_validate)\n",
    "\n",
    "# evaluate: rmse\n",
    "rmse_validate = mean_squared_error(y_validate.G3, y_validate.G3_pred_glm)**(1/2)\n",
    "\n",
    "print(\"RMSE for GLM using Tweedie, power=1 & alpha=0\\nTraining/In-Sample: \", rmse_train, \n",
    "      \"\\nValidation/Out-of-Sample: \", rmse_validate)\n"
   ]
  },
  {
   "cell_type": "code",
   "execution_count": null,
   "id": "564cb880",
   "metadata": {},
   "outputs": [],
   "source": []
  },
  {
   "cell_type": "code",
   "execution_count": null,
   "id": "9d1770b1",
   "metadata": {},
   "outputs": [],
   "source": []
  },
  {
   "cell_type": "code",
   "execution_count": null,
   "id": "91bd07ab",
   "metadata": {},
   "outputs": [],
   "source": []
  },
  {
   "cell_type": "code",
   "execution_count": null,
   "id": "fcac3335",
   "metadata": {},
   "outputs": [],
   "source": []
  },
  {
   "cell_type": "code",
   "execution_count": null,
   "id": "8b9910c2",
   "metadata": {},
   "outputs": [],
   "source": []
  },
  {
   "cell_type": "code",
   "execution_count": 216,
   "id": "2303c518",
   "metadata": {},
   "outputs": [],
   "source": [
    "def viz_econdis_total_expend():\n",
    "    \n",
    "    ma = above_avg_econdis_total_expend(train)\n",
    "\n",
    "    plt.figure(figsize=(10,5))\n",
    "    X = ['English 1', 'English 2', 'Algebra', 'Biology', 'U.S. History']\n",
    "\n",
    "    X_axis = np.arange(len(X))\n",
    "\n",
    "    plt.bar(X_axis[0] - 0.1, ma['Above Average'][0], 0.2, label = 'Above Average', color=['blue'], ec='black')\n",
    "    plt.bar(X_axis[0] + 0.1, ma['Below Average'][0], 0.2, label = 'Below Average', color=['orange'], ec='black')\n",
    "\n",
    "    plt.bar(X_axis[1] - 0.1, ma['Above Average'][1], 0.2, color=['blue'], ec='black')\n",
    "    plt.bar(X_axis[1] + 0.1, ma['Below Average'][1], 0.2, color=['orange'], ec='black')\n",
    "\n",
    "    plt.bar(X_axis[2] - 0.1, ma['Above Average'][2], 0.2, color=['blue'], ec='black')\n",
    "    plt.bar(X_axis[2] + 0.1, ma['Below Average'][2], 0.2, color=['orange'], ec='black')\n",
    "\n",
    "    plt.bar(X_axis[3] - 0.1, ma['Above Average'][3], 0.2, color=['blue'], ec='black')\n",
    "    plt.bar(X_axis[3] + 0.1, ma['Below Average'][3], 0.2, color=['orange'], ec='black')\n",
    "\n",
    "    plt.bar(X_axis[4] - 0.1, ma['Above Average'][4], 0.2, color=['blue'], ec='black')\n",
    "    plt.bar(X_axis[4] + 0.1, ma['Below Average'][4], 0.2, color=['orange'], ec='black')\n",
    "\n",
    "    ax = plt.gca()\n",
    "    \n",
    "    # Amount above bars\n",
    "    for p in ax.patches:\n",
    "        height = p.get_height()\n",
    "        ax.annotate('{:.0f}'.format(height), (p.get_x()+p.get_width()/2., height),\n",
    "                    ha='center', va='bottom', fontsize=10)\n",
    "\n",
    "    plt.xticks(X_axis, X)\n",
    "    plt.xlabel(\"Subject\")\n",
    "    plt.ylabel(\"Amount($)\")\n",
    "    plt.title(\"Total Expenditure for Economically Disadvantaged Schools\")\n",
    "    plt.ylim(2000, 14000)\n",
    "    plt.grid(True, alpha=0.3, linestyle='--')\n",
    "    leg = plt.legend(title=\"STAAR Passing Rate\")\n",
    "    leg._legend_box.align = \"left\"\n",
    "    plt.show()"
   ]
  },
  {
   "cell_type": "code",
   "execution_count": 217,
   "id": "9d94fcc7",
   "metadata": {},
   "outputs": [
    {
     "data": {
      "image/png": "[encoded data removed]",
      "text/plain": [
       "<Figure size 1000x500 with 1 Axes>"
      ]
     },
     "metadata": {},
     "output_type": "display_data"
    }
   ],
   "source": [
    "viz_econdis_total_expend()"
   ]
  },
  {
   "cell_type": "code",
   "execution_count": null,
   "id": "cd7dc1a2",
   "metadata": {},
   "outputs": [],
   "source": []
  }
 ],
 "metadata": {
  "kernelspec": {
   "display_name": "Python 3 (ipykernel)",
   "language": "python",
   "name": "python3"
  },
  "language_info": {
   "codemirror_mode": {
    "name": "ipython",
    "version": 3
   },
   "file_extension": ".py",
   "mimetype": "text/x-python",
   "name": "python",
   "nbconvert_exporter": "python",
   "pygments_lexer": "ipython3",
   "version": "3.9.15"
  },
  "toc": {
   "base_numbering": 1,
   "nav_menu": {},
   "number_sections": true,
   "sideBar": true,
   "skip_h1_title": false,
   "title_cell": "Table of Contents",
   "title_sidebar": "Contents",
   "toc_cell": false,
   "toc_position": {
    "height": "calc(100% - 180px)",
    "left": "10px",
    "top": "150px",
    "width": "257.398px"
   },
   "toc_section_display": true,
   "toc_window_display": true
  }
 },
 "nbformat": 4,
 "nbformat_minor": 5
}
