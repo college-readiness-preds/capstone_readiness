{
 "cells": [
  {
   "cell_type": "markdown",
   "id": "0cfb1871-09e3-4d2e-af84-7d6139a470a0",
   "metadata": {},
   "source": [
    "# Predicting school STAAR scores"
   ]
  },
  {
   "cell_type": "code",
   "execution_count": 3,
   "id": "8d31defc-11d6-447b-a197-b82bcb9f5ff0",
   "metadata": {},
   "outputs": [],
   "source": [
    "import pandas as pd\n",
    "import prepare\n",
    "import scipy.stats as stats"
   ]
  },
  {
   "cell_type": "markdown",
   "id": "7145cc44-02ee-4719-b6ee-6263c7b8aa9c",
   "metadata": {},
   "source": [
    "## Project Goals:"
   ]
  },
  {
   "cell_type": "markdown",
   "id": "0345f21f-8e6d-42d8-bd40-f8594e72d01d",
   "metadata": {},
   "source": [
    "<div class=\"alert alert-block alert-info\">\n",
    "<b>Highlights:</b>\n",
    "</br>\n",
    "\n",
    "* identify features of teachers/students that have a relationship with STAAR score percentage.\n",
    "</br>\n",
    "\n",
    "* Visualize relationships between variables\n",
    "</br>\n",
    "\n",
    "* use regression models to predict likely STAAR score for each test (English 1, English 2, Algebra, US History, Biology."
   ]
  },
  {
   "cell_type": "markdown",
   "id": "ce71a704-4b41-4eb9-9347-6f2e5ecddfd7",
   "metadata": {},
   "source": [
    "## Acquire"
   ]
  },
  {
   "cell_type": "markdown",
   "id": "9000dfd1-71e3-4862-a978-2d59f59c7529",
   "metadata": {},
   "source": [
    "<div class=\"alert alert-block alert-info\">\n",
    "<b>Highlights:</b>\n",
    "</br>\n",
    "\n",
    "* Data was obtained from the Texas Education Agency at tea.gov\n",
    "</br>\n",
    "\n",
    "* Data was obtained 3/13/2023\n",
    "</br>\n",
    "\n",
    "* Web scraping function was created to scrape features of primary interest and placed into one DataFrame\n",
    "</br>\n",
    "\n",
    "* Each row represents a studen and each column is a feature of that student\n",
    "    "
   ]
  },
  {
   "cell_type": "code",
   "execution_count": 9,
   "id": "85b156f2-8bf9-450d-b396-85e2ee99f204",
   "metadata": {},
   "outputs": [],
   "source": [
    "school = prepare.clean_df()"
   ]
  },
  {
   "cell_type": "code",
   "execution_count": 10,
   "id": "4694fab8-b421-481a-8c10-aaffd6874865",
   "metadata": {},
   "outputs": [],
   "source": [
    "from sklearn.model_selection import train_test_split"
   ]
  },
  {
   "cell_type": "code",
   "execution_count": 11,
   "id": "ffd0f9e4-8241-4f6f-a8b2-b26c7d59947a",
   "metadata": {},
   "outputs": [],
   "source": [
    "def tts(df, stratify=None):\n",
    "    '''\n",
    "    removing your test data from the data\n",
    "    '''\n",
    "    train_validate, test=train_test_split(df, \n",
    "                                 train_size=.8, \n",
    "                                 random_state=137,\n",
    "                                 stratify=None)\n",
    "    '''\n",
    "    splitting the remaining data into the train and validate groups\n",
    "    '''            \n",
    "    train, validate =train_test_split(train_validate, \n",
    "                                      test_size=.3, \n",
    "                                      random_state=137,\n",
    "                                      stratify=None)\n",
    "    return train, validate, test"
   ]
  },
  {
   "cell_type": "code",
   "execution_count": 13,
   "id": "8092fc5e-fb5a-4b13-9774-aafadda20c06",
   "metadata": {},
   "outputs": [],
   "source": [
    "train, val, test = tts(school, school.extracurricular_expend)"
   ]
  },
  {
   "cell_type": "code",
   "execution_count": 16,
   "id": "dbb1fb75-d929-4007-b972-230b2e0f820d",
   "metadata": {},
   "outputs": [],
   "source": [
    "def extra_subs(train):\n",
    "\n",
    "    '''    \n",
    "    This function executes pearson r test testing for correlation \n",
    "    between each subject's passing rate and student teacher ratio.\n",
    "    '''\n",
    "\n",
    "    subjects = ['english_1', 'english_2', 'algebra', 'biology', 'history']\n",
    "\n",
    "    data = []\n",
    "    for i in subjects:\n",
    "\n",
    "        r, p = stats.pearsonr(x=train.extracurricular_expend, y=train[i])\n",
    "        data.append({\n",
    "                     'subject': i, \n",
    "                     'correlation': r, \n",
    "                     'p-value': p\n",
    "                     })\n",
    "        \n",
    "    df = pd.DataFrame(data)\n",
    "    \n",
    "    return df"
   ]
  },
  {
   "cell_type": "code",
   "execution_count": 17,
   "id": "2a19d93b-df64-40a6-ab31-437bf83d4f68",
   "metadata": {},
   "outputs": [
    {
     "data": {
      "text/html": [
       "<div>\n",
       "<style scoped>\n",
       "    .dataframe tbody tr th:only-of-type {\n",
       "        vertical-align: middle;\n",
       "    }\n",
       "\n",
       "    .dataframe tbody tr th {\n",
       "        vertical-align: top;\n",
       "    }\n",
       "\n",
       "    .dataframe thead th {\n",
       "        text-align: right;\n",
       "    }\n",
       "</style>\n",
       "<table border=\"1\" class=\"dataframe\">\n",
       "  <thead>\n",
       "    <tr style=\"text-align: right;\">\n",
       "      <th></th>\n",
       "      <th>subject</th>\n",
       "      <th>correlation</th>\n",
       "      <th>p-value</th>\n",
       "    </tr>\n",
       "  </thead>\n",
       "  <tbody>\n",
       "    <tr>\n",
       "      <th>0</th>\n",
       "      <td>english_1</td>\n",
       "      <td>0.147849</td>\n",
       "      <td>3.472362e-05</td>\n",
       "    </tr>\n",
       "    <tr>\n",
       "      <th>1</th>\n",
       "      <td>english_2</td>\n",
       "      <td>0.148891</td>\n",
       "      <td>3.051963e-05</td>\n",
       "    </tr>\n",
       "    <tr>\n",
       "      <th>2</th>\n",
       "      <td>algebra</td>\n",
       "      <td>0.185599</td>\n",
       "      <td>1.849293e-07</td>\n",
       "    </tr>\n",
       "    <tr>\n",
       "      <th>3</th>\n",
       "      <td>biology</td>\n",
       "      <td>0.166587</td>\n",
       "      <td>2.986320e-06</td>\n",
       "    </tr>\n",
       "    <tr>\n",
       "      <th>4</th>\n",
       "      <td>history</td>\n",
       "      <td>0.123032</td>\n",
       "      <td>5.833295e-04</td>\n",
       "    </tr>\n",
       "  </tbody>\n",
       "</table>\n",
       "</div>"
      ],
      "text/plain": [
       "     subject  correlation       p-value\n",
       "0  english_1     0.147849  3.472362e-05\n",
       "1  english_2     0.148891  3.051963e-05\n",
       "2    algebra     0.185599  1.849293e-07\n",
       "3    biology     0.166587  2.986320e-06\n",
       "4    history     0.123032  5.833295e-04"
      ]
     },
     "execution_count": 17,
     "metadata": {},
     "output_type": "execute_result"
    }
   ],
   "source": [
    "extra_subs(train)"
   ]
  },
  {
   "cell_type": "code",
   "execution_count": null,
   "id": "4730b97c-116f-4f78-923c-f7c0d91727e3",
   "metadata": {},
   "outputs": [],
   "source": []
  }
 ],
 "metadata": {
  "kernelspec": {
   "display_name": "Python 3 (ipykernel)",
   "language": "python",
   "name": "python3"
  },
  "language_info": {
   "codemirror_mode": {
    "name": "ipython",
    "version": 3
   },
   "file_extension": ".py",
   "mimetype": "text/x-python",
   "name": "python",
   "nbconvert_exporter": "python",
   "pygments_lexer": "ipython3",
   "version": "3.9.13"
  }
 },
 "nbformat": 4,
 "nbformat_minor": 5
}
