{
 "cells": [
  {
   "cell_type": "code",
   "execution_count": 3,
   "metadata": {},
   "outputs": [],
   "source": [
    "import pandas as pd\n",
    "pd.set_option('display.max_columns', None)\n",
    "\n",
    "import requests\n",
    "from bs4 import BeautifulSoup\n",
    "import re\n",
    "import time\n",
    "\n",
    "source_code = requests.get('https://txschools.gov/?lng=en')\n",
    "soup = BeautifulSoup(source_code.content, 'lxml')\n",
    "data = []\n",
    "links = []\n"
   ]
  },
  {
   "cell_type": "code",
   "execution_count": null,
   "metadata": {},
   "outputs": [],
   "source": [
    "def remove_duplicates(l): # remove duplicates and URL string\n",
    "    for item in l:\n",
    "        match = re.search(\"(?P<url>https?://[^\\s]+)\", item)\n",
    "        if match is not None:\n",
    "            links.append((match.group(\"url\")))\n",
    "\n",
    "\n",
    "for link in soup.find_all('a', href=True):\n",
    "    data.append(str(link.get('href')))\n",
    "flag = True\n",
    "remove_duplicates(data)\n",
    "while flag:\n",
    "    try:\n",
    "        for link in links:\n",
    "            for j in soup.find_all('a', href=True):\n",
    "                temp = []\n",
    "                source_code = requests.get(link)\n",
    "                soup = BeautifulSoup(source_code.content, 'lxml')\n",
    "                temp.append(str(j.get('href')))\n",
    "                remove_duplicates(temp)\n",
    "\n",
    "                if len(links) > 162: # set limitation to number of URLs\n",
    "                    break\n",
    "            if len(links) > 162:\n",
    "                break\n",
    "        if len(links) > 162:\n",
    "            break\n",
    "    except Exception as e:\n",
    "        print(e)\n",
    "        if len(links) > 162:\n",
    "            break\n",
    "\n",
    "for url in links:\n",
    "print(url)"
   ]
  },
  {
   "cell_type": "code",
   "execution_count": null,
   "metadata": {},
   "outputs": [],
   "source": []
  }
 ],
 "metadata": {
  "kernelspec": {
   "display_name": "base",
   "language": "python",
   "name": "python3"
  },
  "language_info": {
   "codemirror_mode": {
    "name": "ipython",
    "version": 3
   },
   "file_extension": ".py",
   "mimetype": "text/x-python",
   "name": "python",
   "nbconvert_exporter": "python",
   "pygments_lexer": "ipython3",
   "version": "3.9.13"
  },
  "orig_nbformat": 4
 },
 "nbformat": 4,
 "nbformat_minor": 2
}
