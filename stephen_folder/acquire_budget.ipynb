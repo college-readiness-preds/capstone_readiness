{
 "cells": [
  {
   "cell_type": "code",
   "execution_count": 1,
   "metadata": {},
   "outputs": [],
   "source": [
    "import pandas as pd"
   ]
  },
  {
   "cell_type": "code",
   "execution_count": 2,
   "metadata": {},
   "outputs": [],
   "source": [
    "data = pd.read_html('https://rptsvr1.tea.texas.gov/cgi/sas/broker?_service=marykay&_service=appserv&_debug=0&_program=sfadhoc.new_Campus_actual21.sas&which_camp=161920001', header=0)"
   ]
  },
  {
   "cell_type": "code",
   "execution_count": 3,
   "metadata": {},
   "outputs": [
    {
     "data": {
      "text/html": [
       "<div>\n",
       "<style scoped>\n",
       "    .dataframe tbody tr th:only-of-type {\n",
       "        vertical-align: middle;\n",
       "    }\n",
       "\n",
       "    .dataframe tbody tr th {\n",
       "        vertical-align: top;\n",
       "    }\n",
       "\n",
       "    .dataframe thead th {\n",
       "        text-align: right;\n",
       "    }\n",
       "</style>\n",
       "<table border=\"1\" class=\"dataframe\">\n",
       "  <thead>\n",
       "    <tr style=\"text-align: right;\">\n",
       "      <th></th>\n",
       "      <th>Unnamed: 0</th>\n",
       "      <th>GeneralFund</th>\n",
       "      <th>%</th>\n",
       "      <th>PerStudent</th>\n",
       "      <th>AllFunds</th>\n",
       "      <th>%.1</th>\n",
       "      <th>PerStudent.1</th>\n",
       "    </tr>\n",
       "  </thead>\n",
       "  <tbody>\n",
       "    <tr>\n",
       "      <th>0</th>\n",
       "      <td>Expenditures by Object (Objects 6100-6600)</td>\n",
       "      <td>Expenditures by Object (Objects 6100-6600)</td>\n",
       "      <td>Expenditures by Object (Objects 6100-6600)</td>\n",
       "      <td>Expenditures by Object (Objects 6100-6600)</td>\n",
       "      <td>Expenditures by Object (Objects 6100-6600)</td>\n",
       "      <td>Expenditures by Object (Objects 6100-6600)</td>\n",
       "      <td>Expenditures by Object (Objects 6100-6600)</td>\n",
       "    </tr>\n",
       "    <tr>\n",
       "      <th>1</th>\n",
       "      <td>Total Expenditures</td>\n",
       "      <td>$5,997,618</td>\n",
       "      <td>100.00%</td>\n",
       "      <td>$7,064</td>\n",
       "      <td>$6,018,777</td>\n",
       "      <td>100.00%</td>\n",
       "      <td>$7,089</td>\n",
       "    </tr>\n",
       "  </tbody>\n",
       "</table>\n",
       "</div>"
      ],
      "text/plain": [
       "                                   Unnamed: 0  \\\n",
       "0  Expenditures by Object (Objects 6100-6600)   \n",
       "1                          Total Expenditures   \n",
       "\n",
       "                                  GeneralFund  \\\n",
       "0  Expenditures by Object (Objects 6100-6600)   \n",
       "1                                  $5,997,618   \n",
       "\n",
       "                                            %  \\\n",
       "0  Expenditures by Object (Objects 6100-6600)   \n",
       "1                                     100.00%   \n",
       "\n",
       "                                   PerStudent  \\\n",
       "0  Expenditures by Object (Objects 6100-6600)   \n",
       "1                                      $7,064   \n",
       "\n",
       "                                     AllFunds  \\\n",
       "0  Expenditures by Object (Objects 6100-6600)   \n",
       "1                                  $6,018,777   \n",
       "\n",
       "                                          %.1  \\\n",
       "0  Expenditures by Object (Objects 6100-6600)   \n",
       "1                                     100.00%   \n",
       "\n",
       "                                 PerStudent.1  \n",
       "0  Expenditures by Object (Objects 6100-6600)  \n",
       "1                                      $7,089  "
      ]
     },
     "execution_count": 3,
     "metadata": {},
     "output_type": "execute_result"
    }
   ],
   "source": [
    "data[1].head(2)"
   ]
  },
  {
   "cell_type": "code",
   "execution_count": null,
   "metadata": {},
   "outputs": [],
   "source": []
  },
  {
   "cell_type": "code",
   "execution_count": 4,
   "metadata": {},
   "outputs": [],
   "source": [
    "def get_budgets(school_id):\n",
    "\n",
    "    budget_data = pd.DataFrame({\n",
    "\n",
    "\n",
    "\n",
    "                                })\n",
    "\n",
    "    for i in school_id:\n",
    "\n",
    "        url = 'https://rptsvr1.tea.texas.gov/cgi/sas/broker?_service=marykay&_service=appserv&_debug=0&_program=sfadhoc.new_Campus_actual21.sas&which_camp={school_id}'\n",
    "\n",
    "        data = pd.read_html(url)\n",
    "        data = data[1]\n",
    "\n",
    "        return data\n",
    "    "
   ]
  },
  {
   "attachments": {},
   "cell_type": "markdown",
   "metadata": {},
   "source": [
    "- turn acquire into function to get the data for all the urls\n",
    "- make sure there is a way to keep track of school id for that data\n",
    "- move to prep_budget.ipynb to clean data and turn prepare into a function"
   ]
  },
  {
   "cell_type": "code",
   "execution_count": null,
   "metadata": {},
   "outputs": [],
   "source": []
  }
 ],
 "metadata": {
  "kernelspec": {
   "display_name": "base",
   "language": "python",
   "name": "python3"
  },
  "language_info": {
   "codemirror_mode": {
    "name": "ipython",
    "version": 3
   },
   "file_extension": ".py",
   "mimetype": "text/x-python",
   "name": "python",
   "nbconvert_exporter": "python",
   "pygments_lexer": "ipython3",
   "version": "3.9.13"
  },
  "orig_nbformat": 4
 },
 "nbformat": 4,
 "nbformat_minor": 2
}
