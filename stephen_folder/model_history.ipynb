{
 "cells": [
  {
   "cell_type": "code",
   "execution_count": 90,
   "metadata": {},
   "outputs": [],
   "source": [
    "import numpy as np\n",
    "import pandas as pd\n",
    "import seaborn as sns\n",
    "import prepare as p\n",
    "import explore as e\n",
    "\n",
    "from scipy import stats\n",
    "import sklearn.preprocessing as pre\n",
    "from sklearn.model_selection import train_test_split\n",
    "from sklearn.linear_model import LassoLars\n",
    "\n",
    "import warnings\n",
    "warnings.filterwarnings(\"ignore\")\n",
    "\n",
    "# modeling methods\n",
    "from sklearn.metrics import mean_squared_error\n",
    "from sklearn.linear_model import LinearRegression, LassoLars, TweedieRegressor\n",
    "from sklearn.preprocessing import PolynomialFeatures"
   ]
  },
  {
   "cell_type": "code",
   "execution_count": 56,
   "metadata": {},
   "outputs": [],
   "source": [
    "df = pd.read_csv('school_data.csv')"
   ]
  },
  {
   "cell_type": "code",
   "execution_count": 57,
   "metadata": {},
   "outputs": [],
   "source": [
    "df = p.clean_df()"
   ]
  },
  {
   "cell_type": "code",
   "execution_count": 58,
   "metadata": {},
   "outputs": [
    {
     "data": {
      "text/plain": [
       "(1391, 16)"
      ]
     },
     "execution_count": 58,
     "metadata": {},
     "output_type": "execute_result"
    }
   ],
   "source": [
    "df.shape"
   ]
  },
  {
   "cell_type": "code",
   "execution_count": 59,
   "metadata": {},
   "outputs": [
    {
     "name": "stdout",
     "output_type": "stream",
     "text": [
      "<class 'pandas.core.frame.DataFrame'>\n",
      "Int64Index: 1391 entries, 0 to 1560\n",
      "Data columns (total 16 columns):\n",
      " #   Column                        Non-Null Count  Dtype  \n",
      "---  ------                        --------------  -----  \n",
      " 0   school_id                     1391 non-null   int64  \n",
      " 1   english_1                     1391 non-null   float64\n",
      " 2   english_2                     1391 non-null   float64\n",
      " 3   algebra                       1391 non-null   float64\n",
      " 4   biology                       1391 non-null   float64\n",
      " 5   history                       1391 non-null   float64\n",
      " 6   bilingual_or_english_learner  1391 non-null   float64\n",
      " 7   econdis                       1391 non-null   float64\n",
      " 8   salary                        1391 non-null   float64\n",
      " 9   teacher_exp_6to10             1391 non-null   float64\n",
      " 10  extracurricular_expend        1391 non-null   float64\n",
      " 11  total_expend                  1391 non-null   float64\n",
      " 12  student_teacher_ratio         1391 non-null   float64\n",
      " 13  teacher_exp_0to5              1391 non-null   float64\n",
      " 14  teacher_exp_11_plus           1391 non-null   float64\n",
      " 15  high_edu                      1391 non-null   float64\n",
      "dtypes: float64(15), int64(1)\n",
      "memory usage: 184.7 KB\n"
     ]
    }
   ],
   "source": [
    "df.info()"
   ]
  },
  {
   "cell_type": "code",
   "execution_count": 60,
   "metadata": {},
   "outputs": [],
   "source": [
    "#split\n",
    "train, val, test  = e.tts(df)"
   ]
  },
  {
   "cell_type": "code",
   "execution_count": 61,
   "metadata": {},
   "outputs": [
    {
     "data": {
      "text/plain": [
       "((778, 16), (334, 16), (279, 16))"
      ]
     },
     "execution_count": 61,
     "metadata": {},
     "output_type": "execute_result"
    }
   ],
   "source": [
    "train.shape, val.shape, test.shape"
   ]
  },
  {
   "cell_type": "code",
   "execution_count": 62,
   "metadata": {},
   "outputs": [
    {
     "name": "stdout",
     "output_type": "stream",
     "text": [
      "<class 'pandas.core.frame.DataFrame'>\n",
      "Int64Index: 778 entries, 404 to 1056\n",
      "Data columns (total 16 columns):\n",
      " #   Column                        Non-Null Count  Dtype  \n",
      "---  ------                        --------------  -----  \n",
      " 0   school_id                     778 non-null    int64  \n",
      " 1   english_1                     778 non-null    float64\n",
      " 2   english_2                     778 non-null    float64\n",
      " 3   algebra                       778 non-null    float64\n",
      " 4   biology                       778 non-null    float64\n",
      " 5   history                       778 non-null    float64\n",
      " 6   bilingual_or_english_learner  778 non-null    float64\n",
      " 7   econdis                       778 non-null    float64\n",
      " 8   salary                        778 non-null    float64\n",
      " 9   teacher_exp_6to10             778 non-null    float64\n",
      " 10  extracurricular_expend        778 non-null    float64\n",
      " 11  total_expend                  778 non-null    float64\n",
      " 12  student_teacher_ratio         778 non-null    float64\n",
      " 13  teacher_exp_0to5              778 non-null    float64\n",
      " 14  teacher_exp_11_plus           778 non-null    float64\n",
      " 15  high_edu                      778 non-null    float64\n",
      "dtypes: float64(15), int64(1)\n",
      "memory usage: 103.3 KB\n"
     ]
    }
   ],
   "source": [
    "train.info()"
   ]
  },
  {
   "cell_type": "code",
   "execution_count": 63,
   "metadata": {},
   "outputs": [],
   "source": [
    "# seperate target variable\n",
    "# scale\n",
    "def iso_target_variable(df):\n",
    "    X = df.drop(columns = ['english_1', 'english_2', 'algebra', 'biology', 'history'])\n",
    "    y = df['history']\n",
    "    return X, y"
   ]
  },
  {
   "cell_type": "code",
   "execution_count": 64,
   "metadata": {},
   "outputs": [],
   "source": [
    "#Root Mean Squared Error RMSE\n",
    "def rmse(y_true, y_pred):\n",
    "    mse = mean_squared_error(y_true, y_pred)\n",
    "    rmse = np.sqrt(mse)\n",
    "    return rmse"
   ]
  },
  {
   "cell_type": "code",
   "execution_count": 65,
   "metadata": {},
   "outputs": [],
   "source": [
    "X_Train, y_Train = iso_target_variable(train)\n",
    "X_Val, y_Val = iso_target_variable(val)"
   ]
  },
  {
   "cell_type": "code",
   "execution_count": null,
   "metadata": {},
   "outputs": [],
   "source": []
  },
  {
   "cell_type": "code",
   "execution_count": null,
   "metadata": {},
   "outputs": [],
   "source": []
  },
  {
   "cell_type": "code",
   "execution_count": 66,
   "metadata": {},
   "outputs": [
    {
     "data": {
      "text/html": [
       "<div>\n",
       "<style scoped>\n",
       "    .dataframe tbody tr th:only-of-type {\n",
       "        vertical-align: middle;\n",
       "    }\n",
       "\n",
       "    .dataframe tbody tr th {\n",
       "        vertical-align: top;\n",
       "    }\n",
       "\n",
       "    .dataframe thead th {\n",
       "        text-align: right;\n",
       "    }\n",
       "</style>\n",
       "<table border=\"1\" class=\"dataframe\">\n",
       "  <thead>\n",
       "    <tr style=\"text-align: right;\">\n",
       "      <th></th>\n",
       "      <th>school_id</th>\n",
       "      <th>english_1</th>\n",
       "      <th>english_2</th>\n",
       "      <th>algebra</th>\n",
       "      <th>biology</th>\n",
       "      <th>history</th>\n",
       "      <th>bilingual_or_english_learner</th>\n",
       "      <th>econdis</th>\n",
       "      <th>salary</th>\n",
       "      <th>teacher_exp_6to10</th>\n",
       "      <th>extracurricular_expend</th>\n",
       "      <th>total_expend</th>\n",
       "      <th>student_teacher_ratio</th>\n",
       "      <th>teacher_exp_0to5</th>\n",
       "      <th>teacher_exp_11_plus</th>\n",
       "      <th>high_edu</th>\n",
       "      <th>yhat_baseline</th>\n",
       "    </tr>\n",
       "  </thead>\n",
       "  <tbody>\n",
       "    <tr>\n",
       "      <th>404</th>\n",
       "      <td>57905088</td>\n",
       "      <td>98.0</td>\n",
       "      <td>100.0</td>\n",
       "      <td>100.0</td>\n",
       "      <td>100.0</td>\n",
       "      <td>100.0</td>\n",
       "      <td>30.5</td>\n",
       "      <td>87.9</td>\n",
       "      <td>69483.0</td>\n",
       "      <td>26.9</td>\n",
       "      <td>38.0</td>\n",
       "      <td>7558.0</td>\n",
       "      <td>19.2</td>\n",
       "      <td>22.4</td>\n",
       "      <td>50.7</td>\n",
       "      <td>44.8</td>\n",
       "      <td>87.829049</td>\n",
       "    </tr>\n",
       "    <tr>\n",
       "      <th>429</th>\n",
       "      <td>57912005</td>\n",
       "      <td>45.0</td>\n",
       "      <td>47.0</td>\n",
       "      <td>79.0</td>\n",
       "      <td>94.0</td>\n",
       "      <td>75.0</td>\n",
       "      <td>47.5</td>\n",
       "      <td>85.4</td>\n",
       "      <td>63990.0</td>\n",
       "      <td>20.2</td>\n",
       "      <td>13.0</td>\n",
       "      <td>24531.0</td>\n",
       "      <td>5.9</td>\n",
       "      <td>51.9</td>\n",
       "      <td>27.9</td>\n",
       "      <td>31.1</td>\n",
       "      <td>87.829049</td>\n",
       "    </tr>\n",
       "    <tr>\n",
       "      <th>621</th>\n",
       "      <td>81902002</td>\n",
       "      <td>69.0</td>\n",
       "      <td>79.0</td>\n",
       "      <td>74.0</td>\n",
       "      <td>86.0</td>\n",
       "      <td>93.0</td>\n",
       "      <td>4.5</td>\n",
       "      <td>53.5</td>\n",
       "      <td>56116.0</td>\n",
       "      <td>5.2</td>\n",
       "      <td>1071.0</td>\n",
       "      <td>9636.0</td>\n",
       "      <td>11.3</td>\n",
       "      <td>29.7</td>\n",
       "      <td>65.2</td>\n",
       "      <td>22.8</td>\n",
       "      <td>87.829049</td>\n",
       "    </tr>\n",
       "  </tbody>\n",
       "</table>\n",
       "</div>"
      ],
      "text/plain": [
       "     school_id  english_1  english_2  algebra  biology  history  \\\n",
       "404   57905088       98.0      100.0    100.0    100.0    100.0   \n",
       "429   57912005       45.0       47.0     79.0     94.0     75.0   \n",
       "621   81902002       69.0       79.0     74.0     86.0     93.0   \n",
       "\n",
       "     bilingual_or_english_learner  econdis   salary  teacher_exp_6to10  \\\n",
       "404                          30.5     87.9  69483.0               26.9   \n",
       "429                          47.5     85.4  63990.0               20.2   \n",
       "621                           4.5     53.5  56116.0                5.2   \n",
       "\n",
       "     extracurricular_expend  total_expend  student_teacher_ratio  \\\n",
       "404                    38.0        7558.0                   19.2   \n",
       "429                    13.0       24531.0                    5.9   \n",
       "621                  1071.0        9636.0                   11.3   \n",
       "\n",
       "     teacher_exp_0to5  teacher_exp_11_plus  high_edu  yhat_baseline  \n",
       "404              22.4                 50.7      44.8      87.829049  \n",
       "429              51.9                 27.9      31.1      87.829049  \n",
       "621              29.7                 65.2      22.8      87.829049  "
      ]
     },
     "execution_count": 66,
     "metadata": {},
     "output_type": "execute_result"
    }
   ],
   "source": [
    "#Baseline predictions\n",
    "\n",
    "train['yhat_baseline'] = y_Train.mean()\n",
    "train.head(3)\n"
   ]
  },
  {
   "cell_type": "code",
   "execution_count": 67,
   "metadata": {},
   "outputs": [
    {
     "data": {
      "text/plain": [
       "11.018928764909456"
      ]
     },
     "execution_count": 67,
     "metadata": {},
     "output_type": "execute_result"
    }
   ],
   "source": [
    "\n",
    "mse_train = mean_squared_error(y_Train, train.yhat_baseline)\n",
    "rmse_train= np.sqrt(mse_train)###############################################\n",
    "rmse_train\n",
    "\n"
   ]
  },
  {
   "attachments": {},
   "cell_type": "markdown",
   "metadata": {},
   "source": [
    "# Baseline RMSE = 11.02"
   ]
  },
  {
   "cell_type": "code",
   "execution_count": 68,
   "metadata": {},
   "outputs": [],
   "source": [
    "\n",
    "def GLM(power, alpha, X_Train, y_Train, X_Val, y_Val):\n",
    "    \n",
    "\n",
    "    scaler = pre.MinMaxScaler()\n",
    "    # Note that we only call .fit with the training data,\n",
    "    # but we use .transform to apply the scaling to all the data splits.\n",
    "    scaler.fit(X_Train)\n",
    "\n",
    "    x_train_scaled = scaler.transform(X_Train)\n",
    "    x_validate_scaled = scaler.transform(X_Val)\n",
    "    #x_test_scaled = scaler.transform(x_test)\n",
    "\n",
    "    # create the model object\n",
    "    glm = TweedieRegressor(power=power, alpha=alpha)\n",
    "\n",
    "    # fit the model to training data. must specify the column in y_train\n",
    "    glm.fit(x_train_scaled, y_Train)\n",
    "\n",
    "    # predict train\n",
    "    y_pred_train = glm.predict(x_train_scaled)\n",
    "\n",
    "    # evaluate: rmse\n",
    "    mse_train = mean_squared_error(y_Train, y_pred_train)\n",
    "    rmse_train= np.sqrt(mse_train)###############################################\n",
    "\n",
    "    # predict validate\n",
    "    glm.fit(x_validate_scaled, y_Val)\n",
    "    y_pred_val = glm.predict(x_validate_scaled)\n",
    "\n",
    "    # evaluate: rmse\n",
    "    mse_val = mean_squared_error(y_Val, y_pred_val)\n",
    "    rmse_val = np.sqrt(mse_val)##################################################\n",
    "\n",
    "\n",
    "    \n",
    "    return print(\"RMSE for GLM using Tweedie Regressor \\nTraining/In-Sample: \", round(rmse_train), \n",
    "      \"\\nValidation/Out-of-Sample: \", round(rmse_val))"
   ]
  },
  {
   "cell_type": "code",
   "execution_count": 69,
   "metadata": {},
   "outputs": [
    {
     "data": {
      "text/plain": [
       "<AxesSubplot:>"
      ]
     },
     "execution_count": 69,
     "metadata": {},
     "output_type": "execute_result"
    },
    {
     "data": {
      "image/png": "[encoded data removed]",
      "text/plain": [
       "<Figure size 640x480 with 1 Axes>"
      ]
     },
     "metadata": {},
     "output_type": "display_data"
    }
   ],
   "source": [
    "y_Train.hist()"
   ]
  },
  {
   "cell_type": "code",
   "execution_count": 70,
   "metadata": {},
   "outputs": [
    {
     "name": "stdout",
     "output_type": "stream",
     "text": [
      "RMSE for GLM using Tweedie Regressor \n",
      "Training/In-Sample:  9 \n",
      "Validation/Out-of-Sample:  8\n"
     ]
    }
   ],
   "source": [
    "#power =1 for poisson distribution of target variable\n",
    "GLM(1, 0, X_Train, y_Train, X_Val, y_Val)"
   ]
  },
  {
   "cell_type": "code",
   "execution_count": 87,
   "metadata": {},
   "outputs": [],
   "source": [
    "#using Andy's function to see if polynomial regression is better than Tweedie Regressor\n",
    "def subject_model(df, target, degree=2):\n",
    "    '''\n",
    "    this function will split, scale, and model english 1\n",
    "    '''\n",
    "    train, val, test=e.tts(df)\n",
    "    \n",
    "    X_train=train.drop(columns=['biology', 'english_1', 'english_2', 'algebra', 'history', 'school_id'])\n",
    "    y_train=pd.DataFrame(train[target])\n",
    "\n",
    "    X_val=val.drop(columns=['biology', 'english_1', 'english_2', 'algebra', 'history', 'school_id'])\n",
    "    y_val=pd.DataFrame(val[target])\n",
    "\n",
    "    X_test=test.drop(columns=['biology', 'english_1', 'english_2', 'algebra', 'history', 'school_id'])\n",
    "    y_test=pd.DataFrame(test[target])\n",
    "    \n",
    "    scaler=pre.MinMaxScaler()\n",
    "    \n",
    "    num_cols = ['bilingual_or_english_learner',\n",
    "            'econdis',\n",
    "            'salary',\n",
    "            'teacher_exp_6to10',\n",
    "            'extracurricular_expend',\n",
    "            'total_expend',\n",
    "            'student_teacher_ratio',\n",
    "            'teacher_exp_0to5',\n",
    "            'teacher_exp_11_plus',\n",
    "            'high_edu']\n",
    "    scaler.fit(X_train)\n",
    "\n",
    "    X_train[num_cols] = scaler.transform(X_train[num_cols])\n",
    "    X_val[num_cols] = scaler.transform(X_val[num_cols])\n",
    "    X_test[num_cols] = scaler.transform(X_test[num_cols])\n",
    "    \n",
    "    '''\n",
    "    this model will create the object and run the polynomyal regression model for english 1\n",
    "    '''\n",
    "    pf = PolynomialFeatures(degree=degree)\n",
    "    \n",
    "    X_train_degree2 = pf.fit_transform(X_train)\n",
    "    X_validate_degree2 = pf.transform(X_val)\n",
    "    X_test_degree2 = pf.transform(X_test)\n",
    "    \n",
    "    lm2 = LinearRegression()\n",
    "    lm2.fit(X_train_degree2, y_train[target])\n",
    "\n",
    "    y_train[f'{target}_pred_lm2'] = lm2.predict(X_train_degree2)\n",
    "    rmse_train = mean_squared_error(y_train[target], y_train[f'{target}_pred_lm2'], squared=False)\n",
    "\n",
    "    y_val[f'{target}_pred_lm2'] = lm2.predict(X_validate_degree2)\n",
    "    rmse_validate = mean_squared_error(y_val[target], y_val[f'{target}_pred_lm2'], squared=False)\n",
    "\n",
    "    print(f\"RMSE for Polynomial Model, degrees={degree}\\nTraining/In-Sample: \", rmse_train, \n",
    "          \"\\nValidation/Out-of-Sample: \", rmse_validate)"
   ]
  },
  {
   "cell_type": "code",
   "execution_count": 89,
   "metadata": {},
   "outputs": [
    {
     "name": "stdout",
     "output_type": "stream",
     "text": [
      "RMSE for Polynomial Model, degrees=1\n",
      "Training/In-Sample:  9.387695076749957 \n",
      "Validation/Out-of-Sample:  8.717283608982898\n"
     ]
    }
   ],
   "source": [
    "subject_model(df, 'history', degree= 1)"
   ]
  },
  {
   "cell_type": "code",
   "execution_count": 97,
   "metadata": {},
   "outputs": [],
   "source": [
    "# try StandardScaler and RobustScaler on LassoLars\n",
    "\n",
    "\n",
    "#using Andy's function to see if polynomial regression is better than Tweedie Regressor\n",
    "def subject_model(df, target):\n",
    "    '''\n",
    "    this function will split, scale, and model english 1\n",
    "    '''\n",
    "    train, val, test=e.tts(df)\n",
    "    \n",
    "    X_train=train.drop(columns=['biology', 'english_1', 'english_2', 'algebra', 'history', 'school_id'])\n",
    "    y_train=pd.DataFrame(train[target])\n",
    "\n",
    "    X_val=val.drop(columns=['biology', 'english_1', 'english_2', 'algebra', 'history', 'school_id'])\n",
    "    y_val=pd.DataFrame(val[target])\n",
    "\n",
    "    X_test=test.drop(columns=['biology', 'english_1', 'english_2', 'algebra', 'history', 'school_id'])\n",
    "    y_test=pd.DataFrame(test[target])\n",
    "    \n",
    "    scaler=pre.StandardScaler()\n",
    "    \n",
    "    num_cols = ['bilingual_or_english_learner',\n",
    "            'econdis',\n",
    "            'salary',\n",
    "            'teacher_exp_6to10',\n",
    "            'extracurricular_expend',\n",
    "            'total_expend',\n",
    "            'student_teacher_ratio',\n",
    "            'teacher_exp_0to5',\n",
    "            'teacher_exp_11_plus',\n",
    "            'high_edu']\n",
    "    \n",
    "    scaler.fit(X_train)\n",
    "\n",
    "    X_train[num_cols] = scaler.transform(X_train[num_cols])\n",
    "    X_val[num_cols] = scaler.transform(X_val[num_cols])\n",
    "    X_test[num_cols] = scaler.transform(X_test[num_cols])\n",
    "    \n",
    "    '''\n",
    "    this model will create the object and run the polynomyal regression model for english 1\n",
    "    '''\n",
    "    lars = LassoLars(alpha=1.0)\n",
    "\n",
    "\n",
    "    X_train_degree2 = lars.fit(X_train, y_train)\n",
    "    #X_validate_degree2 = lars.transform(X_val)\n",
    "    #X_test_degree2 = lars.transform(X_test)\n",
    "\n",
    "    x_train_pred\n",
    "\n",
    "    y_train[f'{target}_pred_lm2'] = lm2.predict(X_train_degree2)\n",
    "    rmse_train = mean_squared_error(y_train[target], y_train[f'{target}_pred_lm2'], squared=False)\n",
    "\n",
    "    y_val[f'{target}_pred_lm2'] = lm2.predict(X_validate_degree2)\n",
    "    rmse_validate = mean_squared_error(y_val[target], y_val[f'{target}_pred_lm2'], squared=False)\n",
    "\n",
    "    print(f\"RMSE for Polynomial Model, degrees={degree}\\nTraining/In-Sample: \", rmse_train, \n",
    "          \"\\nValidation/Out-of-Sample: \", rmse_validate)"
   ]
  },
  {
   "cell_type": "code",
   "execution_count": 96,
   "metadata": {},
   "outputs": [
    {
     "ename": "ValueError",
     "evalue": "Expected 2D array, got scalar array instead:\narray=LassoLars().\nReshape your data either using array.reshape(-1, 1) if your data has a single feature or array.reshape(1, -1) if it contains a single sample.",
     "output_type": "error",
     "traceback": [
      "\u001b[0;31m---------------------------------------------------------------------------\u001b[0m",
      "\u001b[0;31mValueError\u001b[0m                                Traceback (most recent call last)",
      "\u001b[1;32m/Users/yogibexar/codeup-data-science/capstone_readiness/stephen_folder/model_history.ipynb Cell 23\u001b[0m in \u001b[0;36m<cell line: 1>\u001b[0;34m()\u001b[0m\n\u001b[0;32m----> <a href='vscode-notebook-cell:/Users/yogibexar/codeup-data-science/capstone_readiness/stephen_folder/model_history.ipynb#X62sZmlsZQ%3D%3D?line=0'>1</a>\u001b[0m subject_model(df, \u001b[39m'\u001b[39;49m\u001b[39mhistory\u001b[39;49m\u001b[39m'\u001b[39;49m)\n",
      "\u001b[1;32m/Users/yogibexar/codeup-data-science/capstone_readiness/stephen_folder/model_history.ipynb Cell 23\u001b[0m in \u001b[0;36msubject_model\u001b[0;34m(df, target)\u001b[0m\n\u001b[1;32m     <a href='vscode-notebook-cell:/Users/yogibexar/codeup-data-science/capstone_readiness/stephen_folder/model_history.ipynb#X62sZmlsZQ%3D%3D?line=44'>45</a>\u001b[0m \u001b[39m#X_validate_degree2 = lars.transform(X_val)\u001b[39;00m\n\u001b[1;32m     <a href='vscode-notebook-cell:/Users/yogibexar/codeup-data-science/capstone_readiness/stephen_folder/model_history.ipynb#X62sZmlsZQ%3D%3D?line=45'>46</a>\u001b[0m \u001b[39m#X_test_degree2 = lars.transform(X_test)\u001b[39;00m\n\u001b[1;32m     <a href='vscode-notebook-cell:/Users/yogibexar/codeup-data-science/capstone_readiness/stephen_folder/model_history.ipynb#X62sZmlsZQ%3D%3D?line=47'>48</a>\u001b[0m lm2 \u001b[39m=\u001b[39m LinearRegression()\n\u001b[0;32m---> <a href='vscode-notebook-cell:/Users/yogibexar/codeup-data-science/capstone_readiness/stephen_folder/model_history.ipynb#X62sZmlsZQ%3D%3D?line=48'>49</a>\u001b[0m lm2\u001b[39m.\u001b[39;49mfit(X_train_degree2, y_train[target])\n\u001b[1;32m     <a href='vscode-notebook-cell:/Users/yogibexar/codeup-data-science/capstone_readiness/stephen_folder/model_history.ipynb#X62sZmlsZQ%3D%3D?line=50'>51</a>\u001b[0m y_train[\u001b[39mf\u001b[39m\u001b[39m'\u001b[39m\u001b[39m{\u001b[39;00mtarget\u001b[39m}\u001b[39;00m\u001b[39m_pred_lm2\u001b[39m\u001b[39m'\u001b[39m] \u001b[39m=\u001b[39m lm2\u001b[39m.\u001b[39mpredict(X_train_degree2)\n\u001b[1;32m     <a href='vscode-notebook-cell:/Users/yogibexar/codeup-data-science/capstone_readiness/stephen_folder/model_history.ipynb#X62sZmlsZQ%3D%3D?line=51'>52</a>\u001b[0m rmse_train \u001b[39m=\u001b[39m mean_squared_error(y_train[target], y_train[\u001b[39mf\u001b[39m\u001b[39m'\u001b[39m\u001b[39m{\u001b[39;00mtarget\u001b[39m}\u001b[39;00m\u001b[39m_pred_lm2\u001b[39m\u001b[39m'\u001b[39m], squared\u001b[39m=\u001b[39m\u001b[39mFalse\u001b[39;00m)\n",
      "File \u001b[0;32m/opt/homebrew/anaconda3/lib/python3.9/site-packages/sklearn/linear_model/_base.py:684\u001b[0m, in \u001b[0;36mLinearRegression.fit\u001b[0;34m(self, X, y, sample_weight)\u001b[0m\n\u001b[1;32m    680\u001b[0m n_jobs_ \u001b[39m=\u001b[39m \u001b[39mself\u001b[39m\u001b[39m.\u001b[39mn_jobs\n\u001b[1;32m    682\u001b[0m accept_sparse \u001b[39m=\u001b[39m \u001b[39mFalse\u001b[39;00m \u001b[39mif\u001b[39;00m \u001b[39mself\u001b[39m\u001b[39m.\u001b[39mpositive \u001b[39melse\u001b[39;00m [\u001b[39m\"\u001b[39m\u001b[39mcsr\u001b[39m\u001b[39m\"\u001b[39m, \u001b[39m\"\u001b[39m\u001b[39mcsc\u001b[39m\u001b[39m\"\u001b[39m, \u001b[39m\"\u001b[39m\u001b[39mcoo\u001b[39m\u001b[39m\"\u001b[39m]\n\u001b[0;32m--> 684\u001b[0m X, y \u001b[39m=\u001b[39m \u001b[39mself\u001b[39;49m\u001b[39m.\u001b[39;49m_validate_data(\n\u001b[1;32m    685\u001b[0m     X, y, accept_sparse\u001b[39m=\u001b[39;49maccept_sparse, y_numeric\u001b[39m=\u001b[39;49m\u001b[39mTrue\u001b[39;49;00m, multi_output\u001b[39m=\u001b[39;49m\u001b[39mTrue\u001b[39;49;00m\n\u001b[1;32m    686\u001b[0m )\n\u001b[1;32m    688\u001b[0m sample_weight \u001b[39m=\u001b[39m _check_sample_weight(\n\u001b[1;32m    689\u001b[0m     sample_weight, X, dtype\u001b[39m=\u001b[39mX\u001b[39m.\u001b[39mdtype, only_non_negative\u001b[39m=\u001b[39m\u001b[39mTrue\u001b[39;00m\n\u001b[1;32m    690\u001b[0m )\n\u001b[1;32m    692\u001b[0m X, y, X_offset, y_offset, X_scale \u001b[39m=\u001b[39m _preprocess_data(\n\u001b[1;32m    693\u001b[0m     X,\n\u001b[1;32m    694\u001b[0m     y,\n\u001b[0;32m   (...)\u001b[0m\n\u001b[1;32m    698\u001b[0m     sample_weight\u001b[39m=\u001b[39msample_weight,\n\u001b[1;32m    699\u001b[0m )\n",
      "File \u001b[0;32m/opt/homebrew/anaconda3/lib/python3.9/site-packages/sklearn/base.py:596\u001b[0m, in \u001b[0;36mBaseEstimator._validate_data\u001b[0;34m(self, X, y, reset, validate_separately, **check_params)\u001b[0m\n\u001b[1;32m    594\u001b[0m         y \u001b[39m=\u001b[39m check_array(y, input_name\u001b[39m=\u001b[39m\u001b[39m\"\u001b[39m\u001b[39my\u001b[39m\u001b[39m\"\u001b[39m, \u001b[39m*\u001b[39m\u001b[39m*\u001b[39mcheck_y_params)\n\u001b[1;32m    595\u001b[0m     \u001b[39melse\u001b[39;00m:\n\u001b[0;32m--> 596\u001b[0m         X, y \u001b[39m=\u001b[39m check_X_y(X, y, \u001b[39m*\u001b[39;49m\u001b[39m*\u001b[39;49mcheck_params)\n\u001b[1;32m    597\u001b[0m     out \u001b[39m=\u001b[39m X, y\n\u001b[1;32m    599\u001b[0m \u001b[39mif\u001b[39;00m \u001b[39mnot\u001b[39;00m no_val_X \u001b[39mand\u001b[39;00m check_params\u001b[39m.\u001b[39mget(\u001b[39m\"\u001b[39m\u001b[39mensure_2d\u001b[39m\u001b[39m\"\u001b[39m, \u001b[39mTrue\u001b[39;00m):\n",
      "File \u001b[0;32m/opt/homebrew/anaconda3/lib/python3.9/site-packages/sklearn/utils/validation.py:1074\u001b[0m, in \u001b[0;36mcheck_X_y\u001b[0;34m(X, y, accept_sparse, accept_large_sparse, dtype, order, copy, force_all_finite, ensure_2d, allow_nd, multi_output, ensure_min_samples, ensure_min_features, y_numeric, estimator)\u001b[0m\n\u001b[1;32m   1069\u001b[0m         estimator_name \u001b[39m=\u001b[39m _check_estimator_name(estimator)\n\u001b[1;32m   1070\u001b[0m     \u001b[39mraise\u001b[39;00m \u001b[39mValueError\u001b[39;00m(\n\u001b[1;32m   1071\u001b[0m         \u001b[39mf\u001b[39m\u001b[39m\"\u001b[39m\u001b[39m{\u001b[39;00mestimator_name\u001b[39m}\u001b[39;00m\u001b[39m requires y to be passed, but the target y is None\u001b[39m\u001b[39m\"\u001b[39m\n\u001b[1;32m   1072\u001b[0m     )\n\u001b[0;32m-> 1074\u001b[0m X \u001b[39m=\u001b[39m check_array(\n\u001b[1;32m   1075\u001b[0m     X,\n\u001b[1;32m   1076\u001b[0m     accept_sparse\u001b[39m=\u001b[39;49maccept_sparse,\n\u001b[1;32m   1077\u001b[0m     accept_large_sparse\u001b[39m=\u001b[39;49maccept_large_sparse,\n\u001b[1;32m   1078\u001b[0m     dtype\u001b[39m=\u001b[39;49mdtype,\n\u001b[1;32m   1079\u001b[0m     order\u001b[39m=\u001b[39;49morder,\n\u001b[1;32m   1080\u001b[0m     copy\u001b[39m=\u001b[39;49mcopy,\n\u001b[1;32m   1081\u001b[0m     force_all_finite\u001b[39m=\u001b[39;49mforce_all_finite,\n\u001b[1;32m   1082\u001b[0m     ensure_2d\u001b[39m=\u001b[39;49mensure_2d,\n\u001b[1;32m   1083\u001b[0m     allow_nd\u001b[39m=\u001b[39;49mallow_nd,\n\u001b[1;32m   1084\u001b[0m     ensure_min_samples\u001b[39m=\u001b[39;49mensure_min_samples,\n\u001b[1;32m   1085\u001b[0m     ensure_min_features\u001b[39m=\u001b[39;49mensure_min_features,\n\u001b[1;32m   1086\u001b[0m     estimator\u001b[39m=\u001b[39;49mestimator,\n\u001b[1;32m   1087\u001b[0m     input_name\u001b[39m=\u001b[39;49m\u001b[39m\"\u001b[39;49m\u001b[39mX\u001b[39;49m\u001b[39m\"\u001b[39;49m,\n\u001b[1;32m   1088\u001b[0m )\n\u001b[1;32m   1090\u001b[0m y \u001b[39m=\u001b[39m _check_y(y, multi_output\u001b[39m=\u001b[39mmulti_output, y_numeric\u001b[39m=\u001b[39my_numeric, estimator\u001b[39m=\u001b[39mestimator)\n\u001b[1;32m   1092\u001b[0m check_consistent_length(X, y)\n",
      "File \u001b[0;32m/opt/homebrew/anaconda3/lib/python3.9/site-packages/sklearn/utils/validation.py:871\u001b[0m, in \u001b[0;36mcheck_array\u001b[0;34m(array, accept_sparse, accept_large_sparse, dtype, order, copy, force_all_finite, ensure_2d, allow_nd, ensure_min_samples, ensure_min_features, estimator, input_name)\u001b[0m\n\u001b[1;32m    868\u001b[0m \u001b[39mif\u001b[39;00m ensure_2d:\n\u001b[1;32m    869\u001b[0m     \u001b[39m# If input is scalar raise error\u001b[39;00m\n\u001b[1;32m    870\u001b[0m     \u001b[39mif\u001b[39;00m array\u001b[39m.\u001b[39mndim \u001b[39m==\u001b[39m \u001b[39m0\u001b[39m:\n\u001b[0;32m--> 871\u001b[0m         \u001b[39mraise\u001b[39;00m \u001b[39mValueError\u001b[39;00m(\n\u001b[1;32m    872\u001b[0m             \u001b[39m\"\u001b[39m\u001b[39mExpected 2D array, got scalar array instead:\u001b[39m\u001b[39m\\n\u001b[39;00m\u001b[39marray=\u001b[39m\u001b[39m{}\u001b[39;00m\u001b[39m.\u001b[39m\u001b[39m\\n\u001b[39;00m\u001b[39m\"\u001b[39m\n\u001b[1;32m    873\u001b[0m             \u001b[39m\"\u001b[39m\u001b[39mReshape your data either using array.reshape(-1, 1) if \u001b[39m\u001b[39m\"\u001b[39m\n\u001b[1;32m    874\u001b[0m             \u001b[39m\"\u001b[39m\u001b[39myour data has a single feature or array.reshape(1, -1) \u001b[39m\u001b[39m\"\u001b[39m\n\u001b[1;32m    875\u001b[0m             \u001b[39m\"\u001b[39m\u001b[39mif it contains a single sample.\u001b[39m\u001b[39m\"\u001b[39m\u001b[39m.\u001b[39mformat(array)\n\u001b[1;32m    876\u001b[0m         )\n\u001b[1;32m    877\u001b[0m     \u001b[39m# If input is 1D raise error\u001b[39;00m\n\u001b[1;32m    878\u001b[0m     \u001b[39mif\u001b[39;00m array\u001b[39m.\u001b[39mndim \u001b[39m==\u001b[39m \u001b[39m1\u001b[39m:\n",
      "\u001b[0;31mValueError\u001b[0m: Expected 2D array, got scalar array instead:\narray=LassoLars().\nReshape your data either using array.reshape(-1, 1) if your data has a single feature or array.reshape(1, -1) if it contains a single sample."
     ]
    }
   ],
   "source": [
    "subject_model(df, 'history')"
   ]
  },
  {
   "cell_type": "code",
   "execution_count": null,
   "metadata": {},
   "outputs": [],
   "source": [
    "\n",
    "def OLS(X_Train, y_Train, X_Val, y_Val):\n",
    "    \n",
    "\n",
    "    scaler = pre.StandardScaler()\n",
    "    # Note that we only call .fit with the training data,\n",
    "    # but we use .transform to apply the scaling to all the data splits.\n",
    "    X_Train_scaled = scaler.fit(X_Train)\n",
    "\n",
    "    # create the model object\n",
    "    \n",
    "\n",
    "    # fit the model to training data. must specify the column in y_train\n",
    "    glm.fit(x_train_scaled, y_Train)\n",
    "\n",
    "    # predict train\n",
    "    y_pred_train = glm.predict(x_train_scaled)\n",
    "\n",
    "    # evaluate: rmse\n",
    "    mse_train = mean_squared_error(y_Train, y_pred_train)\n",
    "    rmse_train= np.sqrt(mse_train)###############################################\n",
    "\n",
    "    # predict validate\n",
    "    glm.fit(x_validate_scaled, y_Val)\n",
    "    y_pred_val = glm.predict(x_validate_scaled)\n",
    "\n",
    "    # evaluate: rmse\n",
    "    mse_val = mean_squared_error(y_Val, y_pred_val)\n",
    "    rmse_val = np.sqrt(mse_val)##################################################\n",
    "\n",
    "\n",
    "    \n",
    "    return print(\"RMSE for GLM using Tweedie Regressor \\nTraining/In-Sample: \", round(rmse_train), \n",
    "      \"\\nValidation/Out-of-Sample: \", round(rmse_val))"
   ]
  }
 ],
 "metadata": {
  "kernelspec": {
   "display_name": "base",
   "language": "python",
   "name": "python3"
  },
  "language_info": {
   "codemirror_mode": {
    "name": "ipython",
    "version": 3
   },
   "file_extension": ".py",
   "mimetype": "text/x-python",
   "name": "python",
   "nbconvert_exporter": "python",
   "pygments_lexer": "ipython3",
   "version": "3.9.13"
  },
  "orig_nbformat": 4
 },
 "nbformat": 4,
 "nbformat_minor": 2
}
