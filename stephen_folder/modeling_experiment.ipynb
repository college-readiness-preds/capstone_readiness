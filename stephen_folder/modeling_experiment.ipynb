{
 "cells": [
  {
   "cell_type": "code",
   "execution_count": 1,
   "metadata": {},
   "outputs": [],
   "source": [
    "import pandas as pd\n",
    "import numpy as np\n",
    "import acquire as a\n",
    "import prepare as p\n",
    "import explore as e\n",
    "import modeling as m\n",
    "import matplotlib.pyplot as plt\n",
    "from sklearn.model_selection import train_test_split\n",
    "import statistics\n",
    "\n",
    "import sklearn.preprocessing\n",
    "from sklearn.metrics import mean_squared_error\n",
    "from sklearn.linear_model import LinearRegression"
   ]
  },
  {
   "cell_type": "code",
   "execution_count": 2,
   "metadata": {},
   "outputs": [],
   "source": [
    "df = pd.read_csv('school_data.csv')\n",
    "df = p.clean_df()\n",
    "#train, val, test = e.tts(df)"
   ]
  },
  {
   "cell_type": "code",
   "execution_count": null,
   "metadata": {},
   "outputs": [],
   "source": [
    "\n",
    "def tts(df, x= .85, y= .85, z= 1.3, stratify=None):\n",
    "    '''\n",
    "    removing your test data from the data\n",
    "    '''\n",
    "    train_validate, test=train_test_split(df, \n",
    "                                 train_size=.8, \n",
    "                                 random_state=137,\n",
    "                                 stratify=None)\n",
    "    '''\n",
    "    splitting the remaining data into the train and validate groups\n",
    "    '''            \n",
    "    train, validate =train_test_split(train_validate, \n",
    "                                      test_size=.3, \n",
    "                                      random_state=137,\n",
    "                                      stratify=None)\n",
    "    ####\n",
    "    #Validate experiment\n",
    "    validate['teacher_exp_0to5'] = validate['teacher_exp_0to5'] * x\n",
    "    validate['teacher_exp_6to10'] = validate['teacher_exp_6to10'] * y\n",
    "    validate['teacher_exp_11_plus'] = validate['teacher_exp_11_plus'] * z\n",
    "\n",
    "    ####\n",
    "    return train, validate, test"
   ]
  },
  {
   "cell_type": "code",
   "execution_count": null,
   "metadata": {},
   "outputs": [],
   "source": [
    "train, val, test = tts(df)"
   ]
  },
  {
   "cell_type": "code",
   "execution_count": null,
   "metadata": {},
   "outputs": [],
   "source": [
    "\n",
    "def model_results(df):\n",
    "    '''\n",
    "    this function will calculate baseline RMSE for train/validate and generate the linear regression models/preds/RMSE and show the difference\n",
    "    '''\n",
    "    train, val, test= tts(df)\n",
    "    target=['english_1', 'english_2', 'algebra','biology', 'history']\n",
    "    subject=['English 1', 'English 2', 'Algebra', 'Biology', 'U.S. History']\n",
    "\n",
    "    \n",
    "    X_train=train.drop(columns=['biology', 'english_1', 'english_2', 'algebra', 'history', 'school_id'])\n",
    "    X_val=val.drop(columns=['biology', 'english_1', 'english_2', 'algebra', 'history', 'school_id'])\n",
    "    X_test=test.drop(columns=['biology', 'english_1', 'english_2', 'algebra', 'history', 'school_id'])\n",
    "    \n",
    "    #subject = []\n",
    "\n",
    "    lm=LinearRegression()\n",
    "    for t in target:\n",
    "        y_train=pd.DataFrame(train[t])\n",
    "        y_val=pd.DataFrame(val[t])\n",
    "        y_test=pd.DataFrame(test[t])\n",
    "        \n",
    "        lm.fit(X_train, y_train[t])\n",
    "        pred_t= lm.predict(X_train)\n",
    "        pred_v= lm.predict(X_val)\n",
    "\n",
    "        new_list = []\n",
    "        new_list.append(pred_v)\n",
    "        t = new_list\n",
    "\n",
    "\n",
    "    return "
   ]
  },
  {
   "cell_type": "code",
   "execution_count": null,
   "metadata": {},
   "outputs": [],
   "source": [
    "pred_v_alternate = model_results(df)"
   ]
  },
  {
   "cell_type": "code",
   "execution_count": null,
   "metadata": {},
   "outputs": [],
   "source": [
    "pred_v_alternate"
   ]
  },
  {
   "attachments": {},
   "cell_type": "markdown",
   "metadata": {},
   "source": [
    "#### Things to test for changes to see if pass rates are included\n",
    "- student_teacher_ratio\n",
    "- total_expend\n",
    "- drop teacher experience 6 to 10 and 0 to 5 by 5% each, raise exp_11_plus by 10% \n",
    "- ^ can check what's beyond how much total_expend changes with that change (see if changing the mix of teachers results in relatively the same spending but higher passing rates)"
   ]
  },
  {
   "cell_type": "code",
   "execution_count": null,
   "metadata": {},
   "outputs": [],
   "source": [
    "# modify function to input different test sets and calculate mean of predictions\n",
    "# have predictions output for each subject\n",
    "# compare predictions of modified test sets with mean of preds from normal set"
   ]
  },
  {
   "cell_type": "code",
   "execution_count": null,
   "metadata": {},
   "outputs": [],
   "source": []
  },
  {
   "cell_type": "code",
   "execution_count": null,
   "metadata": {},
   "outputs": [],
   "source": []
  },
  {
   "cell_type": "code",
   "execution_count": null,
   "metadata": {},
   "outputs": [],
   "source": []
  },
  {
   "cell_type": "code",
   "execution_count": null,
   "metadata": {},
   "outputs": [],
   "source": []
  },
  {
   "cell_type": "code",
   "execution_count": null,
   "metadata": {},
   "outputs": [],
   "source": [
    "def model_results_plot(df):\n",
    "    '''\n",
    "    this function will calculate baseline RMSE for train/validate and generate the linear regression models/preds/RMSE and show     the difference\n",
    "    '''\n",
    "    train, val, test= tts(df)\n",
    "    target=['english_1', 'english_2', 'algebra','biology', 'history']\n",
    "    subject=['English 1', 'English 2', 'Algebra', 'Biology', 'U.S. History']\n",
    "    English=[]\n",
    "    English_2=[]\n",
    "    Algebra=[]\n",
    "    Biology=[]\n",
    "    US_History=[]\n",
    "    \n",
    "\n",
    "    X_train=train.drop(columns=['biology', 'english_1', 'english_2', 'algebra', 'history', 'school_id'])\n",
    "    X_val=val.drop(columns=['biology', 'english_1', 'english_2', 'algebra', 'history', 'school_id'])\n",
    "    X_test=test.drop(columns=['biology', 'english_1', 'english_2', 'algebra', 'history', 'school_id'])\n",
    "    \n",
    "    lm=LinearRegression()\n",
    "    for t in target:\n",
    "        y_train=pd.DataFrame(train[t])\n",
    "        y_val=pd.DataFrame(val[t])\n",
    "        y_test=pd.DataFrame(test[t])\n",
    "        \n",
    "        lm.fit(X_train, y_train[t])\n",
    "        pred_t= lm.predict(X_train)\n",
    "        pred_v= lm.predict(X_val)\n",
    "        pred_test= lm.predict(X_test)\n",
    "        \n",
    "        #change what's after the append\n",
    "\n",
    "        #train['Baseline Mean'] = train[t].mean()\n",
    "        English.append(pred_v)\n",
    "        English_2.append(pred_v)\n",
    "        Algebra.append(pred_v)\n",
    "        Biology.append(pred_v)\n",
    "        US_History.append(pred_v)\n",
    "\n",
    "\n",
    "    '''    english_avg = stats.mean(English[0])\n",
    "    english_2_avg = stats.mean(English_2[0])\n",
    "    algebra_avg = stats.mean(Algebra[0])\n",
    "    biology_avg = stats.mean(Biology[0])\n",
    "    history_avg = stats.mean(US_History[0])'''\n",
    "\n",
    "\n",
    "\n",
    "    # change names of columns\n",
    "    results=pd.DataFrame( index= subject, data= {\n",
    "        'AVG pass': English.mean(),\n",
    "        'AVG pass': English_2.mean(),\n",
    "        'AVG pass': Algebra.mean(),\n",
    "        'AVG pass': Biology.mean(),\n",
    "        'AVG pass': US_History.mean(),\n",
    "        #'predictions':\n",
    "    })\n",
    "\n",
    "    \n",
    "\n",
    "    return results"
   ]
  },
  {
   "cell_type": "code",
   "execution_count": null,
   "metadata": {},
   "outputs": [],
   "source": [
    "#English, English_2, Algebra, Biology, US_History =\n",
    "\n",
    "model_results_plot(df)"
   ]
  },
  {
   "attachments": {},
   "cell_type": "markdown",
   "metadata": {},
   "source": [
    "- - -"
   ]
  },
  {
   "cell_type": "markdown",
   "metadata": {},
   "source": []
  },
  {
   "cell_type": "markdown",
   "metadata": {},
   "source": []
  },
  {
   "cell_type": "markdown",
   "metadata": {},
   "source": []
  },
  {
   "cell_type": "code",
   "execution_count": 6,
   "metadata": {},
   "outputs": [],
   "source": [
    "\n",
    "def tts(df, x= 1, y= 1, z= 1, stratify=None):\n",
    "    '''\n",
    "    removing your test data from the data\n",
    "    '''\n",
    "    train_validate, test=train_test_split(df, \n",
    "                                 train_size=.8, \n",
    "                                 random_state=137,\n",
    "                                 stratify=None)\n",
    "    '''\n",
    "    splitting the remaining data into the train and validate groups\n",
    "    '''            \n",
    "    train, validate =train_test_split(train_validate, \n",
    "                                      test_size=.3, \n",
    "                                      random_state=137,\n",
    "                                      stratify=None)\n",
    "    ####\n",
    "    #Validate experiment\n",
    "    validate['teacher_exp_0to5'] = validate['teacher_exp_0to5'] * x\n",
    "    validate['teacher_exp_6to10'] = validate['teacher_exp_6to10'] * y\n",
    "    validate['teacher_exp_11_plus'] = validate['teacher_exp_11_plus'] * z\n",
    "\n",
    "    ####\n",
    "    return train, validate, test"
   ]
  },
  {
   "cell_type": "code",
   "execution_count": 4,
   "metadata": {},
   "outputs": [],
   "source": [
    "def model_results_plot(df):\n",
    "    '''\n",
    "    this function will calculate baseline RMSE for train/validate and generate the linear regression models/preds/RMSE and show the difference\n",
    "    '''\n",
    "    train, val, test = tts(df)\n",
    "    target = ['english_1', 'english_2', 'algebra', 'biology', 'history']\n",
    "    subject = ['English 1', 'English 2', 'Algebra', 'Biology', 'U.S. History']\n",
    "    preds = {}\n",
    "\n",
    "    X_train = train.drop(columns=['biology', 'english_1', 'english_2', 'algebra', 'history', 'school_id'])\n",
    "    X_val = val.drop(columns=['biology', 'english_1', 'english_2', 'algebra', 'history', 'school_id'])\n",
    "    #X_test = test.drop(columns=['biology', 'english_1', 'english_2', 'algebra', 'history', 'school_id'])\n",
    "    \n",
    "    for t in target:\n",
    "        y_train = train[t]\n",
    "        y_val = val[t]\n",
    "        y_test = test[t]\n",
    "        \n",
    "        lm = LinearRegression()\n",
    "        lm.fit(X_train, y_train)\n",
    "        preds[t] = {\n",
    "            'train': lm.predict(X_train),\n",
    "            'val': lm.predict(X_val),\n",
    "            #'test': lm.predict(X_test)\n",
    "        }\n",
    "\n",
    "    results = pd.DataFrame(index=subject, columns=['train', 'val'])\n",
    "    for i, s in enumerate(subject):\n",
    "        results.loc[s, 'train'] = preds[target[i]]['train'].mean()\n",
    "        results.loc[s, 'val'] = preds[target[i]]['val'].mean()\n",
    "        #results.loc[s, 'test'] = preds[target[i]]['test'].mean()\n",
    "\n",
    "    return results\n"
   ]
  },
  {
   "cell_type": "code",
   "execution_count": 7,
   "metadata": {},
   "outputs": [
    {
     "data": {
      "text/html": [
       "<div>\n",
       "<style scoped>\n",
       "    .dataframe tbody tr th:only-of-type {\n",
       "        vertical-align: middle;\n",
       "    }\n",
       "\n",
       "    .dataframe tbody tr th {\n",
       "        vertical-align: top;\n",
       "    }\n",
       "\n",
       "    .dataframe thead th {\n",
       "        text-align: right;\n",
       "    }\n",
       "</style>\n",
       "<table border=\"1\" class=\"dataframe\">\n",
       "  <thead>\n",
       "    <tr style=\"text-align: right;\">\n",
       "      <th></th>\n",
       "      <th>train</th>\n",
       "      <th>val</th>\n",
       "    </tr>\n",
       "  </thead>\n",
       "  <tbody>\n",
       "    <tr>\n",
       "      <th>English 1</th>\n",
       "      <td>67.115681</td>\n",
       "      <td>66.499044</td>\n",
       "    </tr>\n",
       "    <tr>\n",
       "      <th>English 2</th>\n",
       "      <td>72.290488</td>\n",
       "      <td>71.634894</td>\n",
       "    </tr>\n",
       "    <tr>\n",
       "      <th>Algebra</th>\n",
       "      <td>73.232648</td>\n",
       "      <td>72.711162</td>\n",
       "    </tr>\n",
       "    <tr>\n",
       "      <th>Biology</th>\n",
       "      <td>82.784062</td>\n",
       "      <td>82.341875</td>\n",
       "    </tr>\n",
       "    <tr>\n",
       "      <th>U.S. History</th>\n",
       "      <td>87.829049</td>\n",
       "      <td>87.51307</td>\n",
       "    </tr>\n",
       "  </tbody>\n",
       "</table>\n",
       "</div>"
      ],
      "text/plain": [
       "                  train        val\n",
       "English 1     67.115681  66.499044\n",
       "English 2     72.290488  71.634894\n",
       "Algebra       73.232648  72.711162\n",
       "Biology       82.784062  82.341875\n",
       "U.S. History  87.829049   87.51307"
      ]
     },
     "execution_count": 7,
     "metadata": {},
     "output_type": "execute_result"
    }
   ],
   "source": [
    "original = model_results_plot(df)\n",
    "original"
   ]
  },
  {
   "cell_type": "code",
   "execution_count": 5,
   "metadata": {},
   "outputs": [
    {
     "data": {
      "text/html": [
       "<div>\n",
       "<style scoped>\n",
       "    .dataframe tbody tr th:only-of-type {\n",
       "        vertical-align: middle;\n",
       "    }\n",
       "\n",
       "    .dataframe tbody tr th {\n",
       "        vertical-align: top;\n",
       "    }\n",
       "\n",
       "    .dataframe thead th {\n",
       "        text-align: right;\n",
       "    }\n",
       "</style>\n",
       "<table border=\"1\" class=\"dataframe\">\n",
       "  <thead>\n",
       "    <tr style=\"text-align: right;\">\n",
       "      <th></th>\n",
       "      <th>train</th>\n",
       "      <th>val</th>\n",
       "    </tr>\n",
       "  </thead>\n",
       "  <tbody>\n",
       "    <tr>\n",
       "      <th>English 1</th>\n",
       "      <td>67.115681</td>\n",
       "      <td>72.01758</td>\n",
       "    </tr>\n",
       "    <tr>\n",
       "      <th>English 2</th>\n",
       "      <td>72.290488</td>\n",
       "      <td>86.007471</td>\n",
       "    </tr>\n",
       "    <tr>\n",
       "      <th>Algebra</th>\n",
       "      <td>73.232648</td>\n",
       "      <td>57.903798</td>\n",
       "    </tr>\n",
       "    <tr>\n",
       "      <th>Biology</th>\n",
       "      <td>82.784062</td>\n",
       "      <td>92.199194</td>\n",
       "    </tr>\n",
       "    <tr>\n",
       "      <th>U.S. History</th>\n",
       "      <td>87.829049</td>\n",
       "      <td>101.937453</td>\n",
       "    </tr>\n",
       "  </tbody>\n",
       "</table>\n",
       "</div>"
      ],
      "text/plain": [
       "                  train         val\n",
       "English 1     67.115681    72.01758\n",
       "English 2     72.290488   86.007471\n",
       "Algebra       73.232648   57.903798\n",
       "Biology       82.784062   92.199194\n",
       "U.S. History  87.829049  101.937453"
      ]
     },
     "execution_count": 5,
     "metadata": {},
     "output_type": "execute_result"
    }
   ],
   "source": [
    "experiment = model_results_plot(df)\n",
    "experiment"
   ]
  },
  {
   "attachments": {},
   "cell_type": "markdown",
   "metadata": {},
   "source": [
    "English 2 scores higher with less tenured teachers\n",
    "Alegbra scores higher with more tenured teachers"
   ]
  },
  {
   "cell_type": "code",
   "execution_count": null,
   "metadata": {},
   "outputs": [],
   "source": []
  }
 ],
 "metadata": {
  "kernelspec": {
   "display_name": "base",
   "language": "python",
   "name": "python3"
  },
  "language_info": {
   "codemirror_mode": {
    "name": "ipython",
    "version": 3
   },
   "file_extension": ".py",
   "mimetype": "text/x-python",
   "name": "python",
   "nbconvert_exporter": "python",
   "pygments_lexer": "ipython3",
   "version": "3.9.13"
  },
  "orig_nbformat": 4
 },
 "nbformat": 4,
 "nbformat_minor": 2
}
