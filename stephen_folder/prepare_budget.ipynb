{
 "cells": [
  {
   "cell_type": "code",
   "execution_count": 1,
   "metadata": {},
   "outputs": [],
   "source": [
    "import pandas as pd\n",
    "import acquire_budget as ab\n",
    "import prepare as p"
   ]
  },
  {
   "cell_type": "code",
   "execution_count": 2,
   "metadata": {},
   "outputs": [],
   "source": [
    "df = ab.get_budgets()"
   ]
  },
  {
   "cell_type": "code",
   "execution_count": 10,
   "metadata": {},
   "outputs": [],
   "source": [
    "def prepare(df):\n",
    "\n",
    "    '''Takes in full dataset cleans and returns only Per Student expenses with index set to spending category'''\n",
    "\n",
    "    df = df.rename(columns= {'Unnamed: 0':'spending_category', '%':'pct'})\n",
    "    df = df.drop(columns= ['AllFunds', '%.1', 'PerStudent.1'])\n",
    "    df = df.iloc[7:38]\n",
    "    df_temp = df.apply(lambda x: x.str.replace(',', ''))\n",
    "    df_temp2 = df_temp.apply(lambda x: x.str.replace('$', ''))\n",
    "    df = df_temp2.apply(lambda x: x.str.replace('%', ''))\n",
    "    df = df[df['spending_category'] != 'Program\\xa0expenditures\\xa0by\\xa0Program (Objects\\xa06100-6400\\xa0only)']\n",
    "    df['GeneralFund'] = pd.to_numeric(df['GeneralFund'])\n",
    "    df['pct'] = pd.to_numeric(df['pct'])\n",
    "    df['PerStudent'] = pd.to_numeric(df['PerStudent'])\n",
    "    df = df.drop(columns= ['GeneralFund', 'pct'])\n",
    "    df.set_index('spending_category', inplace= True)\n",
    "\n",
    "    return df"
   ]
  },
  {
   "cell_type": "code",
   "execution_count": 4,
   "metadata": {},
   "outputs": [
    {
     "name": "stderr",
     "output_type": "stream",
     "text": [
      "/var/folders/4f/nyhvlyfd511911zdvn0fq0_00000gn/T/ipykernel_44723/3995098881.py:9: FutureWarning: The default value of regex will change from True to False in a future version. In addition, single character regular expressions will *not* be treated as literal strings when regex=True.\n",
      "  df_temp2 = df_temp.apply(lambda x: x.str.replace('$', ''))\n"
     ]
    }
   ],
   "source": [
    "df = prepare(df)"
   ]
  },
  {
   "attachments": {},
   "cell_type": "markdown",
   "metadata": {},
   "source": [
    "- Clean whole data frame before splitting\n",
    "\n",
    "- - -"
   ]
  },
  {
   "cell_type": "code",
   "execution_count": 5,
   "metadata": {},
   "outputs": [],
   "source": [
    "# split into two different dataframes, expend_by_function and expend_by_program\n",
    "\n",
    "def function_program_split(df):\n",
    "\n",
    "    ''' Takes in cleaned dataframe and splits into two dataframes, one for expenses by function \n",
    "        and one for expenses by program'''\n",
    "\n",
    "    expend_by_function = df.iloc[1:14]\n",
    "    expend_by_program = df.iloc[14:32]\n",
    "\n",
    "    expend_by_function = expend_by_function.T\n",
    "    expend_by_program = expend_by_program.T\n",
    "\n",
    "    return expend_by_function, expend_by_program\n"
   ]
  },
  {
   "attachments": {},
   "cell_type": "markdown",
   "metadata": {},
   "source": [
    "Train, Test, Split before exploring/clustering"
   ]
  },
  {
   "cell_type": "code",
   "execution_count": 11,
   "metadata": {},
   "outputs": [],
   "source": [
    "expend_by_function, expend_by_program = function_program_split(df)"
   ]
  },
  {
   "cell_type": "code",
   "execution_count": 12,
   "metadata": {},
   "outputs": [
    {
     "data": {
      "text/html": [
       "<div>\n",
       "<style scoped>\n",
       "    .dataframe tbody tr th:only-of-type {\n",
       "        vertical-align: middle;\n",
       "    }\n",
       "\n",
       "    .dataframe tbody tr th {\n",
       "        vertical-align: top;\n",
       "    }\n",
       "\n",
       "    .dataframe thead th {\n",
       "        text-align: right;\n",
       "    }\n",
       "</style>\n",
       "<table border=\"1\" class=\"dataframe\">\n",
       "  <thead>\n",
       "    <tr style=\"text-align: right;\">\n",
       "      <th>spending_category</th>\n",
       "      <th>Instructional Res/Media (12) *</th>\n",
       "      <th>Curriculum/Staff Develop (13) *</th>\n",
       "      <th>Instructional Leadership (21) *</th>\n",
       "      <th>School Leadership (23) *</th>\n",
       "      <th>Guidance/Counseling Svcs (31) *</th>\n",
       "      <th>Social Work Services (32) *</th>\n",
       "      <th>Health Services (33) *</th>\n",
       "      <th>Food (35) **</th>\n",
       "      <th>Extracurricular (36) * **</th>\n",
       "      <th>Plant Maint/Operation (51) * **</th>\n",
       "      <th>Security/Monitoring (52) * **</th>\n",
       "      <th>Data Processing Svcs (53)* **</th>\n",
       "      <th>Total Operating Expenditures</th>\n",
       "    </tr>\n",
       "  </thead>\n",
       "  <tbody>\n",
       "    <tr>\n",
       "      <th>PerStudent</th>\n",
       "      <td>33</td>\n",
       "      <td>5</td>\n",
       "      <td>0</td>\n",
       "      <td>497</td>\n",
       "      <td>395</td>\n",
       "      <td>0</td>\n",
       "      <td>78</td>\n",
       "      <td>0</td>\n",
       "      <td>734</td>\n",
       "      <td>0</td>\n",
       "      <td>0</td>\n",
       "      <td>0</td>\n",
       "      <td>6330</td>\n",
       "    </tr>\n",
       "  </tbody>\n",
       "</table>\n",
       "</div>"
      ],
      "text/plain": [
       "spending_category  Instructional Res/Media (12) *  \\\n",
       "PerStudent                                     33   \n",
       "\n",
       "spending_category  Curriculum/Staff Develop (13) *  \\\n",
       "PerStudent                                       5   \n",
       "\n",
       "spending_category  Instructional Leadership (21) *  School Leadership (23) *  \\\n",
       "PerStudent                                       0                       497   \n",
       "\n",
       "spending_category  Guidance/Counseling Svcs (31) *  \\\n",
       "PerStudent                                     395   \n",
       "\n",
       "spending_category  Social Work Services (32) *  Health Services (33) *  \\\n",
       "PerStudent                                   0                      78   \n",
       "\n",
       "spending_category  Food (35) **  Extracurricular (36) * **  \\\n",
       "PerStudent                    0                        734   \n",
       "\n",
       "spending_category  Plant Maint/Operation (51) * **  \\\n",
       "PerStudent                                       0   \n",
       "\n",
       "spending_category  Security/Monitoring (52) * **  \\\n",
       "PerStudent                                     0   \n",
       "\n",
       "spending_category  Data Processing Svcs (53)* **  Total Operating Expenditures  \n",
       "PerStudent                                     0                          6330  "
      ]
     },
     "execution_count": 12,
     "metadata": {},
     "output_type": "execute_result"
    }
   ],
   "source": [
    "expend_by_function"
   ]
  },
  {
   "attachments": {},
   "cell_type": "markdown",
   "metadata": {},
   "source": [
    "Prepare function done for now, probably need to add school id's later"
   ]
  }
 ],
 "metadata": {
  "kernelspec": {
   "display_name": "base",
   "language": "python",
   "name": "python3"
  },
  "language_info": {
   "codemirror_mode": {
    "name": "ipython",
    "version": 3
   },
   "file_extension": ".py",
   "mimetype": "text/x-python",
   "name": "python",
   "nbconvert_exporter": "python",
   "pygments_lexer": "ipython3",
   "version": "3.9.13"
  },
  "orig_nbformat": 4
 },
 "nbformat": 4,
 "nbformat_minor": 2
}
